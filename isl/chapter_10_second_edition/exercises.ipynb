{
 "cells": [
  {
   "cell_type": "code",
   "execution_count": 1,
   "id": "2ada1b5a",
   "metadata": {},
   "outputs": [],
   "source": [
    "import numpy as np\n",
    "import matplotlib.pyplot as plt \n",
    "from ISLP import load_data\n",
    "from ISLP.torch import SimpleDataModule, SimpleModule,ErrorTracker, rec_num_workers\n",
    "from sklearn.model_selection import train_test_split, GridSearchCV, KFold\n",
    "from sklearn.pipeline import Pipeline\n",
    "from sklearn.compose import ColumnTransformer\n",
    "from sklearn.preprocessing import OneHotEncoder\n",
    "from sklearn.linear_model import LogisticRegression, LogisticRegressionCV\n",
    "from sklearn.metrics import roc_auc_score\n",
    "\n",
    "from pytorch_lightning import Trainer, LightningDataModule, LightningModule\n",
    "import torch\n",
    "from torch.utils.data import TensorDataset, DataLoader\n",
    "from torch.optim import RMSprop\n",
    "from torch import nn\n",
    "\n",
    "from torchmetrics import MeanAbsoluteError , R2Score, Accuracy\n"
   ]
  },
  {
   "cell_type": "code",
   "execution_count": 2,
   "id": "aa3c13ef",
   "metadata": {},
   "outputs": [
    {
     "name": "stdout",
     "output_type": "stream",
     "text": [
      "4.603167257372122\n",
      "-1.66229520235029\n"
     ]
    }
   ],
   "source": [
    "def cost_derivative(beta):\n",
    "    return np.cos(beta) + 1 / 10\n",
    "\n",
    "def cost(beta):\n",
    "    return np.sin(beta) + beta / 10\n",
    "\n",
    "def gradient_descent(beta_init):\n",
    "    beta_old = beta_init\n",
    "    cost_old = cost(beta_old)\n",
    "    eps = np.Inf \n",
    "    \n",
    "    betas = [beta_old]\n",
    "    costs = [cost_old]\n",
    "    \n",
    "    while eps > 0.00001:\n",
    "        beta_new = beta_old - 0.1 * cost_derivative(beta_old)\n",
    "        cost_new = cost(beta_new)\n",
    "        \n",
    "        betas.append(beta_new)\n",
    "        costs.append(cost_new)\n",
    "        \n",
    "        eps = abs(cost_new - cost_old)\n",
    "        cost_old = cost_new\n",
    "        beta_old = beta_new\n",
    "    \n",
    "    return beta_new\n",
    "\n",
    "print(gradient_descent(2.3))\n",
    "print(gradient_descent(1.4))\n",
    "\n",
    "    "
   ]
  },
  {
   "cell_type": "code",
   "execution_count": 3,
   "id": "63696996",
   "metadata": {},
   "outputs": [
    {
     "data": {
      "text/plain": [
       "Text(0, 0.5, 'y')"
      ]
     },
     "execution_count": 3,
     "metadata": {},
     "output_type": "execute_result"
    },
    {
     "data": {
      "image/png": "[encoded data removed]",
      "text/plain": [
       "<Figure size 640x480 with 1 Axes>"
      ]
     },
     "metadata": {},
     "output_type": "display_data"
    }
   ],
   "source": [
    "fig, ax = plt.subplots()\n",
    "x = np.linspace(-6, 6, num=1000)\n",
    "y = np.sin(x) + x / 10\n",
    "ax.plot(x, y)\n",
    "ax.set_xlabel(\"x\")\n",
    "ax.set_ylabel(\"y\")"
   ]
  },
  {
   "cell_type": "code",
   "execution_count": 4,
   "id": "f502c4e2",
   "metadata": {},
   "outputs": [],
   "source": [
    "df = load_data(\"default\")\n",
    "y = df.pop(\"default\")\n",
    "y = np.where(y == \"Yes\", 1, 0)"
   ]
  },
  {
   "cell_type": "code",
   "execution_count": 5,
   "id": "92c0ed39",
   "metadata": {},
   "outputs": [],
   "source": [
    "X_train, X_test, y_train, y_test = train_test_split(df, y, test_size=0.2)"
   ]
  },
  {
   "cell_type": "code",
   "execution_count": 7,
   "id": "f9dbe5a4",
   "metadata": {},
   "outputs": [],
   "source": [
    "one_hot_encoder = ColumnTransformer([(\"one_hot_encoder\", OneHotEncoder(drop=\"first\", sparse_output=False) , [\"student\"])], remainder=\"passthrough\")\n",
    "scaler = StandardScaler()\n",
    "\n",
    "cross_validated_pipeline =  Pipeline(\n",
    "    [\n",
    "        (\"one_hot_encoder\", one_hot_encoder), \n",
    "        (\"scaler\", scaler),\n",
    "        (\"logistic_regression\", LogisticRegressionCV(cv = KFold(5), scoring=\"roc_auc\"))\n",
    "    ]\n",
    ")\n",
    "\n"
   ]
  },
  {
   "cell_type": "code",
   "execution_count": 8,
   "id": "fd93ca35",
   "metadata": {},
   "outputs": [
    {
     "data": {
      "text/html": [
       "<style>#sk-container-id-1 {color: black;background-color: white;}#sk-container-id-1 pre{padding: 0;}#sk-container-id-1 div.sk-toggleable {background-color: white;}#sk-container-id-1 label.sk-toggleable__label {cursor: pointer;display: block;width: 100%;margin-bottom: 0;padding: 0.3em;box-sizing: border-box;text-align: center;}#sk-container-id-1 label.sk-toggleable__label-arrow:before {content: \"▸\";float: left;margin-right: 0.25em;color: #696969;}#sk-container-id-1 label.sk-toggleable__label-arrow:hover:before {color: black;}#sk-container-id-1 div.sk-estimator:hover label.sk-toggleable__label-arrow:before {color: black;}#sk-container-id-1 div.sk-toggleable__content {max-height: 0;max-width: 0;overflow: hidden;text-align: left;background-color: #f0f8ff;}#sk-container-id-1 div.sk-toggleable__content pre {margin: 0.2em;color: black;border-radius: 0.25em;background-color: #f0f8ff;}#sk-container-id-1 input.sk-toggleable__control:checked~div.sk-toggleable__content {max-height: 200px;max-width: 100%;overflow: auto;}#sk-container-id-1 input.sk-toggleable__control:checked~label.sk-toggleable__label-arrow:before {content: \"▾\";}#sk-container-id-1 div.sk-estimator input.sk-toggleable__control:checked~label.sk-toggleable__label {background-color: #d4ebff;}#sk-container-id-1 div.sk-label input.sk-toggleable__control:checked~label.sk-toggleable__label {background-color: #d4ebff;}#sk-container-id-1 input.sk-hidden--visually {border: 0;clip: rect(1px 1px 1px 1px);clip: rect(1px, 1px, 1px, 1px);height: 1px;margin: -1px;overflow: hidden;padding: 0;position: absolute;width: 1px;}#sk-container-id-1 div.sk-estimator {font-family: monospace;background-color: #f0f8ff;border: 1px dotted black;border-radius: 0.25em;box-sizing: border-box;margin-bottom: 0.5em;}#sk-container-id-1 div.sk-estimator:hover {background-color: #d4ebff;}#sk-container-id-1 div.sk-parallel-item::after {content: \"\";width: 100%;border-bottom: 1px solid gray;flex-grow: 1;}#sk-container-id-1 div.sk-label:hover label.sk-toggleable__label {background-color: #d4ebff;}#sk-container-id-1 div.sk-serial::before {content: \"\";position: absolute;border-left: 1px solid gray;box-sizing: border-box;top: 0;bottom: 0;left: 50%;z-index: 0;}#sk-container-id-1 div.sk-serial {display: flex;flex-direction: column;align-items: center;background-color: white;padding-right: 0.2em;padding-left: 0.2em;position: relative;}#sk-container-id-1 div.sk-item {position: relative;z-index: 1;}#sk-container-id-1 div.sk-parallel {display: flex;align-items: stretch;justify-content: center;background-color: white;position: relative;}#sk-container-id-1 div.sk-item::before, #sk-container-id-1 div.sk-parallel-item::before {content: \"\";position: absolute;border-left: 1px solid gray;box-sizing: border-box;top: 0;bottom: 0;left: 50%;z-index: -1;}#sk-container-id-1 div.sk-parallel-item {display: flex;flex-direction: column;z-index: 1;position: relative;background-color: white;}#sk-container-id-1 div.sk-parallel-item:first-child::after {align-self: flex-end;width: 50%;}#sk-container-id-1 div.sk-parallel-item:last-child::after {align-self: flex-start;width: 50%;}#sk-container-id-1 div.sk-parallel-item:only-child::after {width: 0;}#sk-container-id-1 div.sk-dashed-wrapped {border: 1px dashed gray;margin: 0 0.4em 0.5em 0.4em;box-sizing: border-box;padding-bottom: 0.4em;background-color: white;}#sk-container-id-1 div.sk-label label {font-family: monospace;font-weight: bold;display: inline-block;line-height: 1.2em;}#sk-container-id-1 div.sk-label-container {text-align: center;}#sk-container-id-1 div.sk-container {/* jupyter's `normalize.less` sets `[hidden] { display: none; }` but bootstrap.min.css set `[hidden] { display: none !important; }` so we also need the `!important` here to be able to override the default hidden behavior on the sphinx rendered scikit-learn.org. See: https://github.com/scikit-learn/scikit-learn/issues/21755 */display: inline-block !important;position: relative;}#sk-container-id-1 div.sk-text-repr-fallback {display: none;}</style><div id=\"sk-container-id-1\" class=\"sk-top-container\"><div class=\"sk-text-repr-fallback\"><pre>Pipeline(steps=[(&#x27;one_hot_encoder&#x27;,\n",
       "                 ColumnTransformer(remainder=&#x27;passthrough&#x27;,\n",
       "                                   transformers=[(&#x27;one_hot_encoder&#x27;,\n",
       "                                                  OneHotEncoder(drop=&#x27;first&#x27;,\n",
       "                                                                sparse_output=False),\n",
       "                                                  [&#x27;student&#x27;])])),\n",
       "                (&#x27;scaler&#x27;, StandardScaler()),\n",
       "                (&#x27;logistic_regression&#x27;,\n",
       "                 LogisticRegressionCV(cv=KFold(n_splits=5, random_state=None, shuffle=False),\n",
       "                                      scoring=&#x27;roc_auc&#x27;))])</pre><b>In a Jupyter environment, please rerun this cell to show the HTML representation or trust the notebook. <br />On GitHub, the HTML representation is unable to render, please try loading this page with nbviewer.org.</b></div><div class=\"sk-container\" hidden><div class=\"sk-item sk-dashed-wrapped\"><div class=\"sk-label-container\"><div class=\"sk-label sk-toggleable\"><input class=\"sk-toggleable__control sk-hidden--visually\" id=\"sk-estimator-id-1\" type=\"checkbox\" ><label for=\"sk-estimator-id-1\" class=\"sk-toggleable__label sk-toggleable__label-arrow\">Pipeline</label><div class=\"sk-toggleable__content\"><pre>Pipeline(steps=[(&#x27;one_hot_encoder&#x27;,\n",
       "                 ColumnTransformer(remainder=&#x27;passthrough&#x27;,\n",
       "                                   transformers=[(&#x27;one_hot_encoder&#x27;,\n",
       "                                                  OneHotEncoder(drop=&#x27;first&#x27;,\n",
       "                                                                sparse_output=False),\n",
       "                                                  [&#x27;student&#x27;])])),\n",
       "                (&#x27;scaler&#x27;, StandardScaler()),\n",
       "                (&#x27;logistic_regression&#x27;,\n",
       "                 LogisticRegressionCV(cv=KFold(n_splits=5, random_state=None, shuffle=False),\n",
       "                                      scoring=&#x27;roc_auc&#x27;))])</pre></div></div></div><div class=\"sk-serial\"><div class=\"sk-item sk-dashed-wrapped\"><div class=\"sk-label-container\"><div class=\"sk-label sk-toggleable\"><input class=\"sk-toggleable__control sk-hidden--visually\" id=\"sk-estimator-id-2\" type=\"checkbox\" ><label for=\"sk-estimator-id-2\" class=\"sk-toggleable__label sk-toggleable__label-arrow\">one_hot_encoder: ColumnTransformer</label><div class=\"sk-toggleable__content\"><pre>ColumnTransformer(remainder=&#x27;passthrough&#x27;,\n",
       "                  transformers=[(&#x27;one_hot_encoder&#x27;,\n",
       "                                 OneHotEncoder(drop=&#x27;first&#x27;,\n",
       "                                               sparse_output=False),\n",
       "                                 [&#x27;student&#x27;])])</pre></div></div></div><div class=\"sk-parallel\"><div class=\"sk-parallel-item\"><div class=\"sk-item\"><div class=\"sk-label-container\"><div class=\"sk-label sk-toggleable\"><input class=\"sk-toggleable__control sk-hidden--visually\" id=\"sk-estimator-id-3\" type=\"checkbox\" ><label for=\"sk-estimator-id-3\" class=\"sk-toggleable__label sk-toggleable__label-arrow\">one_hot_encoder</label><div class=\"sk-toggleable__content\"><pre>[&#x27;student&#x27;]</pre></div></div></div><div class=\"sk-serial\"><div class=\"sk-item\"><div class=\"sk-estimator sk-toggleable\"><input class=\"sk-toggleable__control sk-hidden--visually\" id=\"sk-estimator-id-4\" type=\"checkbox\" ><label for=\"sk-estimator-id-4\" class=\"sk-toggleable__label sk-toggleable__label-arrow\">OneHotEncoder</label><div class=\"sk-toggleable__content\"><pre>OneHotEncoder(drop=&#x27;first&#x27;, sparse_output=False)</pre></div></div></div></div></div></div><div class=\"sk-parallel-item\"><div class=\"sk-item\"><div class=\"sk-label-container\"><div class=\"sk-label sk-toggleable\"><input class=\"sk-toggleable__control sk-hidden--visually\" id=\"sk-estimator-id-5\" type=\"checkbox\" ><label for=\"sk-estimator-id-5\" class=\"sk-toggleable__label sk-toggleable__label-arrow\">remainder</label><div class=\"sk-toggleable__content\"><pre>[&#x27;balance&#x27;, &#x27;income&#x27;]</pre></div></div></div><div class=\"sk-serial\"><div class=\"sk-item\"><div class=\"sk-estimator sk-toggleable\"><input class=\"sk-toggleable__control sk-hidden--visually\" id=\"sk-estimator-id-6\" type=\"checkbox\" ><label for=\"sk-estimator-id-6\" class=\"sk-toggleable__label sk-toggleable__label-arrow\">passthrough</label><div class=\"sk-toggleable__content\"><pre>passthrough</pre></div></div></div></div></div></div></div></div><div class=\"sk-item\"><div class=\"sk-estimator sk-toggleable\"><input class=\"sk-toggleable__control sk-hidden--visually\" id=\"sk-estimator-id-7\" type=\"checkbox\" ><label for=\"sk-estimator-id-7\" class=\"sk-toggleable__label sk-toggleable__label-arrow\">StandardScaler</label><div class=\"sk-toggleable__content\"><pre>StandardScaler()</pre></div></div></div><div class=\"sk-item\"><div class=\"sk-estimator sk-toggleable\"><input class=\"sk-toggleable__control sk-hidden--visually\" id=\"sk-estimator-id-8\" type=\"checkbox\" ><label for=\"sk-estimator-id-8\" class=\"sk-toggleable__label sk-toggleable__label-arrow\">LogisticRegressionCV</label><div class=\"sk-toggleable__content\"><pre>LogisticRegressionCV(cv=KFold(n_splits=5, random_state=None, shuffle=False),\n",
       "                     scoring=&#x27;roc_auc&#x27;)</pre></div></div></div></div></div></div></div>"
      ],
      "text/plain": [
       "Pipeline(steps=[('one_hot_encoder',\n",
       "                 ColumnTransformer(remainder='passthrough',\n",
       "                                   transformers=[('one_hot_encoder',\n",
       "                                                  OneHotEncoder(drop='first',\n",
       "                                                                sparse_output=False),\n",
       "                                                  ['student'])])),\n",
       "                ('scaler', StandardScaler()),\n",
       "                ('logistic_regression',\n",
       "                 LogisticRegressionCV(cv=KFold(n_splits=5, random_state=None, shuffle=False),\n",
       "                                      scoring='roc_auc'))])"
      ]
     },
     "execution_count": 8,
     "metadata": {},
     "output_type": "execute_result"
    }
   ],
   "source": [
    "cross_validated_pipeline.fit(X_train, y_train)"
   ]
  },
  {
   "cell_type": "code",
   "execution_count": 9,
   "id": "fecf313c",
   "metadata": {},
   "outputs": [
    {
     "data": {
      "text/plain": [
       "0.978370320644448"
      ]
     },
     "execution_count": 9,
     "metadata": {},
     "output_type": "execute_result"
    }
   ],
   "source": [
    "preds = cross_validated_pipeline.predict_proba(X_test)[:, 1]\n",
    "roc_auc_score(y_test, preds)\n"
   ]
  },
  {
   "cell_type": "code",
   "execution_count": 10,
   "id": "d4ed4050",
   "metadata": {},
   "outputs": [],
   "source": [
    "class DefaultDataModule(LightningDataModule):\n",
    "\n",
    "    def __init__(self, train_dataset, validation_dataset, test_dataset,\n",
    "                 batch_size=32, num_workers=4, persistent_workers=True,\n",
    "                 seed=0):\n",
    "\n",
    "        super(DefaultDataModule, self).__init__()\n",
    "\n",
    "\n",
    "        self.train_dataset = train_dataset\n",
    "        self.validation_dataset = validation_dataset\n",
    "        self.test_dataset = test_dataset\n",
    "        self.test_dataset = test_dataset\n",
    "        self.batch_size = batch_size\n",
    "        self.num_workers = num_workers\n",
    "        self.persistent_workers = persistent_workers and num_workers > 0\n",
    "        self.seed = seed\n",
    "\n",
    "    def train_dataloader(self):\n",
    "        return DataLoader(self.train_dataset,\n",
    "                          shuffle=True,\n",
    "                          batch_size=self.batch_size,\n",
    "                          num_workers=self.num_workers,\n",
    "                          persistent_workers=self.persistent_workers)\n",
    "\n",
    "    def val_dataloader(self):\n",
    "        return DataLoader(self.validation_dataset,\n",
    "                          shuffle=False,\n",
    "                          batch_size=self.batch_size,\n",
    "                          num_workers=self.num_workers,\n",
    "                          persistent_workers=self.persistent_workers)\n",
    "\n",
    "    def test_dataloader(self):\n",
    "        return DataLoader(self.test_dataset,\n",
    "                          batch_size=self.batch_size,\n",
    "                          num_workers=self.num_workers,\n",
    "                          persistent_workers=self.persistent_workers)\n",
    "\n",
    "    def predict_dataloader(self):\n",
    "        return DataLoader(self.test_dataset,\n",
    "                          batch_size=len(self.test_dataset),\n",
    "                          num_workers=self.num_workers,\n",
    "                          persistent_workers=self.persistent_workers)\n",
    "\n",
    "\n",
    "class DefaultModule(LightningModule):\n",
    "\n",
    "    \"\"\"\n",
    "    A simple `pytorch_lightning` module for regression problems.\n",
    "    \"\"\"\n",
    "\n",
    "    def __init__(self, input_size):\n",
    "\n",
    "        super(DefaultModule, self).__init__()\n",
    "\n",
    "        \n",
    "        self.flatten = nn.Flatten() \n",
    "        self.sequential = nn.Sequential(\n",
    "            nn.Linear(input_size, 1), \n",
    "#             nn.ReLU(), \n",
    "#             nn.Dropout(0.4), \n",
    "#             nn.Linear(10, 1)\n",
    "        )\n",
    "\n",
    "        self.loss = nn.BCEWithLogitsLoss()\n",
    "        self._optimizer = RMSprop(self.parameters(), lr=0.001)\n",
    "        self.metrics = {\"accuracy\": Accuracy(\"binary\")}\n",
    "        self.pre_process_y_for_metrics=lambda y: y.int()\n",
    "        self.on_epoch = True\n",
    "\n",
    "    def forward(self, x):\n",
    "        x = self.flatten(x)\n",
    "        return torch.flatten(self.sequential(x))\n",
    "\n",
    "    def training_step(self, batch, batch_idx):\n",
    "        x, y = batch\n",
    "        preds = self.forward(x)\n",
    "        loss = self.loss(preds, y)\n",
    "        self.log(\"train_loss\",\n",
    "                 loss,\n",
    "                 on_epoch=self.on_epoch,\n",
    "                 on_step=False)\n",
    "\n",
    "        y_ = self.pre_process_y_for_metrics(y)\n",
    "        for _metric in self.metrics.keys():\n",
    "            self.log(f\"train_{_metric}\",\n",
    "                     self.metrics[_metric](preds, y_),\n",
    "                     on_epoch=self.on_epoch)\n",
    "        return loss\n",
    "\n",
    "    def test_step(self, batch, batch_idx):\n",
    "        x, y = batch\n",
    "\n",
    "    def validation_step(self, batch, batch_idx):\n",
    "        x, y = batch\n",
    "\n",
    "    def predict_step(self, batch, batch_idx):\n",
    "        x, y = batch\n",
    "        return y, self.forward(x)\n",
    "\n",
    "    def configure_optimizers(self):\n",
    "        return self._optimizer\n"
   ]
  },
  {
   "cell_type": "code",
   "execution_count": 11,
   "id": "ea55638e",
   "metadata": {},
   "outputs": [],
   "source": [
    "X_train_with_dummies = one_hot_encoder.fit_transform(X_train)\n",
    "X_train_with_dummies = scaler.fit_transform(X_train_with_dummies)\n",
    "X_test_with_dummies = one_hot_encoder.transform(X_test)\n",
    "X_test_with_dummies = scaler.transform(X_test_with_dummies)"
   ]
  },
  {
   "cell_type": "code",
   "execution_count": 12,
   "id": "7aa28046",
   "metadata": {},
   "outputs": [],
   "source": [
    "X_train_t = torch.tensor(X_train_with_dummies.astype(np.float32))\n",
    "X_test_t = torch.tensor(X_test_with_dummies.astype(np.float32))\n",
    "y_train_t = torch.tensor(y_train.astype(np.float32))\n",
    "y_test_t = torch.tensor(y_test.astype(np.float32))\n",
    "\n",
    "\n",
    "tensor_train = TensorDataset(X_train_t, y_train_t)\n",
    "tensor_test = TensorDataset(X_test_t, y_test_t)\n",
    "\n"
   ]
  },
  {
   "cell_type": "code",
   "execution_count": 13,
   "id": "ebf9e88a",
   "metadata": {},
   "outputs": [],
   "source": [
    "default_data_module = DefaultDataModule(tensor_train, tensor_test, tensor_test)"
   ]
  },
  {
   "cell_type": "code",
   "execution_count": 14,
   "id": "c0ce0856",
   "metadata": {},
   "outputs": [],
   "source": [
    "default_module = DefaultModule(X_train_t.shape[1])"
   ]
  },
  {
   "cell_type": "code",
   "execution_count": 17,
   "id": "453f9688",
   "metadata": {},
   "outputs": [
    {
     "name": "stderr",
     "output_type": "stream",
     "text": [
      "GPU available: False, used: False\n",
      "TPU available: False, using: 0 TPU cores\n",
      "IPU available: False, using: 0 IPUs\n",
      "HPU available: False, using: 0 HPUs\n",
      "\n",
      "  | Name       | Type              | Params\n",
      "-------------------------------------------------\n",
      "0 | flatten    | Flatten           | 0     \n",
      "1 | sequential | Sequential        | 4     \n",
      "2 | loss       | BCEWithLogitsLoss | 0     \n",
      "-------------------------------------------------\n",
      "4         Trainable params\n",
      "0         Non-trainable params\n",
      "4         Total params\n",
      "0.000     Total estimated model params size (MB)\n"
     ]
    },
    {
     "data": {
      "application/vnd.jupyter.widget-view+json": {
       "model_id": "",
       "version_major": 2,
       "version_minor": 0
      },
      "text/plain": [
       "Sanity Checking: 0it [00:00, ?it/s]"
      ]
     },
     "metadata": {},
     "output_type": "display_data"
    },
    {
     "data": {
      "application/vnd.jupyter.widget-view+json": {
       "model_id": "e00d6d8a03d14f17beed03e497eec3d2",
       "version_major": 2,
       "version_minor": 0
      },
      "text/plain": [
       "Training: 0it [00:00, ?it/s]"
      ]
     },
     "metadata": {},
     "output_type": "display_data"
    },
    {
     "data": {
      "application/vnd.jupyter.widget-view+json": {
       "model_id": "",
       "version_major": 2,
       "version_minor": 0
      },
      "text/plain": [
       "Validation: 0it [00:00, ?it/s]"
      ]
     },
     "metadata": {},
     "output_type": "display_data"
    },
    {
     "data": {
      "application/vnd.jupyter.widget-view+json": {
       "model_id": "",
       "version_major": 2,
       "version_minor": 0
      },
      "text/plain": [
       "Validation: 0it [00:00, ?it/s]"
      ]
     },
     "metadata": {},
     "output_type": "display_data"
    },
    {
     "data": {
      "application/vnd.jupyter.widget-view+json": {
       "model_id": "",
       "version_major": 2,
       "version_minor": 0
      },
      "text/plain": [
       "Validation: 0it [00:00, ?it/s]"
      ]
     },
     "metadata": {},
     "output_type": "display_data"
    },
    {
     "data": {
      "application/vnd.jupyter.widget-view+json": {
       "model_id": "",
       "version_major": 2,
       "version_minor": 0
      },
      "text/plain": [
       "Validation: 0it [00:00, ?it/s]"
      ]
     },
     "metadata": {},
     "output_type": "display_data"
    }
   ],
   "source": [
    "default_trainer = Trainer(\n",
    "    deterministic=True, max_epochs=20,\n",
    "    log_every_n_steps=5, callbacks=[ErrorTracker()]\n",
    ")\n",
    "default_trainer.fit(default_module, datamodule=default_data_module)"
   ]
  },
  {
   "cell_type": "code",
   "execution_count": 479,
   "id": "18ea1c25",
   "metadata": {},
   "outputs": [
    {
     "data": {
      "application/vnd.jupyter.widget-view+json": {
       "model_id": "652d087a16fc4d4aa0801f348e0cf155",
       "version_major": 2,
       "version_minor": 0
      },
      "text/plain": [
       "Testing: 0it [00:00, ?it/s]"
      ]
     },
     "metadata": {},
     "output_type": "display_data"
    },
    {
     "name": "stdout",
     "output_type": "stream",
     "text": [
      "────────────────────────────────────────────────────────────────────────────────────────────────────────────────────────\n",
      "Runningstage.testing metric      DataLoader 0\n",
      "────────────────────────────────────────────────────────────────────────────────────────────────────────────────────────\n",
      "      test_accuracy          0.968500018119812\n",
      "        test_loss           0.1681278795003891\n",
      "────────────────────────────────────────────────────────────────────────────────────────────────────────────────────────\n"
     ]
    },
    {
     "data": {
      "text/plain": [
       "[{'test_loss': 0.1681278795003891, 'test_accuracy': 0.968500018119812}]"
      ]
     },
     "execution_count": 479,
     "metadata": {},
     "output_type": "execute_result"
    }
   ],
   "source": [
    "default_trainer.test(default_module, datamodule=default_data_module)"
   ]
  },
  {
   "cell_type": "code",
   "execution_count": 480,
   "id": "6641943d",
   "metadata": {},
   "outputs": [
    {
     "data": {
      "text/plain": [
       "DefaultModule(\n",
       "  (flatten): Flatten(start_dim=1, end_dim=-1)\n",
       "  (sequential): Sequential(\n",
       "    (0): Linear(in_features=3, out_features=10, bias=True)\n",
       "    (1): ReLU()\n",
       "    (2): Dropout(p=0.4, inplace=False)\n",
       "    (3): Linear(in_features=10, out_features=1, bias=True)\n",
       "  )\n",
       "  (loss): BCEWithLogitsLoss()\n",
       ")"
      ]
     },
     "execution_count": 480,
     "metadata": {},
     "output_type": "execute_result"
    }
   ],
   "source": [
    "default_module.eval()"
   ]
  },
  {
   "cell_type": "code",
   "execution_count": 481,
   "id": "0010eee9",
   "metadata": {},
   "outputs": [
    {
     "data": {
      "text/plain": [
       "9.50509"
      ]
     },
     "execution_count": 481,
     "metadata": {},
     "output_type": "execute_result"
    }
   ],
   "source": [
    "preds = default_module(X_train_t).detach().numpy()\n",
    "preds.max()"
   ]
  },
  {
   "cell_type": "code",
   "execution_count": 482,
   "id": "3ee3eabb",
   "metadata": {},
   "outputs": [
    {
     "data": {
      "text/plain": [
       "0.569409228115567"
      ]
     },
     "execution_count": 482,
     "metadata": {},
     "output_type": "execute_result"
    }
   ],
   "source": [
    "roc_auc_score(y_train, preds)"
   ]
  },
  {
   "cell_type": "code",
   "execution_count": null,
   "id": "2f512d8b",
   "metadata": {},
   "outputs": [],
   "source": []
  }
 ],
 "metadata": {
  "kernelspec": {
   "display_name": "Python 3 (ipykernel)",
   "language": "python",
   "name": "python3"
  },
  "language_info": {
   "codemirror_mode": {
    "name": "ipython",
    "version": 3
   },
   "file_extension": ".py",
   "mimetype": "text/x-python",
   "name": "python",
   "nbconvert_exporter": "python",
   "pygments_lexer": "ipython3",
   "version": "3.11.3"
  }
 },
 "nbformat": 4,
 "nbformat_minor": 5
}
