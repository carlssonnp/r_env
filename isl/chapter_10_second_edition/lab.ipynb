{
 "cells": [
  {
   "cell_type": "code",
   "execution_count": 3,
   "id": "e21a016a",
   "metadata": {},
   "outputs": [],
   "source": [
    "from ISLP import load_data\n",
    "from ISLP.models import ModelSpec as MS \n",
    "from ISLP.torch import SimpleDataModule, SimpleModule,ErrorTracker, rec_num_workers\n",
    "from ISLP.torch.imdb import load_lookup, load_tensor, load_sparse, load_sequential\n",
    "\n",
    "import numpy as np \n",
    "import pandas as pd\n",
    "\n",
    "from matplotlib.pyplot import subplots \n",
    "from matplotlib.pyplot import imshow\n",
    "\n",
    "from sklearn.linear_model import LinearRegression, LogisticRegression, Lasso, LassoCV, Ridge\n",
    "from sklearn.preprocessing import StandardScaler \n",
    "from sklearn.model_selection import KFold\n",
    "from sklearn.pipeline import Pipeline\n",
    "from sklearn.compose import ColumnTransformer\n",
    "from sklearn.model_selection import train_test_split, GridSearchCV\n",
    "from sklearn.preprocessing import OneHotEncoder\n",
    "\n",
    "import torch\n",
    "from torch import nn\n",
    "from torch.optim import RMSprop\n",
    "from torch.utils.data import TensorDataset, DataLoader\n",
    "\n",
    "from torchmetrics import (MeanAbsoluteError , R2Score, Accuracy)\n",
    "\n",
    "from torchinfo import summary\n",
    "\n",
    "from torchvision.io import read_image\n",
    "from torchvision.datasets import MNIST, CIFAR100 \n",
    "from torchvision.models import resnet50,ResNet50_Weights\n",
    "from torchvision.transforms import Resize, Normalize , CenterCrop , ToTensor\n",
    "\n",
    "from pytorch_lightning import Trainer, LightningDataModule, LightningModule\n",
    "from pytorch_lightning.loggers import CSVLogger\n",
    "from pytorch_lightning.utilities.seed import seed_everything\n",
    "from pytorch_lightning.utilities.distributed import rank_zero_only\n",
    "\n",
    "import json \n",
    "from glob import glob \n"
   ]
  },
  {
   "cell_type": "code",
   "execution_count": 2,
   "id": "53b84523",
   "metadata": {},
   "outputs": [],
   "source": [
    "from warnings import filterwarnings\n",
    "filterwarnings(\"ignore\")"
   ]
  },
  {
   "cell_type": "code",
   "execution_count": 3,
   "id": "e3d51591",
   "metadata": {},
   "outputs": [
    {
     "name": "stderr",
     "output_type": "stream",
     "text": [
      "Global seed set to 0\n"
     ]
    }
   ],
   "source": [
    "seed_everything(0, workers=True) \n",
    "torch.use_deterministic_algorithms(True, warn_only=True)"
   ]
  },
  {
   "cell_type": "markdown",
   "id": "c41d273a",
   "metadata": {},
   "source": [
    "### 10.9.1"
   ]
  },
  {
   "cell_type": "code",
   "execution_count": 318,
   "id": "ecec3d41",
   "metadata": {},
   "outputs": [],
   "source": [
    "hitters = load_data(\"Hitters\").dropna()\n",
    "hitters.head()\n",
    "y = hitters.pop(\"Salary\")\n",
    "\n",
    "np.random.seed(1)\n",
    "X_train, X_test, y_train, y_test = train_test_split(hitters, y)\n",
    "\n"
   ]
  },
  {
   "cell_type": "code",
   "execution_count": 319,
   "id": "a9192bf2",
   "metadata": {},
   "outputs": [
    {
     "data": {
      "text/html": [
       "<style>#sk-container-id-30 {color: black;background-color: white;}#sk-container-id-30 pre{padding: 0;}#sk-container-id-30 div.sk-toggleable {background-color: white;}#sk-container-id-30 label.sk-toggleable__label {cursor: pointer;display: block;width: 100%;margin-bottom: 0;padding: 0.3em;box-sizing: border-box;text-align: center;}#sk-container-id-30 label.sk-toggleable__label-arrow:before {content: \"▸\";float: left;margin-right: 0.25em;color: #696969;}#sk-container-id-30 label.sk-toggleable__label-arrow:hover:before {color: black;}#sk-container-id-30 div.sk-estimator:hover label.sk-toggleable__label-arrow:before {color: black;}#sk-container-id-30 div.sk-toggleable__content {max-height: 0;max-width: 0;overflow: hidden;text-align: left;background-color: #f0f8ff;}#sk-container-id-30 div.sk-toggleable__content pre {margin: 0.2em;color: black;border-radius: 0.25em;background-color: #f0f8ff;}#sk-container-id-30 input.sk-toggleable__control:checked~div.sk-toggleable__content {max-height: 200px;max-width: 100%;overflow: auto;}#sk-container-id-30 input.sk-toggleable__control:checked~label.sk-toggleable__label-arrow:before {content: \"▾\";}#sk-container-id-30 div.sk-estimator input.sk-toggleable__control:checked~label.sk-toggleable__label {background-color: #d4ebff;}#sk-container-id-30 div.sk-label input.sk-toggleable__control:checked~label.sk-toggleable__label {background-color: #d4ebff;}#sk-container-id-30 input.sk-hidden--visually {border: 0;clip: rect(1px 1px 1px 1px);clip: rect(1px, 1px, 1px, 1px);height: 1px;margin: -1px;overflow: hidden;padding: 0;position: absolute;width: 1px;}#sk-container-id-30 div.sk-estimator {font-family: monospace;background-color: #f0f8ff;border: 1px dotted black;border-radius: 0.25em;box-sizing: border-box;margin-bottom: 0.5em;}#sk-container-id-30 div.sk-estimator:hover {background-color: #d4ebff;}#sk-container-id-30 div.sk-parallel-item::after {content: \"\";width: 100%;border-bottom: 1px solid gray;flex-grow: 1;}#sk-container-id-30 div.sk-label:hover label.sk-toggleable__label {background-color: #d4ebff;}#sk-container-id-30 div.sk-serial::before {content: \"\";position: absolute;border-left: 1px solid gray;box-sizing: border-box;top: 0;bottom: 0;left: 50%;z-index: 0;}#sk-container-id-30 div.sk-serial {display: flex;flex-direction: column;align-items: center;background-color: white;padding-right: 0.2em;padding-left: 0.2em;position: relative;}#sk-container-id-30 div.sk-item {position: relative;z-index: 1;}#sk-container-id-30 div.sk-parallel {display: flex;align-items: stretch;justify-content: center;background-color: white;position: relative;}#sk-container-id-30 div.sk-item::before, #sk-container-id-30 div.sk-parallel-item::before {content: \"\";position: absolute;border-left: 1px solid gray;box-sizing: border-box;top: 0;bottom: 0;left: 50%;z-index: -1;}#sk-container-id-30 div.sk-parallel-item {display: flex;flex-direction: column;z-index: 1;position: relative;background-color: white;}#sk-container-id-30 div.sk-parallel-item:first-child::after {align-self: flex-end;width: 50%;}#sk-container-id-30 div.sk-parallel-item:last-child::after {align-self: flex-start;width: 50%;}#sk-container-id-30 div.sk-parallel-item:only-child::after {width: 0;}#sk-container-id-30 div.sk-dashed-wrapped {border: 1px dashed gray;margin: 0 0.4em 0.5em 0.4em;box-sizing: border-box;padding-bottom: 0.4em;background-color: white;}#sk-container-id-30 div.sk-label label {font-family: monospace;font-weight: bold;display: inline-block;line-height: 1.2em;}#sk-container-id-30 div.sk-label-container {text-align: center;}#sk-container-id-30 div.sk-container {/* jupyter's `normalize.less` sets `[hidden] { display: none; }` but bootstrap.min.css set `[hidden] { display: none !important; }` so we also need the `!important` here to be able to override the default hidden behavior on the sphinx rendered scikit-learn.org. See: https://github.com/scikit-learn/scikit-learn/issues/21755 */display: inline-block !important;position: relative;}#sk-container-id-30 div.sk-text-repr-fallback {display: none;}</style><div id=\"sk-container-id-30\" class=\"sk-top-container\"><div class=\"sk-text-repr-fallback\"><pre>GridSearchCV(cv=5,\n",
       "             estimator=Pipeline(steps=[(&#x27;one hot encoding&#x27;,\n",
       "                                        ColumnTransformer(remainder=&#x27;passthrough&#x27;,\n",
       "                                                          transformers=[(&#x27;ohe&#x27;,\n",
       "                                                                         OneHotEncoder(drop=&#x27;first&#x27;,\n",
       "                                                                                       sparse_output=False),\n",
       "                                                                         [&#x27;League&#x27;,\n",
       "                                                                          &#x27;Division&#x27;,\n",
       "                                                                          &#x27;NewLeague&#x27;])],\n",
       "                                                          verbose_feature_names_out=False)),\n",
       "                                       (&#x27;standard scaler&#x27;, StandardScaler()),\n",
       "                                       (&#x27;model&#x27;, Ridge())]),\n",
       "             param_grid={&#x27;model__alpha&#x27;: array([2.25481864e+05, 1....\n",
       "       4.74617710e-03, 3.76126418e-03, 2.98073754e-03, 2.36218352e-03,\n",
       "       1.87199005e-03, 1.48352010e-03, 1.17566431e-03, 9.31693857e-04,\n",
       "       7.38351448e-04, 5.85130896e-04, 4.63706228e-04, 3.67479256e-04,\n",
       "       2.91221026e-04, 2.30787682e-04, 1.82895291e-04, 1.44941391e-04,\n",
       "       1.14863573e-04, 9.10274176e-05, 7.21376717e-05, 5.71678711e-05,\n",
       "       4.53045602e-05, 3.59030892e-05, 2.84525842e-05, 2.25481864e-05])},\n",
       "             scoring=&#x27;neg_mean_squared_error&#x27;)</pre><b>In a Jupyter environment, please rerun this cell to show the HTML representation or trust the notebook. <br />On GitHub, the HTML representation is unable to render, please try loading this page with nbviewer.org.</b></div><div class=\"sk-container\" hidden><div class=\"sk-item sk-dashed-wrapped\"><div class=\"sk-label-container\"><div class=\"sk-label sk-toggleable\"><input class=\"sk-toggleable__control sk-hidden--visually\" id=\"sk-estimator-id-185\" type=\"checkbox\" ><label for=\"sk-estimator-id-185\" class=\"sk-toggleable__label sk-toggleable__label-arrow\">GridSearchCV</label><div class=\"sk-toggleable__content\"><pre>GridSearchCV(cv=5,\n",
       "             estimator=Pipeline(steps=[(&#x27;one hot encoding&#x27;,\n",
       "                                        ColumnTransformer(remainder=&#x27;passthrough&#x27;,\n",
       "                                                          transformers=[(&#x27;ohe&#x27;,\n",
       "                                                                         OneHotEncoder(drop=&#x27;first&#x27;,\n",
       "                                                                                       sparse_output=False),\n",
       "                                                                         [&#x27;League&#x27;,\n",
       "                                                                          &#x27;Division&#x27;,\n",
       "                                                                          &#x27;NewLeague&#x27;])],\n",
       "                                                          verbose_feature_names_out=False)),\n",
       "                                       (&#x27;standard scaler&#x27;, StandardScaler()),\n",
       "                                       (&#x27;model&#x27;, Ridge())]),\n",
       "             param_grid={&#x27;model__alpha&#x27;: array([2.25481864e+05, 1....\n",
       "       4.74617710e-03, 3.76126418e-03, 2.98073754e-03, 2.36218352e-03,\n",
       "       1.87199005e-03, 1.48352010e-03, 1.17566431e-03, 9.31693857e-04,\n",
       "       7.38351448e-04, 5.85130896e-04, 4.63706228e-04, 3.67479256e-04,\n",
       "       2.91221026e-04, 2.30787682e-04, 1.82895291e-04, 1.44941391e-04,\n",
       "       1.14863573e-04, 9.10274176e-05, 7.21376717e-05, 5.71678711e-05,\n",
       "       4.53045602e-05, 3.59030892e-05, 2.84525842e-05, 2.25481864e-05])},\n",
       "             scoring=&#x27;neg_mean_squared_error&#x27;)</pre></div></div></div><div class=\"sk-parallel\"><div class=\"sk-parallel-item\"><div class=\"sk-item\"><div class=\"sk-label-container\"><div class=\"sk-label sk-toggleable\"><input class=\"sk-toggleable__control sk-hidden--visually\" id=\"sk-estimator-id-186\" type=\"checkbox\" ><label for=\"sk-estimator-id-186\" class=\"sk-toggleable__label sk-toggleable__label-arrow\">estimator: Pipeline</label><div class=\"sk-toggleable__content\"><pre>Pipeline(steps=[(&#x27;one hot encoding&#x27;,\n",
       "                 ColumnTransformer(remainder=&#x27;passthrough&#x27;,\n",
       "                                   transformers=[(&#x27;ohe&#x27;,\n",
       "                                                  OneHotEncoder(drop=&#x27;first&#x27;,\n",
       "                                                                sparse_output=False),\n",
       "                                                  [&#x27;League&#x27;, &#x27;Division&#x27;,\n",
       "                                                   &#x27;NewLeague&#x27;])],\n",
       "                                   verbose_feature_names_out=False)),\n",
       "                (&#x27;standard scaler&#x27;, StandardScaler()), (&#x27;model&#x27;, Ridge())])</pre></div></div></div><div class=\"sk-serial\"><div class=\"sk-item\"><div class=\"sk-serial\"><div class=\"sk-item sk-dashed-wrapped\"><div class=\"sk-label-container\"><div class=\"sk-label sk-toggleable\"><input class=\"sk-toggleable__control sk-hidden--visually\" id=\"sk-estimator-id-187\" type=\"checkbox\" ><label for=\"sk-estimator-id-187\" class=\"sk-toggleable__label sk-toggleable__label-arrow\">one hot encoding: ColumnTransformer</label><div class=\"sk-toggleable__content\"><pre>ColumnTransformer(remainder=&#x27;passthrough&#x27;,\n",
       "                  transformers=[(&#x27;ohe&#x27;,\n",
       "                                 OneHotEncoder(drop=&#x27;first&#x27;,\n",
       "                                               sparse_output=False),\n",
       "                                 [&#x27;League&#x27;, &#x27;Division&#x27;, &#x27;NewLeague&#x27;])],\n",
       "                  verbose_feature_names_out=False)</pre></div></div></div><div class=\"sk-parallel\"><div class=\"sk-parallel-item\"><div class=\"sk-item\"><div class=\"sk-label-container\"><div class=\"sk-label sk-toggleable\"><input class=\"sk-toggleable__control sk-hidden--visually\" id=\"sk-estimator-id-188\" type=\"checkbox\" ><label for=\"sk-estimator-id-188\" class=\"sk-toggleable__label sk-toggleable__label-arrow\">ohe</label><div class=\"sk-toggleable__content\"><pre>[&#x27;League&#x27;, &#x27;Division&#x27;, &#x27;NewLeague&#x27;]</pre></div></div></div><div class=\"sk-serial\"><div class=\"sk-item\"><div class=\"sk-estimator sk-toggleable\"><input class=\"sk-toggleable__control sk-hidden--visually\" id=\"sk-estimator-id-189\" type=\"checkbox\" ><label for=\"sk-estimator-id-189\" class=\"sk-toggleable__label sk-toggleable__label-arrow\">OneHotEncoder</label><div class=\"sk-toggleable__content\"><pre>OneHotEncoder(drop=&#x27;first&#x27;, sparse_output=False)</pre></div></div></div></div></div></div><div class=\"sk-parallel-item\"><div class=\"sk-item\"><div class=\"sk-label-container\"><div class=\"sk-label sk-toggleable\"><input class=\"sk-toggleable__control sk-hidden--visually\" id=\"sk-estimator-id-190\" type=\"checkbox\" ><label for=\"sk-estimator-id-190\" class=\"sk-toggleable__label sk-toggleable__label-arrow\">remainder</label><div class=\"sk-toggleable__content\"><pre>[&#x27;AtBat&#x27;, &#x27;Hits&#x27;, &#x27;HmRun&#x27;, &#x27;Runs&#x27;, &#x27;RBI&#x27;, &#x27;Walks&#x27;, &#x27;Years&#x27;, &#x27;CAtBat&#x27;, &#x27;CHits&#x27;, &#x27;CHmRun&#x27;, &#x27;CRuns&#x27;, &#x27;CRBI&#x27;, &#x27;CWalks&#x27;, &#x27;PutOuts&#x27;, &#x27;Assists&#x27;, &#x27;Errors&#x27;]</pre></div></div></div><div class=\"sk-serial\"><div class=\"sk-item\"><div class=\"sk-estimator sk-toggleable\"><input class=\"sk-toggleable__control sk-hidden--visually\" id=\"sk-estimator-id-191\" type=\"checkbox\" ><label for=\"sk-estimator-id-191\" class=\"sk-toggleable__label sk-toggleable__label-arrow\">passthrough</label><div class=\"sk-toggleable__content\"><pre>passthrough</pre></div></div></div></div></div></div></div></div><div class=\"sk-item\"><div class=\"sk-estimator sk-toggleable\"><input class=\"sk-toggleable__control sk-hidden--visually\" id=\"sk-estimator-id-192\" type=\"checkbox\" ><label for=\"sk-estimator-id-192\" class=\"sk-toggleable__label sk-toggleable__label-arrow\">StandardScaler</label><div class=\"sk-toggleable__content\"><pre>StandardScaler()</pre></div></div></div><div class=\"sk-item\"><div class=\"sk-estimator sk-toggleable\"><input class=\"sk-toggleable__control sk-hidden--visually\" id=\"sk-estimator-id-193\" type=\"checkbox\" ><label for=\"sk-estimator-id-193\" class=\"sk-toggleable__label sk-toggleable__label-arrow\">Ridge</label><div class=\"sk-toggleable__content\"><pre>Ridge()</pre></div></div></div></div></div></div></div></div></div></div></div></div>"
      ],
      "text/plain": [
       "GridSearchCV(cv=5,\n",
       "             estimator=Pipeline(steps=[('one hot encoding',\n",
       "                                        ColumnTransformer(remainder='passthrough',\n",
       "                                                          transformers=[('ohe',\n",
       "                                                                         OneHotEncoder(drop='first',\n",
       "                                                                                       sparse_output=False),\n",
       "                                                                         ['League',\n",
       "                                                                          'Division',\n",
       "                                                                          'NewLeague'])],\n",
       "                                                          verbose_feature_names_out=False)),\n",
       "                                       ('standard scaler', StandardScaler()),\n",
       "                                       ('model', Ridge())]),\n",
       "             param_grid={'model__alpha': array([2.25481864e+05, 1....\n",
       "       4.74617710e-03, 3.76126418e-03, 2.98073754e-03, 2.36218352e-03,\n",
       "       1.87199005e-03, 1.48352010e-03, 1.17566431e-03, 9.31693857e-04,\n",
       "       7.38351448e-04, 5.85130896e-04, 4.63706228e-04, 3.67479256e-04,\n",
       "       2.91221026e-04, 2.30787682e-04, 1.82895291e-04, 1.44941391e-04,\n",
       "       1.14863573e-04, 9.10274176e-05, 7.21376717e-05, 5.71678711e-05,\n",
       "       4.53045602e-05, 3.59030892e-05, 2.84525842e-05, 2.25481864e-05])},\n",
       "             scoring='neg_mean_squared_error')"
      ]
     },
     "execution_count": 319,
     "metadata": {},
     "output_type": "execute_result"
    }
   ],
   "source": [
    "categorical_cols = [\n",
    "    col for col, dtype in \n",
    "    zip(X_train.columns, X_train.dtypes) if isinstance(dtype, pd.CategoricalDtype)\n",
    "]\n",
    "\n",
    "one_hot_encoder_transformer = ColumnTransformer(\n",
    "    [(\"ohe\", OneHotEncoder(sparse_output=False, drop=\"first\"), categorical_cols)],\n",
    "    remainder = \"passthrough\", verbose_feature_names_out = False\n",
    ")\n",
    "lasso_pipeline = Pipeline(\n",
    "    [\n",
    "        (\"one hot encoding\", one_hot_encoder_transformer), \n",
    "        (\"standard scaler\", StandardScaler()),\n",
    "        (\"model\", LassoCV())\n",
    "    ]\n",
    ")\n",
    "\n",
    "ols_pipeline = Pipeline(\n",
    "    [\n",
    "        (\"one hot encoding\", one_hot_encoder_transformer),\n",
    "        (\"model\", LinearRegression())\n",
    "    ]\n",
    ")\n",
    "\n",
    "ridge_pipeline = Pipeline(\n",
    "    [\n",
    "        (\"one hot encoding\", one_hot_encoder_transformer), \n",
    "        (\"standard scaler\", StandardScaler()),\n",
    "        (\"model\", Ridge())\n",
    "    ]\n",
    ")\n",
    "\n",
    "lambdas = 10 ** np.linspace(8, -2, 100) / y_train.std()\n",
    "param_grid = {\"model__alpha\": lambdas}\n",
    "\n",
    "grid = GridSearchCV(\n",
    "    ridge_pipeline,\n",
    "    param_grid,\n",
    "    cv=5, \n",
    "    scoring=\"neg_mean_squared_error\"\n",
    ")\n",
    "\n",
    "\n",
    "lasso_pipeline.fit(X_train, y_train)\n",
    "ols_pipeline.fit(X_train, y_train)\n",
    "grid.fit(X_train, y_train)\n"
   ]
  },
  {
   "cell_type": "code",
   "execution_count": 321,
   "id": "dcf95d84",
   "metadata": {},
   "outputs": [
    {
     "name": "stdout",
     "output_type": "stream",
     "text": [
      "131657.12205818866\n",
      "134102.78093370935\n",
      "128750.19579951474\n"
     ]
    }
   ],
   "source": [
    "preds_lasso = lasso_pipeline.predict(X_test)\n",
    "preds_ols = ols_pipeline.predict(X_test)\n",
    "preds_ridge = grid.predict(X_test)\n",
    "\n",
    "print(np.mean((preds_lasso - y_test) ** 2))\n",
    "print(np.mean((preds_ols - y_test) ** 2))\n",
    "print(np.mean((preds_ridge - y_test) ** 2))"
   ]
  },
  {
   "cell_type": "code",
   "execution_count": 322,
   "id": "407e128d",
   "metadata": {},
   "outputs": [],
   "source": [
    "class HittersModel(nn.Module):\n",
    "    def __init__(self, input_size): \n",
    "        super(HittersModel, self).__init__() \n",
    "        self.flatten = nn.Flatten() \n",
    "        self.sequential = nn.Sequential(\n",
    "            nn.Linear(input_size, 50), nn.ReLU(), nn.Dropout(0.4), nn.Linear(50, 1)\n",
    "        )\n",
    "    def forward(self, x):\n",
    "        x = self.flatten(x)\n",
    "        return torch.flatten(self.sequential(x))"
   ]
  },
  {
   "cell_type": "code",
   "execution_count": 323,
   "id": "90eb0f90",
   "metadata": {},
   "outputs": [],
   "source": [
    "X_train_for_nn = lasso_pipeline[:2].transform(X_train)\n",
    "X_test_for_nn = lasso_pipeline[:2].transform(X_test)\n",
    "\n",
    "X_train_for_nn_torch = torch.tensor(X_train_for_nn.astype(np.float32))\n",
    "X_test_for_nn_torch = torch.tensor(X_test_for_nn.astype(np.float32))\n",
    "\n",
    "y_train_for_nn_torch = torch.tensor(y_train.astype(np.float32).values)\n",
    "y_test_for_nn_torch = torch.tensor(y_test.astype(np.float32).values)\n",
    "\n",
    "hitters_train = TensorDataset(X_train_for_nn_torch, y_train_for_nn_torch)\n",
    "hitters_test = TensorDataset(X_test_for_nn_torch, y_test_for_nn_torch)"
   ]
  },
  {
   "cell_type": "code",
   "execution_count": 324,
   "id": "64deda92",
   "metadata": {},
   "outputs": [],
   "source": [
    "hitters_model = HittersModel(X_train_for_nn.shape[1])"
   ]
  },
  {
   "cell_type": "code",
   "execution_count": 325,
   "id": "243a4d23",
   "metadata": {},
   "outputs": [
    {
     "data": {
      "text/plain": [
       "===================================================================================================================\n",
       "Layer (type:depth-idx)                   Input Shape               Output Shape              Param #\n",
       "===================================================================================================================\n",
       "HittersModel                             [197, 19]                 [197]                     --\n",
       "├─Flatten: 1-1                           [197, 19]                 [197, 19]                 --\n",
       "├─Sequential: 1-2                        [197, 19]                 [197, 1]                  --\n",
       "│    └─Linear: 2-1                       [197, 19]                 [197, 50]                 1,000\n",
       "│    └─ReLU: 2-2                         [197, 50]                 [197, 50]                 --\n",
       "│    └─Dropout: 2-3                      [197, 50]                 [197, 50]                 --\n",
       "│    └─Linear: 2-4                       [197, 50]                 [197, 1]                  51\n",
       "===================================================================================================================\n",
       "Total params: 1,051\n",
       "Trainable params: 1,051\n",
       "Non-trainable params: 0\n",
       "Total mult-adds (Units.MEGABYTES): 0.21\n",
       "===================================================================================================================\n",
       "Input size (MB): 0.02\n",
       "Forward/backward pass size (MB): 0.08\n",
       "Params size (MB): 0.00\n",
       "Estimated Total Size (MB): 0.10\n",
       "==================================================================================================================="
      ]
     },
     "execution_count": 325,
     "metadata": {},
     "output_type": "execute_result"
    }
   ],
   "source": [
    "summary(hitters_model, X_train_for_nn.shape, col_names = [\"input_size\", \"output_size\", \"num_params\"])"
   ]
  },
  {
   "cell_type": "code",
   "execution_count": 326,
   "id": "94591cc6",
   "metadata": {},
   "outputs": [],
   "source": [
    "hitters_dm = SimpleDataModule(hitters_train, hitters_test, batch_size=32, num_workers=4, validation=hitters_test)"
   ]
  },
  {
   "cell_type": "code",
   "execution_count": 328,
   "id": "1862fea3",
   "metadata": {},
   "outputs": [],
   "source": [
    "hitters_module = SimpleModule.regression(hitters_model, metrics={'mae': MeanAbsoluteError()})"
   ]
  },
  {
   "cell_type": "code",
   "execution_count": 329,
   "id": "ea50b119",
   "metadata": {},
   "outputs": [],
   "source": [
    "hitters_logger = CSVLogger('logs', name='hitters')"
   ]
  },
  {
   "cell_type": "code",
   "execution_count": 330,
   "id": "04b763b3",
   "metadata": {},
   "outputs": [
    {
     "name": "stderr",
     "output_type": "stream",
     "text": [
      "GPU available: False, used: False\n",
      "TPU available: False, using: 0 TPU cores\n",
      "IPU available: False, using: 0 IPUs\n",
      "HPU available: False, using: 0 HPUs\n",
      "\n",
      "  | Name  | Type         | Params\n",
      "---------------------------------------\n",
      "0 | model | HittersModel | 1.1 K \n",
      "1 | loss  | MSELoss      | 0     \n",
      "---------------------------------------\n",
      "1.1 K     Trainable params\n",
      "0         Non-trainable params\n",
      "1.1 K     Total params\n",
      "0.004     Total estimated model params size (MB)\n"
     ]
    },
    {
     "data": {
      "application/vnd.jupyter.widget-view+json": {
       "model_id": "",
       "version_major": 2,
       "version_minor": 0
      },
      "text/plain": [
       "Sanity Checking: 0it [00:00, ?it/s]"
      ]
     },
     "metadata": {},
     "output_type": "display_data"
    },
    {
     "data": {
      "application/vnd.jupyter.widget-view+json": {
       "model_id": "fb32b6a39deb4b55a7aee7f7a6954910",
       "version_major": 2,
       "version_minor": 0
      },
      "text/plain": [
       "Training: 0it [00:00, ?it/s]"
      ]
     },
     "metadata": {},
     "output_type": "display_data"
    },
    {
     "data": {
      "application/vnd.jupyter.widget-view+json": {
       "model_id": "",
       "version_major": 2,
       "version_minor": 0
      },
      "text/plain": [
       "Validation: 0it [00:00, ?it/s]"
      ]
     },
     "metadata": {},
     "output_type": "display_data"
    },
    {
     "data": {
      "application/vnd.jupyter.widget-view+json": {
       "model_id": "",
       "version_major": 2,
       "version_minor": 0
      },
      "text/plain": [
       "Validation: 0it [00:00, ?it/s]"
      ]
     },
     "metadata": {},
     "output_type": "display_data"
    },
    {
     "data": {
      "application/vnd.jupyter.widget-view+json": {
       "model_id": "",
       "version_major": 2,
       "version_minor": 0
      },
      "text/plain": [
       "Validation: 0it [00:00, ?it/s]"
      ]
     },
     "metadata": {},
     "output_type": "display_data"
    },
    {
     "data": {
      "application/vnd.jupyter.widget-view+json": {
       "model_id": "",
       "version_major": 2,
       "version_minor": 0
      },
      "text/plain": [
       "Validation: 0it [00:00, ?it/s]"
      ]
     },
     "metadata": {},
     "output_type": "display_data"
    },
    {
     "data": {
      "application/vnd.jupyter.widget-view+json": {
       "model_id": "",
       "version_major": 2,
       "version_minor": 0
      },
      "text/plain": [
       "Validation: 0it [00:00, ?it/s]"
      ]
     },
     "metadata": {},
     "output_type": "display_data"
    },
    {
     "data": {
      "application/vnd.jupyter.widget-view+json": {
       "model_id": "",
       "version_major": 2,
       "version_minor": 0
      },
      "text/plain": [
       "Validation: 0it [00:00, ?it/s]"
      ]
     },
     "metadata": {},
     "output_type": "display_data"
    },
    {
     "data": {
      "application/vnd.jupyter.widget-view+json": {
       "model_id": "",
       "version_major": 2,
       "version_minor": 0
      },
      "text/plain": [
       "Validation: 0it [00:00, ?it/s]"
      ]
     },
     "metadata": {},
     "output_type": "display_data"
    },
    {
     "data": {
      "application/vnd.jupyter.widget-view+json": {
       "model_id": "",
       "version_major": 2,
       "version_minor": 0
      },
      "text/plain": [
       "Validation: 0it [00:00, ?it/s]"
      ]
     },
     "metadata": {},
     "output_type": "display_data"
    },
    {
     "data": {
      "application/vnd.jupyter.widget-view+json": {
       "model_id": "",
       "version_major": 2,
       "version_minor": 0
      },
      "text/plain": [
       "Validation: 0it [00:00, ?it/s]"
      ]
     },
     "metadata": {},
     "output_type": "display_data"
    },
    {
     "data": {
      "application/vnd.jupyter.widget-view+json": {
       "model_id": "",
       "version_major": 2,
       "version_minor": 0
      },
      "text/plain": [
       "Validation: 0it [00:00, ?it/s]"
      ]
     },
     "metadata": {},
     "output_type": "display_data"
    },
    {
     "data": {
      "application/vnd.jupyter.widget-view+json": {
       "model_id": "",
       "version_major": 2,
       "version_minor": 0
      },
      "text/plain": [
       "Validation: 0it [00:00, ?it/s]"
      ]
     },
     "metadata": {},
     "output_type": "display_data"
    },
    {
     "data": {
      "application/vnd.jupyter.widget-view+json": {
       "model_id": "",
       "version_major": 2,
       "version_minor": 0
      },
      "text/plain": [
       "Validation: 0it [00:00, ?it/s]"
      ]
     },
     "metadata": {},
     "output_type": "display_data"
    },
    {
     "data": {
      "application/vnd.jupyter.widget-view+json": {
       "model_id": "",
       "version_major": 2,
       "version_minor": 0
      },
      "text/plain": [
       "Validation: 0it [00:00, ?it/s]"
      ]
     },
     "metadata": {},
     "output_type": "display_data"
    },
    {
     "data": {
      "application/vnd.jupyter.widget-view+json": {
       "model_id": "",
       "version_major": 2,
       "version_minor": 0
      },
      "text/plain": [
       "Validation: 0it [00:00, ?it/s]"
      ]
     },
     "metadata": {},
     "output_type": "display_data"
    },
    {
     "data": {
      "application/vnd.jupyter.widget-view+json": {
       "model_id": "",
       "version_major": 2,
       "version_minor": 0
      },
      "text/plain": [
       "Validation: 0it [00:00, ?it/s]"
      ]
     },
     "metadata": {},
     "output_type": "display_data"
    },
    {
     "data": {
      "application/vnd.jupyter.widget-view+json": {
       "model_id": "",
       "version_major": 2,
       "version_minor": 0
      },
      "text/plain": [
       "Validation: 0it [00:00, ?it/s]"
      ]
     },
     "metadata": {},
     "output_type": "display_data"
    },
    {
     "data": {
      "application/vnd.jupyter.widget-view+json": {
       "model_id": "",
       "version_major": 2,
       "version_minor": 0
      },
      "text/plain": [
       "Validation: 0it [00:00, ?it/s]"
      ]
     },
     "metadata": {},
     "output_type": "display_data"
    },
    {
     "data": {
      "application/vnd.jupyter.widget-view+json": {
       "model_id": "",
       "version_major": 2,
       "version_minor": 0
      },
      "text/plain": [
       "Validation: 0it [00:00, ?it/s]"
      ]
     },
     "metadata": {},
     "output_type": "display_data"
    },
    {
     "data": {
      "application/vnd.jupyter.widget-view+json": {
       "model_id": "",
       "version_major": 2,
       "version_minor": 0
      },
      "text/plain": [
       "Validation: 0it [00:00, ?it/s]"
      ]
     },
     "metadata": {},
     "output_type": "display_data"
    },
    {
     "data": {
      "application/vnd.jupyter.widget-view+json": {
       "model_id": "",
       "version_major": 2,
       "version_minor": 0
      },
      "text/plain": [
       "Validation: 0it [00:00, ?it/s]"
      ]
     },
     "metadata": {},
     "output_type": "display_data"
    },
    {
     "data": {
      "application/vnd.jupyter.widget-view+json": {
       "model_id": "",
       "version_major": 2,
       "version_minor": 0
      },
      "text/plain": [
       "Validation: 0it [00:00, ?it/s]"
      ]
     },
     "metadata": {},
     "output_type": "display_data"
    },
    {
     "data": {
      "application/vnd.jupyter.widget-view+json": {
       "model_id": "",
       "version_major": 2,
       "version_minor": 0
      },
      "text/plain": [
       "Validation: 0it [00:00, ?it/s]"
      ]
     },
     "metadata": {},
     "output_type": "display_data"
    },
    {
     "data": {
      "application/vnd.jupyter.widget-view+json": {
       "model_id": "",
       "version_major": 2,
       "version_minor": 0
      },
      "text/plain": [
       "Validation: 0it [00:00, ?it/s]"
      ]
     },
     "metadata": {},
     "output_type": "display_data"
    },
    {
     "data": {
      "application/vnd.jupyter.widget-view+json": {
       "model_id": "",
       "version_major": 2,
       "version_minor": 0
      },
      "text/plain": [
       "Validation: 0it [00:00, ?it/s]"
      ]
     },
     "metadata": {},
     "output_type": "display_data"
    },
    {
     "data": {
      "application/vnd.jupyter.widget-view+json": {
       "model_id": "",
       "version_major": 2,
       "version_minor": 0
      },
      "text/plain": [
       "Validation: 0it [00:00, ?it/s]"
      ]
     },
     "metadata": {},
     "output_type": "display_data"
    },
    {
     "data": {
      "application/vnd.jupyter.widget-view+json": {
       "model_id": "",
       "version_major": 2,
       "version_minor": 0
      },
      "text/plain": [
       "Validation: 0it [00:00, ?it/s]"
      ]
     },
     "metadata": {},
     "output_type": "display_data"
    },
    {
     "data": {
      "application/vnd.jupyter.widget-view+json": {
       "model_id": "",
       "version_major": 2,
       "version_minor": 0
      },
      "text/plain": [
       "Validation: 0it [00:00, ?it/s]"
      ]
     },
     "metadata": {},
     "output_type": "display_data"
    },
    {
     "data": {
      "application/vnd.jupyter.widget-view+json": {
       "model_id": "",
       "version_major": 2,
       "version_minor": 0
      },
      "text/plain": [
       "Validation: 0it [00:00, ?it/s]"
      ]
     },
     "metadata": {},
     "output_type": "display_data"
    },
    {
     "data": {
      "application/vnd.jupyter.widget-view+json": {
       "model_id": "",
       "version_major": 2,
       "version_minor": 0
      },
      "text/plain": [
       "Validation: 0it [00:00, ?it/s]"
      ]
     },
     "metadata": {},
     "output_type": "display_data"
    },
    {
     "data": {
      "application/vnd.jupyter.widget-view+json": {
       "model_id": "",
       "version_major": 2,
       "version_minor": 0
      },
      "text/plain": [
       "Validation: 0it [00:00, ?it/s]"
      ]
     },
     "metadata": {},
     "output_type": "display_data"
    },
    {
     "data": {
      "application/vnd.jupyter.widget-view+json": {
       "model_id": "",
       "version_major": 2,
       "version_minor": 0
      },
      "text/plain": [
       "Validation: 0it [00:00, ?it/s]"
      ]
     },
     "metadata": {},
     "output_type": "display_data"
    },
    {
     "data": {
      "application/vnd.jupyter.widget-view+json": {
       "model_id": "",
       "version_major": 2,
       "version_minor": 0
      },
      "text/plain": [
       "Validation: 0it [00:00, ?it/s]"
      ]
     },
     "metadata": {},
     "output_type": "display_data"
    },
    {
     "data": {
      "application/vnd.jupyter.widget-view+json": {
       "model_id": "",
       "version_major": 2,
       "version_minor": 0
      },
      "text/plain": [
       "Validation: 0it [00:00, ?it/s]"
      ]
     },
     "metadata": {},
     "output_type": "display_data"
    },
    {
     "data": {
      "application/vnd.jupyter.widget-view+json": {
       "model_id": "",
       "version_major": 2,
       "version_minor": 0
      },
      "text/plain": [
       "Validation: 0it [00:00, ?it/s]"
      ]
     },
     "metadata": {},
     "output_type": "display_data"
    },
    {
     "data": {
      "application/vnd.jupyter.widget-view+json": {
       "model_id": "",
       "version_major": 2,
       "version_minor": 0
      },
      "text/plain": [
       "Validation: 0it [00:00, ?it/s]"
      ]
     },
     "metadata": {},
     "output_type": "display_data"
    },
    {
     "data": {
      "application/vnd.jupyter.widget-view+json": {
       "model_id": "",
       "version_major": 2,
       "version_minor": 0
      },
      "text/plain": [
       "Validation: 0it [00:00, ?it/s]"
      ]
     },
     "metadata": {},
     "output_type": "display_data"
    },
    {
     "data": {
      "application/vnd.jupyter.widget-view+json": {
       "model_id": "",
       "version_major": 2,
       "version_minor": 0
      },
      "text/plain": [
       "Validation: 0it [00:00, ?it/s]"
      ]
     },
     "metadata": {},
     "output_type": "display_data"
    },
    {
     "data": {
      "application/vnd.jupyter.widget-view+json": {
       "model_id": "",
       "version_major": 2,
       "version_minor": 0
      },
      "text/plain": [
       "Validation: 0it [00:00, ?it/s]"
      ]
     },
     "metadata": {},
     "output_type": "display_data"
    },
    {
     "data": {
      "application/vnd.jupyter.widget-view+json": {
       "model_id": "",
       "version_major": 2,
       "version_minor": 0
      },
      "text/plain": [
       "Validation: 0it [00:00, ?it/s]"
      ]
     },
     "metadata": {},
     "output_type": "display_data"
    },
    {
     "data": {
      "application/vnd.jupyter.widget-view+json": {
       "model_id": "",
       "version_major": 2,
       "version_minor": 0
      },
      "text/plain": [
       "Validation: 0it [00:00, ?it/s]"
      ]
     },
     "metadata": {},
     "output_type": "display_data"
    },
    {
     "data": {
      "application/vnd.jupyter.widget-view+json": {
       "model_id": "",
       "version_major": 2,
       "version_minor": 0
      },
      "text/plain": [
       "Validation: 0it [00:00, ?it/s]"
      ]
     },
     "metadata": {},
     "output_type": "display_data"
    },
    {
     "data": {
      "application/vnd.jupyter.widget-view+json": {
       "model_id": "",
       "version_major": 2,
       "version_minor": 0
      },
      "text/plain": [
       "Validation: 0it [00:00, ?it/s]"
      ]
     },
     "metadata": {},
     "output_type": "display_data"
    },
    {
     "data": {
      "application/vnd.jupyter.widget-view+json": {
       "model_id": "",
       "version_major": 2,
       "version_minor": 0
      },
      "text/plain": [
       "Validation: 0it [00:00, ?it/s]"
      ]
     },
     "metadata": {},
     "output_type": "display_data"
    },
    {
     "data": {
      "application/vnd.jupyter.widget-view+json": {
       "model_id": "",
       "version_major": 2,
       "version_minor": 0
      },
      "text/plain": [
       "Validation: 0it [00:00, ?it/s]"
      ]
     },
     "metadata": {},
     "output_type": "display_data"
    },
    {
     "data": {
      "application/vnd.jupyter.widget-view+json": {
       "model_id": "",
       "version_major": 2,
       "version_minor": 0
      },
      "text/plain": [
       "Validation: 0it [00:00, ?it/s]"
      ]
     },
     "metadata": {},
     "output_type": "display_data"
    },
    {
     "data": {
      "application/vnd.jupyter.widget-view+json": {
       "model_id": "",
       "version_major": 2,
       "version_minor": 0
      },
      "text/plain": [
       "Validation: 0it [00:00, ?it/s]"
      ]
     },
     "metadata": {},
     "output_type": "display_data"
    },
    {
     "data": {
      "application/vnd.jupyter.widget-view+json": {
       "model_id": "",
       "version_major": 2,
       "version_minor": 0
      },
      "text/plain": [
       "Validation: 0it [00:00, ?it/s]"
      ]
     },
     "metadata": {},
     "output_type": "display_data"
    },
    {
     "data": {
      "application/vnd.jupyter.widget-view+json": {
       "model_id": "",
       "version_major": 2,
       "version_minor": 0
      },
      "text/plain": [
       "Validation: 0it [00:00, ?it/s]"
      ]
     },
     "metadata": {},
     "output_type": "display_data"
    },
    {
     "data": {
      "application/vnd.jupyter.widget-view+json": {
       "model_id": "",
       "version_major": 2,
       "version_minor": 0
      },
      "text/plain": [
       "Validation: 0it [00:00, ?it/s]"
      ]
     },
     "metadata": {},
     "output_type": "display_data"
    },
    {
     "data": {
      "application/vnd.jupyter.widget-view+json": {
       "model_id": "",
       "version_major": 2,
       "version_minor": 0
      },
      "text/plain": [
       "Validation: 0it [00:00, ?it/s]"
      ]
     },
     "metadata": {},
     "output_type": "display_data"
    }
   ],
   "source": [
    "hitters_trainer = Trainer(\n",
    "    deterministic=True, max_epochs=50,\n",
    "    log_every_n_steps=5, logger=hitters_logger, callbacks=[ErrorTracker()]\n",
    ")\n",
    "hitters_trainer.fit(hitters_module, datamodule=hitters_dm)"
   ]
  },
  {
   "cell_type": "code",
   "execution_count": 331,
   "id": "f79ed2a9",
   "metadata": {},
   "outputs": [
    {
     "data": {
      "application/vnd.jupyter.widget-view+json": {
       "model_id": "3b08e89034134358915bcbfdc7bd71eb",
       "version_major": 2,
       "version_minor": 0
      },
      "text/plain": [
       "Testing: 0it [00:00, ?it/s]"
      ]
     },
     "metadata": {},
     "output_type": "display_data"
    },
    {
     "name": "stdout",
     "output_type": "stream",
     "text": [
      "────────────────────────────────────────────────────────────────────────────────────────────────────────────────────────\n",
      "Runningstage.testing metric      DataLoader 0\n",
      "────────────────────────────────────────────────────────────────────────────────────────────────────────────────────────\n",
      "        test_loss               122066.375\n",
      "        test_mae            269.44940185546875\n",
      "────────────────────────────────────────────────────────────────────────────────────────────────────────────────────────\n"
     ]
    },
    {
     "data": {
      "text/plain": [
       "[{'test_loss': 122066.375, 'test_mae': 269.44940185546875}]"
      ]
     },
     "execution_count": 331,
     "metadata": {},
     "output_type": "execute_result"
    }
   ],
   "source": [
    "hitters_trainer.test(hitters_module, datamodule=hitters_dm)"
   ]
  },
  {
   "cell_type": "code",
   "execution_count": 332,
   "id": "b2b88e63",
   "metadata": {},
   "outputs": [],
   "source": [
    "hitters_results = pd.read_csv(hitters_logger.experiment.metrics_file_path)"
   ]
  },
  {
   "cell_type": "code",
   "execution_count": 333,
   "id": "b1e79044",
   "metadata": {},
   "outputs": [
    {
     "data": {
      "text/html": [
       "<div>\n",
       "<style scoped>\n",
       "    .dataframe tbody tr th:only-of-type {\n",
       "        vertical-align: middle;\n",
       "    }\n",
       "\n",
       "    .dataframe tbody tr th {\n",
       "        vertical-align: top;\n",
       "    }\n",
       "\n",
       "    .dataframe thead th {\n",
       "        text-align: right;\n",
       "    }\n",
       "</style>\n",
       "<table border=\"1\" class=\"dataframe\">\n",
       "  <thead>\n",
       "    <tr style=\"text-align: right;\">\n",
       "      <th></th>\n",
       "      <th>train_mae_step</th>\n",
       "      <th>epoch</th>\n",
       "      <th>step</th>\n",
       "      <th>valid_loss</th>\n",
       "      <th>valid_mae</th>\n",
       "      <th>train_loss</th>\n",
       "      <th>train_mae_epoch</th>\n",
       "      <th>test_loss</th>\n",
       "      <th>test_mae</th>\n",
       "    </tr>\n",
       "  </thead>\n",
       "  <tbody>\n",
       "    <tr>\n",
       "      <th>0</th>\n",
       "      <td>518.809753</td>\n",
       "      <td>0</td>\n",
       "      <td>4</td>\n",
       "      <td>NaN</td>\n",
       "      <td>NaN</td>\n",
       "      <td>NaN</td>\n",
       "      <td>NaN</td>\n",
       "      <td>NaN</td>\n",
       "      <td>NaN</td>\n",
       "    </tr>\n",
       "    <tr>\n",
       "      <th>1</th>\n",
       "      <td>NaN</td>\n",
       "      <td>0</td>\n",
       "      <td>6</td>\n",
       "      <td>458651.0000</td>\n",
       "      <td>503.340973</td>\n",
       "      <td>NaN</td>\n",
       "      <td>NaN</td>\n",
       "      <td>NaN</td>\n",
       "      <td>NaN</td>\n",
       "    </tr>\n",
       "    <tr>\n",
       "      <th>2</th>\n",
       "      <td>NaN</td>\n",
       "      <td>0</td>\n",
       "      <td>6</td>\n",
       "      <td>NaN</td>\n",
       "      <td>NaN</td>\n",
       "      <td>461959.0625</td>\n",
       "      <td>520.668884</td>\n",
       "      <td>NaN</td>\n",
       "      <td>NaN</td>\n",
       "    </tr>\n",
       "    <tr>\n",
       "      <th>3</th>\n",
       "      <td>515.357849</td>\n",
       "      <td>1</td>\n",
       "      <td>9</td>\n",
       "      <td>NaN</td>\n",
       "      <td>NaN</td>\n",
       "      <td>NaN</td>\n",
       "      <td>NaN</td>\n",
       "      <td>NaN</td>\n",
       "      <td>NaN</td>\n",
       "    </tr>\n",
       "    <tr>\n",
       "      <th>4</th>\n",
       "      <td>NaN</td>\n",
       "      <td>1</td>\n",
       "      <td>13</td>\n",
       "      <td>376800.3125</td>\n",
       "      <td>445.519348</td>\n",
       "      <td>NaN</td>\n",
       "      <td>NaN</td>\n",
       "      <td>NaN</td>\n",
       "      <td>NaN</td>\n",
       "    </tr>\n",
       "    <tr>\n",
       "      <th>...</th>\n",
       "      <td>...</td>\n",
       "      <td>...</td>\n",
       "      <td>...</td>\n",
       "      <td>...</td>\n",
       "      <td>...</td>\n",
       "      <td>...</td>\n",
       "      <td>...</td>\n",
       "      <td>...</td>\n",
       "      <td>...</td>\n",
       "    </tr>\n",
       "    <tr>\n",
       "      <th>166</th>\n",
       "      <td>209.845535</td>\n",
       "      <td>49</td>\n",
       "      <td>344</td>\n",
       "      <td>NaN</td>\n",
       "      <td>NaN</td>\n",
       "      <td>NaN</td>\n",
       "      <td>NaN</td>\n",
       "      <td>NaN</td>\n",
       "      <td>NaN</td>\n",
       "    </tr>\n",
       "    <tr>\n",
       "      <th>167</th>\n",
       "      <td>258.454987</td>\n",
       "      <td>49</td>\n",
       "      <td>349</td>\n",
       "      <td>NaN</td>\n",
       "      <td>NaN</td>\n",
       "      <td>NaN</td>\n",
       "      <td>NaN</td>\n",
       "      <td>NaN</td>\n",
       "      <td>NaN</td>\n",
       "    </tr>\n",
       "    <tr>\n",
       "      <th>168</th>\n",
       "      <td>NaN</td>\n",
       "      <td>49</td>\n",
       "      <td>349</td>\n",
       "      <td>122066.3750</td>\n",
       "      <td>269.449402</td>\n",
       "      <td>NaN</td>\n",
       "      <td>NaN</td>\n",
       "      <td>NaN</td>\n",
       "      <td>NaN</td>\n",
       "    </tr>\n",
       "    <tr>\n",
       "      <th>169</th>\n",
       "      <td>NaN</td>\n",
       "      <td>49</td>\n",
       "      <td>349</td>\n",
       "      <td>NaN</td>\n",
       "      <td>NaN</td>\n",
       "      <td>114444.0625</td>\n",
       "      <td>245.870026</td>\n",
       "      <td>NaN</td>\n",
       "      <td>NaN</td>\n",
       "    </tr>\n",
       "    <tr>\n",
       "      <th>170</th>\n",
       "      <td>NaN</td>\n",
       "      <td>50</td>\n",
       "      <td>350</td>\n",
       "      <td>NaN</td>\n",
       "      <td>NaN</td>\n",
       "      <td>NaN</td>\n",
       "      <td>NaN</td>\n",
       "      <td>122066.375</td>\n",
       "      <td>269.449402</td>\n",
       "    </tr>\n",
       "  </tbody>\n",
       "</table>\n",
       "<p>171 rows × 9 columns</p>\n",
       "</div>"
      ],
      "text/plain": [
       "     train_mae_step  epoch  step   valid_loss   valid_mae   train_loss   \n",
       "0        518.809753      0     4          NaN         NaN          NaN  \\\n",
       "1               NaN      0     6  458651.0000  503.340973          NaN   \n",
       "2               NaN      0     6          NaN         NaN  461959.0625   \n",
       "3        515.357849      1     9          NaN         NaN          NaN   \n",
       "4               NaN      1    13  376800.3125  445.519348          NaN   \n",
       "..              ...    ...   ...          ...         ...          ...   \n",
       "166      209.845535     49   344          NaN         NaN          NaN   \n",
       "167      258.454987     49   349          NaN         NaN          NaN   \n",
       "168             NaN     49   349  122066.3750  269.449402          NaN   \n",
       "169             NaN     49   349          NaN         NaN  114444.0625   \n",
       "170             NaN     50   350          NaN         NaN          NaN   \n",
       "\n",
       "     train_mae_epoch   test_loss    test_mae  \n",
       "0                NaN         NaN         NaN  \n",
       "1                NaN         NaN         NaN  \n",
       "2         520.668884         NaN         NaN  \n",
       "3                NaN         NaN         NaN  \n",
       "4                NaN         NaN         NaN  \n",
       "..               ...         ...         ...  \n",
       "166              NaN         NaN         NaN  \n",
       "167              NaN         NaN         NaN  \n",
       "168              NaN         NaN         NaN  \n",
       "169       245.870026         NaN         NaN  \n",
       "170              NaN  122066.375  269.449402  \n",
       "\n",
       "[171 rows x 9 columns]"
      ]
     },
     "execution_count": 333,
     "metadata": {},
     "output_type": "execute_result"
    }
   ],
   "source": [
    "hitters_results"
   ]
  },
  {
   "cell_type": "code",
   "execution_count": 334,
   "id": "aae0cc70",
   "metadata": {},
   "outputs": [
    {
     "data": {
      "text/plain": [
       "HittersModel(\n",
       "  (flatten): Flatten(start_dim=1, end_dim=-1)\n",
       "  (sequential): Sequential(\n",
       "    (0): Linear(in_features=19, out_features=50, bias=True)\n",
       "    (1): ReLU()\n",
       "    (2): Dropout(p=0.4, inplace=False)\n",
       "    (3): Linear(in_features=50, out_features=1, bias=True)\n",
       "  )\n",
       ")"
      ]
     },
     "execution_count": 334,
     "metadata": {},
     "output_type": "execute_result"
    }
   ],
   "source": [
    "hitters_model.eval()"
   ]
  },
  {
   "cell_type": "code",
   "execution_count": 335,
   "id": "9a48e423",
   "metadata": {},
   "outputs": [
    {
     "data": {
      "text/plain": [
       "tensor(269.4494, grad_fn=<MeanBackward0>)"
      ]
     },
     "execution_count": 335,
     "metadata": {},
     "output_type": "execute_result"
    }
   ],
   "source": [
    "preds = hitters_model(X_test_for_nn_torch)\n",
    "torch.abs(y_test_for_nn_torch - preds).mean()"
   ]
  },
  {
   "cell_type": "markdown",
   "id": "abd6a677",
   "metadata": {},
   "source": [
    "### 10.9.2"
   ]
  },
  {
   "cell_type": "code",
   "execution_count": 337,
   "id": "6314726d",
   "metadata": {},
   "outputs": [
    {
     "name": "stdout",
     "output_type": "stream",
     "text": [
      "Downloading http://yann.lecun.com/exdb/mnist/train-images-idx3-ubyte.gz\n",
      "Downloading http://yann.lecun.com/exdb/mnist/train-images-idx3-ubyte.gz to data/MNIST/raw/train-images-idx3-ubyte.gz\n"
     ]
    },
    {
     "name": "stderr",
     "output_type": "stream",
     "text": [
      "\n",
      "  0%|                                                                                                                                                                         | 0/9912422 [00:00<?, ?it/s]\u001b[A\n",
      " 34%|██████████████████████████████████████████████████▏                                                                                                  | 3342336/9912422 [00:00<00:00, 33344369.62it/s]\u001b[A\n",
      "100%|█████████████████████████████████████████████████████████████████████████████████████████████████████████████████████████████████████████████████████| 9912422/9912422 [00:00<00:00, 41724040.21it/s]\u001b[A\n"
     ]
    },
    {
     "name": "stdout",
     "output_type": "stream",
     "text": [
      "Extracting data/MNIST/raw/train-images-idx3-ubyte.gz to data/MNIST/raw\n",
      "\n",
      "Downloading http://yann.lecun.com/exdb/mnist/train-labels-idx1-ubyte.gz\n",
      "Downloading http://yann.lecun.com/exdb/mnist/train-labels-idx1-ubyte.gz to data/MNIST/raw/train-labels-idx1-ubyte.gz\n"
     ]
    },
    {
     "name": "stderr",
     "output_type": "stream",
     "text": [
      "\n",
      "100%|█████████████████████████████████████████████████████████████████████████████████████████████████████████████████████████████████████████████████████████| 28881/28881 [00:00<00:00, 17241060.89it/s]\u001b[A"
     ]
    },
    {
     "name": "stdout",
     "output_type": "stream",
     "text": [
      "Extracting data/MNIST/raw/train-labels-idx1-ubyte.gz to data/MNIST/raw\n",
      "\n",
      "Downloading http://yann.lecun.com/exdb/mnist/t10k-images-idx3-ubyte.gz\n",
      "Downloading http://yann.lecun.com/exdb/mnist/t10k-images-idx3-ubyte.gz to data/MNIST/raw/t10k-images-idx3-ubyte.gz\n"
     ]
    },
    {
     "name": "stderr",
     "output_type": "stream",
     "text": [
      "\n",
      "\n",
      "  0%|                                                                                                                                                                         | 0/1648877 [00:00<?, ?it/s]\u001b[A\n",
      "100%|██████████████████████████████████████████████████████████████████████████████████████████████████████████████████████████████████████████████████████| 1648877/1648877 [00:00<00:00, 2868394.53it/s]\u001b[A\n"
     ]
    },
    {
     "name": "stdout",
     "output_type": "stream",
     "text": [
      "Extracting data/MNIST/raw/t10k-images-idx3-ubyte.gz to data/MNIST/raw\n",
      "\n",
      "Downloading http://yann.lecun.com/exdb/mnist/t10k-labels-idx1-ubyte.gz\n",
      "Downloading http://yann.lecun.com/exdb/mnist/t10k-labels-idx1-ubyte.gz to data/MNIST/raw/t10k-labels-idx1-ubyte.gz\n"
     ]
    },
    {
     "name": "stderr",
     "output_type": "stream",
     "text": [
      "\n",
      "100%|████████████████████████████████████████████████████████████████████████████████████████████████████████████████████████████████████████████████████████████| 4542/4542 [00:00<00:00, 6612470.94it/s]\u001b[A\n"
     ]
    },
    {
     "name": "stdout",
     "output_type": "stream",
     "text": [
      "Extracting data/MNIST/raw/t10k-labels-idx1-ubyte.gz to data/MNIST/raw\n",
      "\n"
     ]
    }
   ],
   "source": [
    "(mnist_train, mnist_test) = [\n",
    "    MNIST(root='data', train=train, download=True, transform=ToTensor())\n",
    "    for train in [True, False]\n",
    "]"
   ]
  },
  {
   "cell_type": "code",
   "execution_count": 344,
   "id": "179cd6d0",
   "metadata": {},
   "outputs": [
    {
     "data": {
      "text/plain": [
       "Dataset MNIST\n",
       "    Number of datapoints: 10000\n",
       "    Root location: data\n",
       "    Split: Test\n",
       "    StandardTransform\n",
       "Transform: ToTensor()"
      ]
     },
     "execution_count": 344,
     "metadata": {},
     "output_type": "execute_result"
    }
   ],
   "source": [
    "mnist_test"
   ]
  },
  {
   "cell_type": "code",
   "execution_count": 340,
   "id": "451d48c5",
   "metadata": {},
   "outputs": [],
   "source": [
    "mnist_dm = SimpleDataModule(mnist_train, mnist_test, validation=0.2, num_workers=4 , batch_size =256)"
   ]
  },
  {
   "cell_type": "code",
   "execution_count": 341,
   "id": "f55e17a3",
   "metadata": {},
   "outputs": [],
   "source": [
    "class MNISTModel(nn.Module): \n",
    "    def __init__(self):\n",
    "        super(MNISTModel, self).__init__() \n",
    "        self.layer1 = nn.Sequential(nn.Flatten(), nn.Linear(28*28, 256), nn.ReLU(), nn.Dropout(0.4))\n",
    "        self.layer2 = nn.Sequential(nn.Linear(256, 128), nn.ReLU(), nn.Dropout(0.3))\n",
    "        self._forward = nn.Sequential(self.layer1, self.layer2, nn.Linear(128, 10)) \n",
    "\n",
    "    def forward(self, x):\n",
    "        return self._forward(x)"
   ]
  },
  {
   "cell_type": "code",
   "execution_count": 345,
   "id": "b2ee35a9",
   "metadata": {},
   "outputs": [],
   "source": [
    "mnist_model = MNISTModel()"
   ]
  },
  {
   "cell_type": "code",
   "execution_count": 347,
   "id": "c36e6e48",
   "metadata": {},
   "outputs": [
    {
     "name": "stdout",
     "output_type": "stream",
     "text": [
      "X:  torch.Size([256, 1, 28, 28])\n",
      "Y:  torch.Size([256])\n",
      "X:  torch.Size([256, 1, 28, 28])\n",
      "Y:  torch.Size([256])\n"
     ]
    }
   ],
   "source": [
    "for idx, (X_ ,Y_) in enumerate(mnist_dm.train_dataloader()): \n",
    "    print('X: ', X_.shape)\n",
    "    print('Y: ', Y_.shape)\n",
    "    if idx >= 1:\n",
    "        break"
   ]
  },
  {
   "cell_type": "code",
   "execution_count": 348,
   "id": "9908c5a8",
   "metadata": {},
   "outputs": [
    {
     "data": {
      "text/plain": [
       "===================================================================================================================\n",
       "Layer (type:depth-idx)                   Input Shape               Output Shape              Param #\n",
       "===================================================================================================================\n",
       "MNISTModel                               [256, 1, 28, 28]          [256, 10]                 --\n",
       "├─Sequential: 1-1                        [256, 1, 28, 28]          [256, 10]                 --\n",
       "│    └─Sequential: 2-1                   [256, 1, 28, 28]          [256, 256]                --\n",
       "│    │    └─Flatten: 3-1                 [256, 1, 28, 28]          [256, 784]                --\n",
       "│    │    └─Linear: 3-2                  [256, 784]                [256, 256]                200,960\n",
       "│    │    └─ReLU: 3-3                    [256, 256]                [256, 256]                --\n",
       "│    │    └─Dropout: 3-4                 [256, 256]                [256, 256]                --\n",
       "│    └─Sequential: 2-2                   [256, 256]                [256, 128]                --\n",
       "│    │    └─Linear: 3-5                  [256, 256]                [256, 128]                32,896\n",
       "│    │    └─ReLU: 3-6                    [256, 128]                [256, 128]                --\n",
       "│    │    └─Dropout: 3-7                 [256, 128]                [256, 128]                --\n",
       "│    └─Linear: 2-3                       [256, 128]                [256, 10]                 1,290\n",
       "===================================================================================================================\n",
       "Total params: 235,146\n",
       "Trainable params: 235,146\n",
       "Non-trainable params: 0\n",
       "Total mult-adds (Units.MEGABYTES): 60.20\n",
       "===================================================================================================================\n",
       "Input size (MB): 0.80\n",
       "Forward/backward pass size (MB): 0.81\n",
       "Params size (MB): 0.94\n",
       "Estimated Total Size (MB): 2.55\n",
       "==================================================================================================================="
      ]
     },
     "execution_count": 348,
     "metadata": {},
     "output_type": "execute_result"
    }
   ],
   "source": [
    "summary(mnist_model, input_data=X_, col_names=['input_size', 'output_size', 'num_params'])"
   ]
  },
  {
   "cell_type": "code",
   "execution_count": 4,
   "id": "62e19735",
   "metadata": {},
   "outputs": [
    {
     "ename": "NameError",
     "evalue": "name 'mnist_model' is not defined",
     "output_type": "error",
     "traceback": [
      "\u001b[0;31m---------------------------------------------------------------------------\u001b[0m",
      "\u001b[0;31mNameError\u001b[0m                                 Traceback (most recent call last)",
      "Cell \u001b[0;32mIn[4], line 99\u001b[0m\n\u001b[1;32m     93\u001b[0m                 metrics[key] \u001b[38;5;241m=\u001b[39m metric\u001b[38;5;241m.\u001b[39mto(device)\n\u001b[1;32m     94\u001b[0m         \u001b[38;5;28;01mreturn\u001b[39;00m SimpleModule(model,\n\u001b[1;32m     95\u001b[0m                             loss,\n\u001b[1;32m     96\u001b[0m                             metrics\u001b[38;5;241m=\u001b[39mmetrics,\n\u001b[1;32m     97\u001b[0m                             \u001b[38;5;241m*\u001b[39m\u001b[38;5;241m*\u001b[39mkwargs)\n\u001b[0;32m---> 99\u001b[0m mnist_module \u001b[38;5;241m=\u001b[39m SimpleModule\u001b[38;5;241m.\u001b[39mclassification(\u001b[43mmnist_model\u001b[49m) \n\u001b[1;32m    100\u001b[0m mnist_logger \u001b[38;5;241m=\u001b[39m CSVLogger(\u001b[38;5;124m'\u001b[39m\u001b[38;5;124mlogs\u001b[39m\u001b[38;5;124m'\u001b[39m, name\u001b[38;5;241m=\u001b[39m\u001b[38;5;124m'\u001b[39m\u001b[38;5;124mMNIST\u001b[39m\u001b[38;5;124m'\u001b[39m)\n",
      "\u001b[0;31mNameError\u001b[0m: name 'mnist_model' is not defined"
     ]
    }
   ],
   "source": [
    "class SimpleModule(LightningModule):\n",
    "\n",
    "    \"\"\"\n",
    "    A simple `pytorch_lightning` module for regression problems.\n",
    "    \"\"\"\n",
    "\n",
    "    def __init__(self,\n",
    "                 model,\n",
    "                 loss,\n",
    "                 optimizer=None,\n",
    "                 metrics={},\n",
    "                 on_epoch=True,\n",
    "                 pre_process_y_for_metrics=lambda y: y):\n",
    "\n",
    "        super(SimpleModule, self).__init__()\n",
    "\n",
    "        self.model = model\n",
    "        self.loss = loss or nn.MSELoss()\n",
    "        optimizer = optimizer or RMSprop(model.parameters())\n",
    "        self._optimizer = optimizer\n",
    "        self.metrics = metrics\n",
    "        self.on_epoch = on_epoch\n",
    "        self.pre_process_y_for_metrics = pre_process_y_for_metrics\n",
    "        \n",
    "    def forward(self, x):\n",
    "        return self.model(x)\n",
    "\n",
    "    def training_step(self, batch, batch_idx):\n",
    "        x, y = batch\n",
    "        preds = self.forward(x)\n",
    "        loss = self.loss(preds, y)\n",
    "        self.log(\"train_loss\",\n",
    "                 loss,\n",
    "                 on_epoch=self.on_epoch,\n",
    "                 on_step=False)\n",
    "\n",
    "        y_ = self.pre_process_y_for_metrics(y)\n",
    "        for _metric in self.metrics.keys():\n",
    "            self.log(f\"train_{_metric}\",\n",
    "                     self.metrics[_metric](preds, y_),\n",
    "                     on_epoch=self.on_epoch)\n",
    "        return loss\n",
    "\n",
    "    def test_step(self, batch, batch_idx):\n",
    "        x, y = batch\n",
    "\n",
    "    @rank_zero_only\n",
    "    def validation_step(self, batch, batch_idx):\n",
    "        x, y = batch\n",
    "\n",
    "    def predict_step(self, batch, batch_idx):\n",
    "        x, y = batch\n",
    "        return y, self.forward(x)\n",
    "\n",
    "    def configure_optimizers(self):\n",
    "        return self._optimizer\n",
    "\n",
    "    @staticmethod\n",
    "    def regression(model,\n",
    "                   **kwargs):\n",
    "        loss = nn.MSELoss()\n",
    "        return SimpleModule(model,\n",
    "                            loss,\n",
    "                            **kwargs)\n",
    "\n",
    "    @staticmethod\n",
    "    def binary_classification(model,\n",
    "                              metrics={},\n",
    "                              device=None,\n",
    "                              **kwargs):\n",
    "        loss = nn.BCEWithLogitsLoss()\n",
    "        if 'accuracy' not in metrics:\n",
    "            metrics['accuracy'] = Accuracy(\"binary\")\n",
    "        if device is not None:\n",
    "            for key, metric in metrics:\n",
    "                metrics[key] = metric.to(device)\n",
    "        return SimpleModule(model,\n",
    "                            loss,\n",
    "                            metrics=metrics,\n",
    "                            pre_process_y_for_metrics = lambda x: x.int(),\n",
    "                            **kwargs)\n",
    "\n",
    "    @staticmethod\n",
    "    def classification(model,\n",
    "                       metrics={},\n",
    "                       device=None,\n",
    "                       **kwargs):\n",
    "        loss = nn.CrossEntropyLoss()\n",
    "        if 'accuracy' not in metrics:\n",
    "            metrics['accuracy'] = Accuracy(\"multiclass\", num_classes=100)\n",
    "        if device is not None:\n",
    "            for key, metric in metrics:\n",
    "                metrics[key] = metric.to(device)\n",
    "        return SimpleModule(model,\n",
    "                            loss,\n",
    "                            metrics=metrics,\n",
    "                            **kwargs)\n",
    "\n",
    "mnist_module = SimpleModule.classification(mnist_model) \n",
    "mnist_logger = CSVLogger('logs', name='MNIST')"
   ]
  },
  {
   "cell_type": "code",
   "execution_count": 357,
   "id": "15afed6b",
   "metadata": {},
   "outputs": [
    {
     "name": "stderr",
     "output_type": "stream",
     "text": [
      "GPU available: False, used: False\n",
      "TPU available: False, using: 0 TPU cores\n",
      "IPU available: False, using: 0 IPUs\n",
      "HPU available: False, using: 0 HPUs\n",
      "Missing logger folder: logs/MNIST\n",
      "\n",
      "  | Name  | Type             | Params\n",
      "-------------------------------------------\n",
      "0 | model | MNISTModel       | 235 K \n",
      "1 | loss  | CrossEntropyLoss | 0     \n",
      "-------------------------------------------\n",
      "235 K     Trainable params\n",
      "0         Non-trainable params\n",
      "235 K     Total params\n",
      "0.941     Total estimated model params size (MB)\n"
     ]
    },
    {
     "data": {
      "application/vnd.jupyter.widget-view+json": {
       "model_id": "",
       "version_major": 2,
       "version_minor": 0
      },
      "text/plain": [
       "Sanity Checking: 0it [00:00, ?it/s]"
      ]
     },
     "metadata": {},
     "output_type": "display_data"
    },
    {
     "data": {
      "application/vnd.jupyter.widget-view+json": {
       "model_id": "8710637e07bb4979a25783d1f41cc5f2",
       "version_major": 2,
       "version_minor": 0
      },
      "text/plain": [
       "Training: 0it [00:00, ?it/s]"
      ]
     },
     "metadata": {},
     "output_type": "display_data"
    },
    {
     "data": {
      "application/vnd.jupyter.widget-view+json": {
       "model_id": "",
       "version_major": 2,
       "version_minor": 0
      },
      "text/plain": [
       "Validation: 0it [00:00, ?it/s]"
      ]
     },
     "metadata": {},
     "output_type": "display_data"
    },
    {
     "data": {
      "application/vnd.jupyter.widget-view+json": {
       "model_id": "",
       "version_major": 2,
       "version_minor": 0
      },
      "text/plain": [
       "Validation: 0it [00:00, ?it/s]"
      ]
     },
     "metadata": {},
     "output_type": "display_data"
    },
    {
     "data": {
      "application/vnd.jupyter.widget-view+json": {
       "model_id": "",
       "version_major": 2,
       "version_minor": 0
      },
      "text/plain": [
       "Validation: 0it [00:00, ?it/s]"
      ]
     },
     "metadata": {},
     "output_type": "display_data"
    },
    {
     "data": {
      "application/vnd.jupyter.widget-view+json": {
       "model_id": "",
       "version_major": 2,
       "version_minor": 0
      },
      "text/plain": [
       "Validation: 0it [00:00, ?it/s]"
      ]
     },
     "metadata": {},
     "output_type": "display_data"
    },
    {
     "data": {
      "application/vnd.jupyter.widget-view+json": {
       "model_id": "",
       "version_major": 2,
       "version_minor": 0
      },
      "text/plain": [
       "Validation: 0it [00:00, ?it/s]"
      ]
     },
     "metadata": {},
     "output_type": "display_data"
    },
    {
     "data": {
      "application/vnd.jupyter.widget-view+json": {
       "model_id": "",
       "version_major": 2,
       "version_minor": 0
      },
      "text/plain": [
       "Validation: 0it [00:00, ?it/s]"
      ]
     },
     "metadata": {},
     "output_type": "display_data"
    },
    {
     "data": {
      "application/vnd.jupyter.widget-view+json": {
       "model_id": "",
       "version_major": 2,
       "version_minor": 0
      },
      "text/plain": [
       "Validation: 0it [00:00, ?it/s]"
      ]
     },
     "metadata": {},
     "output_type": "display_data"
    },
    {
     "data": {
      "application/vnd.jupyter.widget-view+json": {
       "model_id": "",
       "version_major": 2,
       "version_minor": 0
      },
      "text/plain": [
       "Validation: 0it [00:00, ?it/s]"
      ]
     },
     "metadata": {},
     "output_type": "display_data"
    },
    {
     "data": {
      "application/vnd.jupyter.widget-view+json": {
       "model_id": "",
       "version_major": 2,
       "version_minor": 0
      },
      "text/plain": [
       "Validation: 0it [00:00, ?it/s]"
      ]
     },
     "metadata": {},
     "output_type": "display_data"
    },
    {
     "data": {
      "application/vnd.jupyter.widget-view+json": {
       "model_id": "",
       "version_major": 2,
       "version_minor": 0
      },
      "text/plain": [
       "Validation: 0it [00:00, ?it/s]"
      ]
     },
     "metadata": {},
     "output_type": "display_data"
    },
    {
     "data": {
      "application/vnd.jupyter.widget-view+json": {
       "model_id": "",
       "version_major": 2,
       "version_minor": 0
      },
      "text/plain": [
       "Validation: 0it [00:00, ?it/s]"
      ]
     },
     "metadata": {},
     "output_type": "display_data"
    },
    {
     "data": {
      "application/vnd.jupyter.widget-view+json": {
       "model_id": "",
       "version_major": 2,
       "version_minor": 0
      },
      "text/plain": [
       "Validation: 0it [00:00, ?it/s]"
      ]
     },
     "metadata": {},
     "output_type": "display_data"
    },
    {
     "data": {
      "application/vnd.jupyter.widget-view+json": {
       "model_id": "",
       "version_major": 2,
       "version_minor": 0
      },
      "text/plain": [
       "Validation: 0it [00:00, ?it/s]"
      ]
     },
     "metadata": {},
     "output_type": "display_data"
    },
    {
     "data": {
      "application/vnd.jupyter.widget-view+json": {
       "model_id": "",
       "version_major": 2,
       "version_minor": 0
      },
      "text/plain": [
       "Validation: 0it [00:00, ?it/s]"
      ]
     },
     "metadata": {},
     "output_type": "display_data"
    },
    {
     "data": {
      "application/vnd.jupyter.widget-view+json": {
       "model_id": "",
       "version_major": 2,
       "version_minor": 0
      },
      "text/plain": [
       "Validation: 0it [00:00, ?it/s]"
      ]
     },
     "metadata": {},
     "output_type": "display_data"
    },
    {
     "data": {
      "application/vnd.jupyter.widget-view+json": {
       "model_id": "",
       "version_major": 2,
       "version_minor": 0
      },
      "text/plain": [
       "Validation: 0it [00:00, ?it/s]"
      ]
     },
     "metadata": {},
     "output_type": "display_data"
    },
    {
     "data": {
      "application/vnd.jupyter.widget-view+json": {
       "model_id": "",
       "version_major": 2,
       "version_minor": 0
      },
      "text/plain": [
       "Validation: 0it [00:00, ?it/s]"
      ]
     },
     "metadata": {},
     "output_type": "display_data"
    },
    {
     "data": {
      "application/vnd.jupyter.widget-view+json": {
       "model_id": "",
       "version_major": 2,
       "version_minor": 0
      },
      "text/plain": [
       "Validation: 0it [00:00, ?it/s]"
      ]
     },
     "metadata": {},
     "output_type": "display_data"
    },
    {
     "data": {
      "application/vnd.jupyter.widget-view+json": {
       "model_id": "",
       "version_major": 2,
       "version_minor": 0
      },
      "text/plain": [
       "Validation: 0it [00:00, ?it/s]"
      ]
     },
     "metadata": {},
     "output_type": "display_data"
    },
    {
     "data": {
      "application/vnd.jupyter.widget-view+json": {
       "model_id": "",
       "version_major": 2,
       "version_minor": 0
      },
      "text/plain": [
       "Validation: 0it [00:00, ?it/s]"
      ]
     },
     "metadata": {},
     "output_type": "display_data"
    },
    {
     "data": {
      "application/vnd.jupyter.widget-view+json": {
       "model_id": "",
       "version_major": 2,
       "version_minor": 0
      },
      "text/plain": [
       "Validation: 0it [00:00, ?it/s]"
      ]
     },
     "metadata": {},
     "output_type": "display_data"
    },
    {
     "data": {
      "application/vnd.jupyter.widget-view+json": {
       "model_id": "",
       "version_major": 2,
       "version_minor": 0
      },
      "text/plain": [
       "Validation: 0it [00:00, ?it/s]"
      ]
     },
     "metadata": {},
     "output_type": "display_data"
    },
    {
     "data": {
      "application/vnd.jupyter.widget-view+json": {
       "model_id": "",
       "version_major": 2,
       "version_minor": 0
      },
      "text/plain": [
       "Validation: 0it [00:00, ?it/s]"
      ]
     },
     "metadata": {},
     "output_type": "display_data"
    },
    {
     "data": {
      "application/vnd.jupyter.widget-view+json": {
       "model_id": "",
       "version_major": 2,
       "version_minor": 0
      },
      "text/plain": [
       "Validation: 0it [00:00, ?it/s]"
      ]
     },
     "metadata": {},
     "output_type": "display_data"
    },
    {
     "data": {
      "application/vnd.jupyter.widget-view+json": {
       "model_id": "",
       "version_major": 2,
       "version_minor": 0
      },
      "text/plain": [
       "Validation: 0it [00:00, ?it/s]"
      ]
     },
     "metadata": {},
     "output_type": "display_data"
    },
    {
     "data": {
      "application/vnd.jupyter.widget-view+json": {
       "model_id": "",
       "version_major": 2,
       "version_minor": 0
      },
      "text/plain": [
       "Validation: 0it [00:00, ?it/s]"
      ]
     },
     "metadata": {},
     "output_type": "display_data"
    },
    {
     "data": {
      "application/vnd.jupyter.widget-view+json": {
       "model_id": "",
       "version_major": 2,
       "version_minor": 0
      },
      "text/plain": [
       "Validation: 0it [00:00, ?it/s]"
      ]
     },
     "metadata": {},
     "output_type": "display_data"
    },
    {
     "data": {
      "application/vnd.jupyter.widget-view+json": {
       "model_id": "",
       "version_major": 2,
       "version_minor": 0
      },
      "text/plain": [
       "Validation: 0it [00:00, ?it/s]"
      ]
     },
     "metadata": {},
     "output_type": "display_data"
    },
    {
     "data": {
      "application/vnd.jupyter.widget-view+json": {
       "model_id": "",
       "version_major": 2,
       "version_minor": 0
      },
      "text/plain": [
       "Validation: 0it [00:00, ?it/s]"
      ]
     },
     "metadata": {},
     "output_type": "display_data"
    },
    {
     "data": {
      "application/vnd.jupyter.widget-view+json": {
       "model_id": "",
       "version_major": 2,
       "version_minor": 0
      },
      "text/plain": [
       "Validation: 0it [00:00, ?it/s]"
      ]
     },
     "metadata": {},
     "output_type": "display_data"
    }
   ],
   "source": [
    "mnist_trainer = Trainer(\n",
    "    deterministic=True, max_epochs=30, logger=mnist_logger ,\n",
    "    callbacks=[ErrorTracker()]\n",
    ") \n",
    "mnist_trainer.fit(mnist_module, datamodule=mnist_dm)"
   ]
  },
  {
   "cell_type": "code",
   "execution_count": 358,
   "id": "c38c1146",
   "metadata": {},
   "outputs": [
    {
     "data": {
      "application/vnd.jupyter.widget-view+json": {
       "model_id": "627da7648cfe4064a3e8b6b2eb70a146",
       "version_major": 2,
       "version_minor": 0
      },
      "text/plain": [
       "Testing: 0it [00:00, ?it/s]"
      ]
     },
     "metadata": {},
     "output_type": "display_data"
    },
    {
     "name": "stdout",
     "output_type": "stream",
     "text": [
      "────────────────────────────────────────────────────────────────────────────────────────────────────────────────────────\n",
      "Runningstage.testing metric      DataLoader 0\n",
      "────────────────────────────────────────────────────────────────────────────────────────────────────────────────────────\n",
      "      test_accuracy         0.9645000100135803\n",
      "        test_loss           0.16413652896881104\n",
      "────────────────────────────────────────────────────────────────────────────────────────────────────────────────────────\n"
     ]
    },
    {
     "data": {
      "text/plain": [
       "[{'test_loss': 0.16413652896881104, 'test_accuracy': 0.9645000100135803}]"
      ]
     },
     "execution_count": 358,
     "metadata": {},
     "output_type": "execute_result"
    }
   ],
   "source": [
    "mnist_trainer.test(mnist_module, datamodule=mnist_dm)"
   ]
  },
  {
   "cell_type": "code",
   "execution_count": 367,
   "id": "9fa2de04",
   "metadata": {},
   "outputs": [
    {
     "name": "stderr",
     "output_type": "stream",
     "text": [
      "GPU available: False, used: False\n",
      "TPU available: False, using: 0 TPU cores\n",
      "IPU available: False, using: 0 IPUs\n",
      "HPU available: False, using: 0 HPUs\n",
      "Missing logger folder: /Users/nils_carlsson/dev/r_env/isl/chapter_10_python_version/lightning_logs\n",
      "\n",
      "  | Name  | Type             | Params\n",
      "-------------------------------------------\n",
      "0 | model | MNIST_MLR        | 7.9 K \n",
      "1 | loss  | CrossEntropyLoss | 0     \n",
      "-------------------------------------------\n",
      "7.9 K     Trainable params\n",
      "0         Non-trainable params\n",
      "7.9 K     Total params\n",
      "0.031     Total estimated model params size (MB)\n"
     ]
    },
    {
     "data": {
      "application/vnd.jupyter.widget-view+json": {
       "model_id": "",
       "version_major": 2,
       "version_minor": 0
      },
      "text/plain": [
       "Sanity Checking: 0it [00:00, ?it/s]"
      ]
     },
     "metadata": {},
     "output_type": "display_data"
    },
    {
     "data": {
      "application/vnd.jupyter.widget-view+json": {
       "model_id": "eb8f1401b5e5494f80aec1027d66564d",
       "version_major": 2,
       "version_minor": 0
      },
      "text/plain": [
       "Training: 0it [00:00, ?it/s]"
      ]
     },
     "metadata": {},
     "output_type": "display_data"
    },
    {
     "data": {
      "application/vnd.jupyter.widget-view+json": {
       "model_id": "",
       "version_major": 2,
       "version_minor": 0
      },
      "text/plain": [
       "Validation: 0it [00:00, ?it/s]"
      ]
     },
     "metadata": {},
     "output_type": "display_data"
    },
    {
     "data": {
      "application/vnd.jupyter.widget-view+json": {
       "model_id": "",
       "version_major": 2,
       "version_minor": 0
      },
      "text/plain": [
       "Validation: 0it [00:00, ?it/s]"
      ]
     },
     "metadata": {},
     "output_type": "display_data"
    },
    {
     "data": {
      "application/vnd.jupyter.widget-view+json": {
       "model_id": "",
       "version_major": 2,
       "version_minor": 0
      },
      "text/plain": [
       "Validation: 0it [00:00, ?it/s]"
      ]
     },
     "metadata": {},
     "output_type": "display_data"
    },
    {
     "data": {
      "application/vnd.jupyter.widget-view+json": {
       "model_id": "",
       "version_major": 2,
       "version_minor": 0
      },
      "text/plain": [
       "Validation: 0it [00:00, ?it/s]"
      ]
     },
     "metadata": {},
     "output_type": "display_data"
    },
    {
     "data": {
      "application/vnd.jupyter.widget-view+json": {
       "model_id": "",
       "version_major": 2,
       "version_minor": 0
      },
      "text/plain": [
       "Validation: 0it [00:00, ?it/s]"
      ]
     },
     "metadata": {},
     "output_type": "display_data"
    },
    {
     "data": {
      "application/vnd.jupyter.widget-view+json": {
       "model_id": "",
       "version_major": 2,
       "version_minor": 0
      },
      "text/plain": [
       "Validation: 0it [00:00, ?it/s]"
      ]
     },
     "metadata": {},
     "output_type": "display_data"
    },
    {
     "data": {
      "application/vnd.jupyter.widget-view+json": {
       "model_id": "",
       "version_major": 2,
       "version_minor": 0
      },
      "text/plain": [
       "Validation: 0it [00:00, ?it/s]"
      ]
     },
     "metadata": {},
     "output_type": "display_data"
    },
    {
     "data": {
      "application/vnd.jupyter.widget-view+json": {
       "model_id": "",
       "version_major": 2,
       "version_minor": 0
      },
      "text/plain": [
       "Validation: 0it [00:00, ?it/s]"
      ]
     },
     "metadata": {},
     "output_type": "display_data"
    },
    {
     "data": {
      "application/vnd.jupyter.widget-view+json": {
       "model_id": "",
       "version_major": 2,
       "version_minor": 0
      },
      "text/plain": [
       "Validation: 0it [00:00, ?it/s]"
      ]
     },
     "metadata": {},
     "output_type": "display_data"
    },
    {
     "data": {
      "application/vnd.jupyter.widget-view+json": {
       "model_id": "",
       "version_major": 2,
       "version_minor": 0
      },
      "text/plain": [
       "Validation: 0it [00:00, ?it/s]"
      ]
     },
     "metadata": {},
     "output_type": "display_data"
    },
    {
     "data": {
      "application/vnd.jupyter.widget-view+json": {
       "model_id": "",
       "version_major": 2,
       "version_minor": 0
      },
      "text/plain": [
       "Validation: 0it [00:00, ?it/s]"
      ]
     },
     "metadata": {},
     "output_type": "display_data"
    },
    {
     "data": {
      "application/vnd.jupyter.widget-view+json": {
       "model_id": "",
       "version_major": 2,
       "version_minor": 0
      },
      "text/plain": [
       "Validation: 0it [00:00, ?it/s]"
      ]
     },
     "metadata": {},
     "output_type": "display_data"
    },
    {
     "data": {
      "application/vnd.jupyter.widget-view+json": {
       "model_id": "",
       "version_major": 2,
       "version_minor": 0
      },
      "text/plain": [
       "Validation: 0it [00:00, ?it/s]"
      ]
     },
     "metadata": {},
     "output_type": "display_data"
    },
    {
     "data": {
      "application/vnd.jupyter.widget-view+json": {
       "model_id": "",
       "version_major": 2,
       "version_minor": 0
      },
      "text/plain": [
       "Validation: 0it [00:00, ?it/s]"
      ]
     },
     "metadata": {},
     "output_type": "display_data"
    },
    {
     "data": {
      "application/vnd.jupyter.widget-view+json": {
       "model_id": "",
       "version_major": 2,
       "version_minor": 0
      },
      "text/plain": [
       "Validation: 0it [00:00, ?it/s]"
      ]
     },
     "metadata": {},
     "output_type": "display_data"
    },
    {
     "data": {
      "application/vnd.jupyter.widget-view+json": {
       "model_id": "",
       "version_major": 2,
       "version_minor": 0
      },
      "text/plain": [
       "Validation: 0it [00:00, ?it/s]"
      ]
     },
     "metadata": {},
     "output_type": "display_data"
    },
    {
     "data": {
      "application/vnd.jupyter.widget-view+json": {
       "model_id": "",
       "version_major": 2,
       "version_minor": 0
      },
      "text/plain": [
       "Validation: 0it [00:00, ?it/s]"
      ]
     },
     "metadata": {},
     "output_type": "display_data"
    },
    {
     "data": {
      "application/vnd.jupyter.widget-view+json": {
       "model_id": "",
       "version_major": 2,
       "version_minor": 0
      },
      "text/plain": [
       "Validation: 0it [00:00, ?it/s]"
      ]
     },
     "metadata": {},
     "output_type": "display_data"
    },
    {
     "data": {
      "application/vnd.jupyter.widget-view+json": {
       "model_id": "",
       "version_major": 2,
       "version_minor": 0
      },
      "text/plain": [
       "Validation: 0it [00:00, ?it/s]"
      ]
     },
     "metadata": {},
     "output_type": "display_data"
    },
    {
     "data": {
      "application/vnd.jupyter.widget-view+json": {
       "model_id": "",
       "version_major": 2,
       "version_minor": 0
      },
      "text/plain": [
       "Validation: 0it [00:00, ?it/s]"
      ]
     },
     "metadata": {},
     "output_type": "display_data"
    },
    {
     "data": {
      "application/vnd.jupyter.widget-view+json": {
       "model_id": "",
       "version_major": 2,
       "version_minor": 0
      },
      "text/plain": [
       "Validation: 0it [00:00, ?it/s]"
      ]
     },
     "metadata": {},
     "output_type": "display_data"
    },
    {
     "data": {
      "application/vnd.jupyter.widget-view+json": {
       "model_id": "",
       "version_major": 2,
       "version_minor": 0
      },
      "text/plain": [
       "Validation: 0it [00:00, ?it/s]"
      ]
     },
     "metadata": {},
     "output_type": "display_data"
    },
    {
     "data": {
      "application/vnd.jupyter.widget-view+json": {
       "model_id": "",
       "version_major": 2,
       "version_minor": 0
      },
      "text/plain": [
       "Validation: 0it [00:00, ?it/s]"
      ]
     },
     "metadata": {},
     "output_type": "display_data"
    },
    {
     "data": {
      "application/vnd.jupyter.widget-view+json": {
       "model_id": "",
       "version_major": 2,
       "version_minor": 0
      },
      "text/plain": [
       "Validation: 0it [00:00, ?it/s]"
      ]
     },
     "metadata": {},
     "output_type": "display_data"
    },
    {
     "data": {
      "application/vnd.jupyter.widget-view+json": {
       "model_id": "",
       "version_major": 2,
       "version_minor": 0
      },
      "text/plain": [
       "Validation: 0it [00:00, ?it/s]"
      ]
     },
     "metadata": {},
     "output_type": "display_data"
    },
    {
     "data": {
      "application/vnd.jupyter.widget-view+json": {
       "model_id": "",
       "version_major": 2,
       "version_minor": 0
      },
      "text/plain": [
       "Validation: 0it [00:00, ?it/s]"
      ]
     },
     "metadata": {},
     "output_type": "display_data"
    },
    {
     "data": {
      "application/vnd.jupyter.widget-view+json": {
       "model_id": "",
       "version_major": 2,
       "version_minor": 0
      },
      "text/plain": [
       "Validation: 0it [00:00, ?it/s]"
      ]
     },
     "metadata": {},
     "output_type": "display_data"
    },
    {
     "data": {
      "application/vnd.jupyter.widget-view+json": {
       "model_id": "",
       "version_major": 2,
       "version_minor": 0
      },
      "text/plain": [
       "Validation: 0it [00:00, ?it/s]"
      ]
     },
     "metadata": {},
     "output_type": "display_data"
    },
    {
     "data": {
      "application/vnd.jupyter.widget-view+json": {
       "model_id": "",
       "version_major": 2,
       "version_minor": 0
      },
      "text/plain": [
       "Validation: 0it [00:00, ?it/s]"
      ]
     },
     "metadata": {},
     "output_type": "display_data"
    },
    {
     "data": {
      "application/vnd.jupyter.widget-view+json": {
       "model_id": "",
       "version_major": 2,
       "version_minor": 0
      },
      "text/plain": [
       "Validation: 0it [00:00, ?it/s]"
      ]
     },
     "metadata": {},
     "output_type": "display_data"
    }
   ],
   "source": [
    "class MNIST_MLR(nn.Module):\n",
    "    \n",
    "    def __init__(self):\n",
    "        super(MNIST_MLR, self).__init__()\n",
    "        self.linear = nn.Sequential(nn.Flatten(), nn.Linear(784, 10))\n",
    "        \n",
    "    def forward(self, x):\n",
    "        return self.linear(x)\n",
    "\n",
    "mlr_model = MNIST_MLR()\n",
    "mlr_module = SimpleModule.classification(mlr_model)\n",
    "mlr_logger = CSVLogger(\"logs\", name=\"MNIST_MLR\")\n",
    "\n",
    "mlr_trainer = Trainer(deterministic=True, max_epochs=30, callbacks=[ErrorTracker()])\n",
    "mlr_trainer.fit(mlr_module, mnist_dm)"
   ]
  },
  {
   "cell_type": "code",
   "execution_count": 368,
   "id": "2af0f5fe",
   "metadata": {},
   "outputs": [
    {
     "data": {
      "application/vnd.jupyter.widget-view+json": {
       "model_id": "1bdc7d590a354a9d84a6cf4b77d821bb",
       "version_major": 2,
       "version_minor": 0
      },
      "text/plain": [
       "Testing: 0it [00:00, ?it/s]"
      ]
     },
     "metadata": {},
     "output_type": "display_data"
    },
    {
     "name": "stdout",
     "output_type": "stream",
     "text": [
      "────────────────────────────────────────────────────────────────────────────────────────────────────────────────────────\n",
      "Runningstage.testing metric      DataLoader 0\n",
      "────────────────────────────────────────────────────────────────────────────────────────────────────────────────────────\n",
      "      test_accuracy         0.8942000269889832\n",
      "        test_loss           0.41221821308135986\n",
      "────────────────────────────────────────────────────────────────────────────────────────────────────────────────────────\n"
     ]
    },
    {
     "data": {
      "text/plain": [
       "[{'test_loss': 0.41221821308135986, 'test_accuracy': 0.8942000269889832}]"
      ]
     },
     "execution_count": 368,
     "metadata": {},
     "output_type": "execute_result"
    }
   ],
   "source": [
    "mlr_trainer.test(mlr_module, mnist_dm)"
   ]
  },
  {
   "cell_type": "code",
   "execution_count": 373,
   "id": "7115eb07",
   "metadata": {},
   "outputs": [
    {
     "name": "stdout",
     "output_type": "stream",
     "text": [
      "Files already downloaded and verified\n",
      "Files already downloaded and verified\n"
     ]
    }
   ],
   "source": [
    "cifar_train, cifar_test =  [\n",
    "    CIFAR100(root=\"data\", train=train, download=True)\n",
    "    for train in [True, False]\n",
    "]"
   ]
  },
  {
   "cell_type": "code",
   "execution_count": 374,
   "id": "f1dc7644",
   "metadata": {},
   "outputs": [],
   "source": [
    "transform = ToTensor()\n",
    "cifar_train_X = torch.stack([transform(x) for x in cifar_train.data])\n",
    "cifar_test_X = torch.stack([transform(x) for x in cifar_test.data])\n",
    "\n",
    "cifar_train = TensorDataset(cifar_train_X, torch.tensor(cifar_train.targets))\n",
    "cifar_test = TensorDataset(cifar_test_X, torch.tensor(cifar_test.targets))\n",
    "\n",
    "\n"
   ]
  },
  {
   "cell_type": "code",
   "execution_count": 375,
   "id": "6dc96c3a",
   "metadata": {},
   "outputs": [],
   "source": [
    "cifar_dm = SimpleDataModule(cifar_train, cifar_test, validation=0.2, num_workers=4, batch_size=128)"
   ]
  },
  {
   "cell_type": "code",
   "execution_count": 376,
   "id": "05a41705",
   "metadata": {},
   "outputs": [
    {
     "name": "stdout",
     "output_type": "stream",
     "text": [
      "X:  torch.Size([128, 3, 32, 32])\n",
      "Y:  torch.Size([128])\n",
      "X:  torch.Size([128, 3, 32, 32])\n",
      "Y:  torch.Size([128])\n"
     ]
    }
   ],
   "source": [
    "for idx, (X_, Y_) in enumerate(cifar_dm.train_dataloader()):\n",
    "    print(\"X: \", X_.shape)\n",
    "    print(\"Y: \", Y_.shape)\n",
    "    if idx >= 1:\n",
    "        break"
   ]
  },
  {
   "cell_type": "code",
   "execution_count": 384,
   "id": "0bad3e1e",
   "metadata": {},
   "outputs": [],
   "source": [
    "class BuildingBlock(nn.Module):\n",
    "    def __init__(self, in_channels, out_channels):\n",
    "        super(BuildingBlock, self).__init__()\n",
    "        self.conv = nn.Conv2d(in_channels=in_channels, out_channels=out_channels, kernel_size=(3,3), padding=\"same\")\n",
    "        self.activation = nn.ReLU()\n",
    "        self.pool = nn.MaxPool2d(kernel_size=(2,2))\n",
    "        \n",
    "    def forward(self, x):\n",
    "        return self.pool(self.activation(self.conv(x)))\n",
    "        \n",
    "class CIFARModel(nn.Module):\n",
    "    \n",
    "    def __init__(self):\n",
    "        super(CIFARModel, self).__init__()\n",
    "        sizes = [(3, 32), (32, 64), (64, 128), (128, 256)]\n",
    "        self.conv = nn.Sequential(*[BuildingBlock(in_, out_) for in_, out_ in sizes])\n",
    "        \n",
    "        self.output = nn.Sequential(nn.Dropout(0.5), nn.Linear(2 * 2 * 256, 512), nn.ReLU(), nn.Linear(512, 100))\n",
    "        \n",
    "    def forward(self, x):\n",
    "        val = self.conv(x)\n",
    "        val = torch.flatten(val, start_dim=1)\n",
    "        return self.output(val)"
   ]
  },
  {
   "cell_type": "code",
   "execution_count": 385,
   "id": "8336b4a2",
   "metadata": {},
   "outputs": [
    {
     "data": {
      "text/plain": [
       "===================================================================================================================\n",
       "Layer (type:depth-idx)                   Input Shape               Output Shape              Param #\n",
       "===================================================================================================================\n",
       "CIFARModel                               [128, 3, 32, 32]          [128, 100]                --\n",
       "├─Sequential: 1-1                        [128, 3, 32, 32]          [128, 256, 2, 2]          --\n",
       "│    └─BuildingBlock: 2-1                [128, 3, 32, 32]          [128, 32, 16, 16]         --\n",
       "│    │    └─Conv2d: 3-1                  [128, 3, 32, 32]          [128, 32, 32, 32]         896\n",
       "│    │    └─ReLU: 3-2                    [128, 32, 32, 32]         [128, 32, 32, 32]         --\n",
       "│    │    └─MaxPool2d: 3-3               [128, 32, 32, 32]         [128, 32, 16, 16]         --\n",
       "│    └─BuildingBlock: 2-2                [128, 32, 16, 16]         [128, 64, 8, 8]           --\n",
       "│    │    └─Conv2d: 3-4                  [128, 32, 16, 16]         [128, 64, 16, 16]         18,496\n",
       "│    │    └─ReLU: 3-5                    [128, 64, 16, 16]         [128, 64, 16, 16]         --\n",
       "│    │    └─MaxPool2d: 3-6               [128, 64, 16, 16]         [128, 64, 8, 8]           --\n",
       "│    └─BuildingBlock: 2-3                [128, 64, 8, 8]           [128, 128, 4, 4]          --\n",
       "│    │    └─Conv2d: 3-7                  [128, 64, 8, 8]           [128, 128, 8, 8]          73,856\n",
       "│    │    └─ReLU: 3-8                    [128, 128, 8, 8]          [128, 128, 8, 8]          --\n",
       "│    │    └─MaxPool2d: 3-9               [128, 128, 8, 8]          [128, 128, 4, 4]          --\n",
       "│    └─BuildingBlock: 2-4                [128, 128, 4, 4]          [128, 256, 2, 2]          --\n",
       "│    │    └─Conv2d: 3-10                 [128, 128, 4, 4]          [128, 256, 4, 4]          295,168\n",
       "│    │    └─ReLU: 3-11                   [128, 256, 4, 4]          [128, 256, 4, 4]          --\n",
       "│    │    └─MaxPool2d: 3-12              [128, 256, 4, 4]          [128, 256, 2, 2]          --\n",
       "├─Sequential: 1-2                        [128, 1024]               [128, 100]                --\n",
       "│    └─Dropout: 2-5                      [128, 1024]               [128, 1024]               --\n",
       "│    └─Linear: 2-6                       [128, 1024]               [128, 512]                524,800\n",
       "│    └─ReLU: 2-7                         [128, 512]                [128, 512]                --\n",
       "│    └─Linear: 2-8                       [128, 512]                [128, 100]                51,300\n",
       "===================================================================================================================\n",
       "Total params: 964,516\n",
       "Trainable params: 964,516\n",
       "Non-trainable params: 0\n",
       "Total mult-adds (Units.GIGABYTES): 2.01\n",
       "===================================================================================================================\n",
       "Input size (MB): 1.57\n",
       "Forward/backward pass size (MB): 63.54\n",
       "Params size (MB): 3.86\n",
       "Estimated Total Size (MB): 68.97\n",
       "==================================================================================================================="
      ]
     },
     "execution_count": 385,
     "metadata": {},
     "output_type": "execute_result"
    }
   ],
   "source": [
    "cifar_model = CIFARModel()\n",
    "summary(cifar_model, input_data=X_, col_names=[\"input_size\", \"output_size\", \"num_params\"])"
   ]
  },
  {
   "cell_type": "code",
   "execution_count": 390,
   "id": "f44fe98c",
   "metadata": {},
   "outputs": [],
   "source": [
    "cifar_optimizer = RMSprop(cifar_model.parameters(), lr=0.001)\n",
    "cifar_module = SimpleModule.classification(cifar_model, optimizer=cifar_optimizer)\n",
    "cifar_logger = CSVLogger(\"logs\", name=\"CIFAR100\")"
   ]
  },
  {
   "cell_type": "code",
   "execution_count": 391,
   "id": "ff143e19",
   "metadata": {},
   "outputs": [
    {
     "name": "stderr",
     "output_type": "stream",
     "text": [
      "GPU available: False, used: False\n",
      "TPU available: False, using: 0 TPU cores\n",
      "IPU available: False, using: 0 IPUs\n",
      "HPU available: False, using: 0 HPUs\n",
      "\n",
      "  | Name  | Type             | Params\n",
      "-------------------------------------------\n",
      "0 | model | CIFARModel       | 964 K \n",
      "1 | loss  | CrossEntropyLoss | 0     \n",
      "-------------------------------------------\n",
      "964 K     Trainable params\n",
      "0         Non-trainable params\n",
      "964 K     Total params\n",
      "3.858     Total estimated model params size (MB)\n"
     ]
    },
    {
     "data": {
      "application/vnd.jupyter.widget-view+json": {
       "model_id": "",
       "version_major": 2,
       "version_minor": 0
      },
      "text/plain": [
       "Sanity Checking: 0it [00:00, ?it/s]"
      ]
     },
     "metadata": {},
     "output_type": "display_data"
    },
    {
     "data": {
      "application/vnd.jupyter.widget-view+json": {
       "model_id": "5cbc813a42544ea4a23ba86d40c90202",
       "version_major": 2,
       "version_minor": 0
      },
      "text/plain": [
       "Training: 0it [00:00, ?it/s]"
      ]
     },
     "metadata": {},
     "output_type": "display_data"
    },
    {
     "data": {
      "application/vnd.jupyter.widget-view+json": {
       "model_id": "",
       "version_major": 2,
       "version_minor": 0
      },
      "text/plain": [
       "Validation: 0it [00:00, ?it/s]"
      ]
     },
     "metadata": {},
     "output_type": "display_data"
    },
    {
     "data": {
      "application/vnd.jupyter.widget-view+json": {
       "model_id": "",
       "version_major": 2,
       "version_minor": 0
      },
      "text/plain": [
       "Validation: 0it [00:00, ?it/s]"
      ]
     },
     "metadata": {},
     "output_type": "display_data"
    },
    {
     "data": {
      "application/vnd.jupyter.widget-view+json": {
       "model_id": "",
       "version_major": 2,
       "version_minor": 0
      },
      "text/plain": [
       "Validation: 0it [00:00, ?it/s]"
      ]
     },
     "metadata": {},
     "output_type": "display_data"
    },
    {
     "data": {
      "application/vnd.jupyter.widget-view+json": {
       "model_id": "",
       "version_major": 2,
       "version_minor": 0
      },
      "text/plain": [
       "Validation: 0it [00:00, ?it/s]"
      ]
     },
     "metadata": {},
     "output_type": "display_data"
    },
    {
     "data": {
      "application/vnd.jupyter.widget-view+json": {
       "model_id": "",
       "version_major": 2,
       "version_minor": 0
      },
      "text/plain": [
       "Validation: 0it [00:00, ?it/s]"
      ]
     },
     "metadata": {},
     "output_type": "display_data"
    },
    {
     "data": {
      "application/vnd.jupyter.widget-view+json": {
       "model_id": "",
       "version_major": 2,
       "version_minor": 0
      },
      "text/plain": [
       "Validation: 0it [00:00, ?it/s]"
      ]
     },
     "metadata": {},
     "output_type": "display_data"
    },
    {
     "data": {
      "application/vnd.jupyter.widget-view+json": {
       "model_id": "",
       "version_major": 2,
       "version_minor": 0
      },
      "text/plain": [
       "Validation: 0it [00:00, ?it/s]"
      ]
     },
     "metadata": {},
     "output_type": "display_data"
    },
    {
     "data": {
      "application/vnd.jupyter.widget-view+json": {
       "model_id": "",
       "version_major": 2,
       "version_minor": 0
      },
      "text/plain": [
       "Validation: 0it [00:00, ?it/s]"
      ]
     },
     "metadata": {},
     "output_type": "display_data"
    },
    {
     "data": {
      "application/vnd.jupyter.widget-view+json": {
       "model_id": "",
       "version_major": 2,
       "version_minor": 0
      },
      "text/plain": [
       "Validation: 0it [00:00, ?it/s]"
      ]
     },
     "metadata": {},
     "output_type": "display_data"
    },
    {
     "data": {
      "application/vnd.jupyter.widget-view+json": {
       "model_id": "",
       "version_major": 2,
       "version_minor": 0
      },
      "text/plain": [
       "Validation: 0it [00:00, ?it/s]"
      ]
     },
     "metadata": {},
     "output_type": "display_data"
    },
    {
     "data": {
      "application/vnd.jupyter.widget-view+json": {
       "model_id": "",
       "version_major": 2,
       "version_minor": 0
      },
      "text/plain": [
       "Validation: 0it [00:00, ?it/s]"
      ]
     },
     "metadata": {},
     "output_type": "display_data"
    },
    {
     "data": {
      "application/vnd.jupyter.widget-view+json": {
       "model_id": "",
       "version_major": 2,
       "version_minor": 0
      },
      "text/plain": [
       "Validation: 0it [00:00, ?it/s]"
      ]
     },
     "metadata": {},
     "output_type": "display_data"
    },
    {
     "data": {
      "application/vnd.jupyter.widget-view+json": {
       "model_id": "",
       "version_major": 2,
       "version_minor": 0
      },
      "text/plain": [
       "Validation: 0it [00:00, ?it/s]"
      ]
     },
     "metadata": {},
     "output_type": "display_data"
    },
    {
     "data": {
      "application/vnd.jupyter.widget-view+json": {
       "model_id": "",
       "version_major": 2,
       "version_minor": 0
      },
      "text/plain": [
       "Validation: 0it [00:00, ?it/s]"
      ]
     },
     "metadata": {},
     "output_type": "display_data"
    },
    {
     "data": {
      "application/vnd.jupyter.widget-view+json": {
       "model_id": "",
       "version_major": 2,
       "version_minor": 0
      },
      "text/plain": [
       "Validation: 0it [00:00, ?it/s]"
      ]
     },
     "metadata": {},
     "output_type": "display_data"
    },
    {
     "data": {
      "application/vnd.jupyter.widget-view+json": {
       "model_id": "",
       "version_major": 2,
       "version_minor": 0
      },
      "text/plain": [
       "Validation: 0it [00:00, ?it/s]"
      ]
     },
     "metadata": {},
     "output_type": "display_data"
    },
    {
     "data": {
      "application/vnd.jupyter.widget-view+json": {
       "model_id": "",
       "version_major": 2,
       "version_minor": 0
      },
      "text/plain": [
       "Validation: 0it [00:00, ?it/s]"
      ]
     },
     "metadata": {},
     "output_type": "display_data"
    },
    {
     "data": {
      "application/vnd.jupyter.widget-view+json": {
       "model_id": "",
       "version_major": 2,
       "version_minor": 0
      },
      "text/plain": [
       "Validation: 0it [00:00, ?it/s]"
      ]
     },
     "metadata": {},
     "output_type": "display_data"
    },
    {
     "data": {
      "application/vnd.jupyter.widget-view+json": {
       "model_id": "",
       "version_major": 2,
       "version_minor": 0
      },
      "text/plain": [
       "Validation: 0it [00:00, ?it/s]"
      ]
     },
     "metadata": {},
     "output_type": "display_data"
    },
    {
     "data": {
      "application/vnd.jupyter.widget-view+json": {
       "model_id": "",
       "version_major": 2,
       "version_minor": 0
      },
      "text/plain": [
       "Validation: 0it [00:00, ?it/s]"
      ]
     },
     "metadata": {},
     "output_type": "display_data"
    },
    {
     "data": {
      "application/vnd.jupyter.widget-view+json": {
       "model_id": "",
       "version_major": 2,
       "version_minor": 0
      },
      "text/plain": [
       "Validation: 0it [00:00, ?it/s]"
      ]
     },
     "metadata": {},
     "output_type": "display_data"
    },
    {
     "data": {
      "application/vnd.jupyter.widget-view+json": {
       "model_id": "",
       "version_major": 2,
       "version_minor": 0
      },
      "text/plain": [
       "Validation: 0it [00:00, ?it/s]"
      ]
     },
     "metadata": {},
     "output_type": "display_data"
    },
    {
     "data": {
      "application/vnd.jupyter.widget-view+json": {
       "model_id": "",
       "version_major": 2,
       "version_minor": 0
      },
      "text/plain": [
       "Validation: 0it [00:00, ?it/s]"
      ]
     },
     "metadata": {},
     "output_type": "display_data"
    },
    {
     "data": {
      "application/vnd.jupyter.widget-view+json": {
       "model_id": "",
       "version_major": 2,
       "version_minor": 0
      },
      "text/plain": [
       "Validation: 0it [00:00, ?it/s]"
      ]
     },
     "metadata": {},
     "output_type": "display_data"
    },
    {
     "data": {
      "application/vnd.jupyter.widget-view+json": {
       "model_id": "",
       "version_major": 2,
       "version_minor": 0
      },
      "text/plain": [
       "Validation: 0it [00:00, ?it/s]"
      ]
     },
     "metadata": {},
     "output_type": "display_data"
    },
    {
     "data": {
      "application/vnd.jupyter.widget-view+json": {
       "model_id": "",
       "version_major": 2,
       "version_minor": 0
      },
      "text/plain": [
       "Validation: 0it [00:00, ?it/s]"
      ]
     },
     "metadata": {},
     "output_type": "display_data"
    },
    {
     "data": {
      "application/vnd.jupyter.widget-view+json": {
       "model_id": "",
       "version_major": 2,
       "version_minor": 0
      },
      "text/plain": [
       "Validation: 0it [00:00, ?it/s]"
      ]
     },
     "metadata": {},
     "output_type": "display_data"
    },
    {
     "data": {
      "application/vnd.jupyter.widget-view+json": {
       "model_id": "",
       "version_major": 2,
       "version_minor": 0
      },
      "text/plain": [
       "Validation: 0it [00:00, ?it/s]"
      ]
     },
     "metadata": {},
     "output_type": "display_data"
    },
    {
     "data": {
      "application/vnd.jupyter.widget-view+json": {
       "model_id": "",
       "version_major": 2,
       "version_minor": 0
      },
      "text/plain": [
       "Validation: 0it [00:00, ?it/s]"
      ]
     },
     "metadata": {},
     "output_type": "display_data"
    },
    {
     "data": {
      "application/vnd.jupyter.widget-view+json": {
       "model_id": "",
       "version_major": 2,
       "version_minor": 0
      },
      "text/plain": [
       "Validation: 0it [00:00, ?it/s]"
      ]
     },
     "metadata": {},
     "output_type": "display_data"
    }
   ],
   "source": [
    "cifar_trainer = Trainer(deterministic=True, max_epochs=30, logger=cifar_logger, callbacks=[ErrorTracker()])\n",
    "cifar_trainer.fit(cifar_module, cifar_dm)"
   ]
  },
  {
   "cell_type": "code",
   "execution_count": 393,
   "id": "7970d83a",
   "metadata": {},
   "outputs": [
    {
     "data": {
      "application/vnd.jupyter.widget-view+json": {
       "model_id": "b47c96dd573449eba160997658880e27",
       "version_major": 2,
       "version_minor": 0
      },
      "text/plain": [
       "Testing: 0it [00:00, ?it/s]"
      ]
     },
     "metadata": {},
     "output_type": "display_data"
    },
    {
     "name": "stdout",
     "output_type": "stream",
     "text": [
      "────────────────────────────────────────────────────────────────────────────────────────────────────────────────────────\n",
      "Runningstage.testing metric      DataLoader 0\n",
      "────────────────────────────────────────────────────────────────────────────────────────────────────────────────────────\n",
      "      test_accuracy         0.4269999861717224\n",
      "        test_loss           2.2991085052490234\n",
      "────────────────────────────────────────────────────────────────────────────────────────────────────────────────────────\n"
     ]
    },
    {
     "data": {
      "text/plain": [
       "[{'test_loss': 2.2991085052490234, 'test_accuracy': 0.4269999861717224}]"
      ]
     },
     "execution_count": 393,
     "metadata": {},
     "output_type": "execute_result"
    }
   ],
   "source": [
    "cifar_trainer.test(cifar_module, cifar_dm)"
   ]
  },
  {
   "cell_type": "code",
   "execution_count": 394,
   "id": "17b156bb",
   "metadata": {},
   "outputs": [
    {
     "data": {
      "text/plain": [
       "4"
      ]
     },
     "execution_count": 394,
     "metadata": {},
     "output_type": "execute_result"
    }
   ],
   "source": [
    "rec_num_workers()"
   ]
  },
  {
   "cell_type": "code",
   "execution_count": 399,
   "id": "2edf3511",
   "metadata": {},
   "outputs": [
    {
     "data": {
      "image/png": "[encoded data removed]",
      "text/plain": [
       "<Figure size 1000x1000 with 25 Axes>"
      ]
     },
     "metadata": {},
     "output_type": "display_data"
    }
   ],
   "source": [
    "fig, axes = subplots(5, 5, figsize=(10, 10))\n",
    "rng = np.random.default_rng(1)\n",
    "indices = rng.choice(np.arange(len(cifar_train)), 25, replace=False).reshape((5, 5))\n",
    "for i in range(5):\n",
    "    for j in range(5):\n",
    "        idx = indices[i, j]\n",
    "        axes[i, j].imshow(np.transpose(cifar_train[idx][0], [1,2,0]), interpolation = None)\n",
    "        axes[i, j].set_xticks([])\n",
    "        axes[i, j].set_yticks([])"
   ]
  },
  {
   "cell_type": "code",
   "execution_count": 92,
   "id": "861908a9",
   "metadata": {},
   "outputs": [],
   "source": [
    "imdb_seq_train, imdb_seq_test = load_sequential(root=\"data/IMDB\")"
   ]
  },
  {
   "cell_type": "code",
   "execution_count": 404,
   "id": "3a962f28",
   "metadata": {},
   "outputs": [],
   "source": [
    "padded_sample = np.asarray(imdb_seq_train.tensors[0][0])"
   ]
  },
  {
   "cell_type": "code",
   "execution_count": 405,
   "id": "b707c268",
   "metadata": {},
   "outputs": [],
   "source": [
    "sample_review = padded_sample[padded_sample > 0][:12]"
   ]
  },
  {
   "cell_type": "code",
   "execution_count": 406,
   "id": "680c469c",
   "metadata": {},
   "outputs": [
    {
     "data": {
      "text/plain": [
       "array([   1,   14,   22,   16,   43,  530,  973, 1622, 1385,   65,  458,\n",
       "       4468], dtype=int32)"
      ]
     },
     "execution_count": 406,
     "metadata": {},
     "output_type": "execute_result"
    }
   ],
   "source": [
    "sample_review"
   ]
  },
  {
   "cell_type": "code",
   "execution_count": 407,
   "id": "813539c0",
   "metadata": {},
   "outputs": [
    {
     "name": "stdout",
     "output_type": "stream",
     "text": [
      "Retrieving \"IMDB_word_index.pkl\" from \"http://imdb.jtaylor.su.domains/jtaylor/data/\".\n"
     ]
    },
    {
     "data": {
      "text/plain": [
       "\"<START> this film was just brilliant casting location scenery story direction everyone's\""
      ]
     },
     "execution_count": 407,
     "metadata": {},
     "output_type": "execute_result"
    }
   ],
   "source": [
    "lookup = load_lookup(root='data/IMDB')\n",
    "' '.join(lookup[i] for i in sample_review)"
   ]
  },
  {
   "cell_type": "code",
   "execution_count": 39,
   "id": "4a29efc9",
   "metadata": {},
   "outputs": [],
   "source": [
    "imdb_train, imdb_test = load_tensor(root=\"data/IMDB\")\n",
    "imdb_dm = SimpleDataModule(imdb_train, imdb_test, validation=2000, batch_size=512)\n"
   ]
  },
  {
   "cell_type": "code",
   "execution_count": 40,
   "id": "dc8707d8",
   "metadata": {},
   "outputs": [],
   "source": [
    "class IMDBModel(nn.Module):\n",
    "    def __init__(self, input_size):\n",
    "        super(IMDBModel, self).__init__()\n",
    "        self.dense1 = nn.Linear(input_size, 16)\n",
    "        self.activation = nn.ReLU()\n",
    "        self.dense2 = nn.Linear(16, 16)\n",
    "        self.output = nn.Linear(16, 1)\n",
    "        \n",
    "    def forward(self, x):\n",
    "        val = x \n",
    "        for _map in [self.dense1, self.activation, self.dense2, self.activation, self.output]:\n",
    "            val = _map(val)\n",
    "        return torch.flatten(val)"
   ]
  },
  {
   "cell_type": "code",
   "execution_count": 41,
   "id": "25115622",
   "metadata": {},
   "outputs": [],
   "source": [
    "imdb_model = IMDBModel(imdb_test.tensors[0].size()[1])"
   ]
  },
  {
   "cell_type": "code",
   "execution_count": 42,
   "id": "e10dbbdf",
   "metadata": {},
   "outputs": [
    {
     "data": {
      "text/plain": [
       "===================================================================================================================\n",
       "Layer (type:depth-idx)                   Input Shape               Output Shape              Param #\n",
       "===================================================================================================================\n",
       "IMDBModel                                [25000, 10003]            [25000]                   --\n",
       "├─Linear: 1-1                            [25000, 10003]            [25000, 16]               160,064\n",
       "├─ReLU: 1-2                              [25000, 16]               [25000, 16]               --\n",
       "├─Linear: 1-3                            [25000, 16]               [25000, 16]               272\n",
       "├─ReLU: 1-4                              [25000, 16]               [25000, 16]               --\n",
       "├─Linear: 1-5                            [25000, 16]               [25000, 1]                17\n",
       "===================================================================================================================\n",
       "Total params: 160,353\n",
       "Trainable params: 160,353\n",
       "Non-trainable params: 0\n",
       "Total mult-adds (Units.GIGABYTES): 4.01\n",
       "===================================================================================================================\n",
       "Input size (MB): 1000.30\n",
       "Forward/backward pass size (MB): 6.60\n",
       "Params size (MB): 0.64\n",
       "Estimated Total Size (MB): 1007.54\n",
       "==================================================================================================================="
      ]
     },
     "execution_count": 42,
     "metadata": {},
     "output_type": "execute_result"
    }
   ],
   "source": [
    "summary(imdb_model, input_size=imdb_test.tensors[0].size(), col_names=[\"input_size\", \"output_size\", \"num_params\"])"
   ]
  },
  {
   "cell_type": "code",
   "execution_count": 43,
   "id": "9235e2b2",
   "metadata": {},
   "outputs": [],
   "source": [
    "imdb_optimizer = RMSprop(imdb_model.parameters(), lr=0.001)\n",
    "imdb_module = SimpleModule.binary_classification(imdb_model, optimizer=imdb_optimizer)"
   ]
  },
  {
   "cell_type": "code",
   "execution_count": 44,
   "id": "95ce3aba",
   "metadata": {},
   "outputs": [
    {
     "name": "stderr",
     "output_type": "stream",
     "text": [
      "GPU available: False, used: False\n",
      "TPU available: False, using: 0 TPU cores\n",
      "IPU available: False, using: 0 IPUs\n",
      "HPU available: False, using: 0 HPUs\n",
      "\n",
      "  | Name  | Type              | Params\n",
      "--------------------------------------------\n",
      "0 | model | IMDBModel         | 160 K \n",
      "1 | loss  | BCEWithLogitsLoss | 0     \n",
      "--------------------------------------------\n",
      "160 K     Trainable params\n",
      "0         Non-trainable params\n",
      "160 K     Total params\n",
      "0.641     Total estimated model params size (MB)\n"
     ]
    },
    {
     "data": {
      "application/vnd.jupyter.widget-view+json": {
       "model_id": "",
       "version_major": 2,
       "version_minor": 0
      },
      "text/plain": [
       "Sanity Checking: 0it [00:00, ?it/s]"
      ]
     },
     "metadata": {},
     "output_type": "display_data"
    },
    {
     "data": {
      "application/vnd.jupyter.widget-view+json": {
       "model_id": "65ac27d47c9d4c5bb8de1607a6d576e6",
       "version_major": 2,
       "version_minor": 0
      },
      "text/plain": [
       "Training: 0it [00:00, ?it/s]"
      ]
     },
     "metadata": {},
     "output_type": "display_data"
    },
    {
     "data": {
      "application/vnd.jupyter.widget-view+json": {
       "model_id": "",
       "version_major": 2,
       "version_minor": 0
      },
      "text/plain": [
       "Validation: 0it [00:00, ?it/s]"
      ]
     },
     "metadata": {},
     "output_type": "display_data"
    },
    {
     "data": {
      "application/vnd.jupyter.widget-view+json": {
       "model_id": "",
       "version_major": 2,
       "version_minor": 0
      },
      "text/plain": [
       "Validation: 0it [00:00, ?it/s]"
      ]
     },
     "metadata": {},
     "output_type": "display_data"
    },
    {
     "data": {
      "application/vnd.jupyter.widget-view+json": {
       "model_id": "",
       "version_major": 2,
       "version_minor": 0
      },
      "text/plain": [
       "Validation: 0it [00:00, ?it/s]"
      ]
     },
     "metadata": {},
     "output_type": "display_data"
    },
    {
     "data": {
      "application/vnd.jupyter.widget-view+json": {
       "model_id": "",
       "version_major": 2,
       "version_minor": 0
      },
      "text/plain": [
       "Validation: 0it [00:00, ?it/s]"
      ]
     },
     "metadata": {},
     "output_type": "display_data"
    },
    {
     "data": {
      "application/vnd.jupyter.widget-view+json": {
       "model_id": "",
       "version_major": 2,
       "version_minor": 0
      },
      "text/plain": [
       "Validation: 0it [00:00, ?it/s]"
      ]
     },
     "metadata": {},
     "output_type": "display_data"
    },
    {
     "data": {
      "application/vnd.jupyter.widget-view+json": {
       "model_id": "",
       "version_major": 2,
       "version_minor": 0
      },
      "text/plain": [
       "Validation: 0it [00:00, ?it/s]"
      ]
     },
     "metadata": {},
     "output_type": "display_data"
    },
    {
     "data": {
      "application/vnd.jupyter.widget-view+json": {
       "model_id": "",
       "version_major": 2,
       "version_minor": 0
      },
      "text/plain": [
       "Validation: 0it [00:00, ?it/s]"
      ]
     },
     "metadata": {},
     "output_type": "display_data"
    },
    {
     "data": {
      "application/vnd.jupyter.widget-view+json": {
       "model_id": "",
       "version_major": 2,
       "version_minor": 0
      },
      "text/plain": [
       "Validation: 0it [00:00, ?it/s]"
      ]
     },
     "metadata": {},
     "output_type": "display_data"
    },
    {
     "data": {
      "application/vnd.jupyter.widget-view+json": {
       "model_id": "",
       "version_major": 2,
       "version_minor": 0
      },
      "text/plain": [
       "Validation: 0it [00:00, ?it/s]"
      ]
     },
     "metadata": {},
     "output_type": "display_data"
    },
    {
     "data": {
      "application/vnd.jupyter.widget-view+json": {
       "model_id": "",
       "version_major": 2,
       "version_minor": 0
      },
      "text/plain": [
       "Validation: 0it [00:00, ?it/s]"
      ]
     },
     "metadata": {},
     "output_type": "display_data"
    },
    {
     "data": {
      "application/vnd.jupyter.widget-view+json": {
       "model_id": "",
       "version_major": 2,
       "version_minor": 0
      },
      "text/plain": [
       "Validation: 0it [00:00, ?it/s]"
      ]
     },
     "metadata": {},
     "output_type": "display_data"
    },
    {
     "data": {
      "application/vnd.jupyter.widget-view+json": {
       "model_id": "",
       "version_major": 2,
       "version_minor": 0
      },
      "text/plain": [
       "Validation: 0it [00:00, ?it/s]"
      ]
     },
     "metadata": {},
     "output_type": "display_data"
    },
    {
     "data": {
      "application/vnd.jupyter.widget-view+json": {
       "model_id": "",
       "version_major": 2,
       "version_minor": 0
      },
      "text/plain": [
       "Validation: 0it [00:00, ?it/s]"
      ]
     },
     "metadata": {},
     "output_type": "display_data"
    },
    {
     "data": {
      "application/vnd.jupyter.widget-view+json": {
       "model_id": "",
       "version_major": 2,
       "version_minor": 0
      },
      "text/plain": [
       "Validation: 0it [00:00, ?it/s]"
      ]
     },
     "metadata": {},
     "output_type": "display_data"
    },
    {
     "data": {
      "application/vnd.jupyter.widget-view+json": {
       "model_id": "",
       "version_major": 2,
       "version_minor": 0
      },
      "text/plain": [
       "Validation: 0it [00:00, ?it/s]"
      ]
     },
     "metadata": {},
     "output_type": "display_data"
    },
    {
     "data": {
      "application/vnd.jupyter.widget-view+json": {
       "model_id": "",
       "version_major": 2,
       "version_minor": 0
      },
      "text/plain": [
       "Validation: 0it [00:00, ?it/s]"
      ]
     },
     "metadata": {},
     "output_type": "display_data"
    },
    {
     "data": {
      "application/vnd.jupyter.widget-view+json": {
       "model_id": "",
       "version_major": 2,
       "version_minor": 0
      },
      "text/plain": [
       "Validation: 0it [00:00, ?it/s]"
      ]
     },
     "metadata": {},
     "output_type": "display_data"
    },
    {
     "data": {
      "application/vnd.jupyter.widget-view+json": {
       "model_id": "",
       "version_major": 2,
       "version_minor": 0
      },
      "text/plain": [
       "Validation: 0it [00:00, ?it/s]"
      ]
     },
     "metadata": {},
     "output_type": "display_data"
    },
    {
     "data": {
      "application/vnd.jupyter.widget-view+json": {
       "model_id": "",
       "version_major": 2,
       "version_minor": 0
      },
      "text/plain": [
       "Validation: 0it [00:00, ?it/s]"
      ]
     },
     "metadata": {},
     "output_type": "display_data"
    },
    {
     "data": {
      "application/vnd.jupyter.widget-view+json": {
       "model_id": "",
       "version_major": 2,
       "version_minor": 0
      },
      "text/plain": [
       "Validation: 0it [00:00, ?it/s]"
      ]
     },
     "metadata": {},
     "output_type": "display_data"
    },
    {
     "data": {
      "application/vnd.jupyter.widget-view+json": {
       "model_id": "",
       "version_major": 2,
       "version_minor": 0
      },
      "text/plain": [
       "Validation: 0it [00:00, ?it/s]"
      ]
     },
     "metadata": {},
     "output_type": "display_data"
    },
    {
     "data": {
      "application/vnd.jupyter.widget-view+json": {
       "model_id": "",
       "version_major": 2,
       "version_minor": 0
      },
      "text/plain": [
       "Validation: 0it [00:00, ?it/s]"
      ]
     },
     "metadata": {},
     "output_type": "display_data"
    },
    {
     "data": {
      "application/vnd.jupyter.widget-view+json": {
       "model_id": "",
       "version_major": 2,
       "version_minor": 0
      },
      "text/plain": [
       "Validation: 0it [00:00, ?it/s]"
      ]
     },
     "metadata": {},
     "output_type": "display_data"
    },
    {
     "data": {
      "application/vnd.jupyter.widget-view+json": {
       "model_id": "",
       "version_major": 2,
       "version_minor": 0
      },
      "text/plain": [
       "Validation: 0it [00:00, ?it/s]"
      ]
     },
     "metadata": {},
     "output_type": "display_data"
    },
    {
     "data": {
      "application/vnd.jupyter.widget-view+json": {
       "model_id": "",
       "version_major": 2,
       "version_minor": 0
      },
      "text/plain": [
       "Validation: 0it [00:00, ?it/s]"
      ]
     },
     "metadata": {},
     "output_type": "display_data"
    },
    {
     "data": {
      "application/vnd.jupyter.widget-view+json": {
       "model_id": "",
       "version_major": 2,
       "version_minor": 0
      },
      "text/plain": [
       "Validation: 0it [00:00, ?it/s]"
      ]
     },
     "metadata": {},
     "output_type": "display_data"
    },
    {
     "data": {
      "application/vnd.jupyter.widget-view+json": {
       "model_id": "",
       "version_major": 2,
       "version_minor": 0
      },
      "text/plain": [
       "Validation: 0it [00:00, ?it/s]"
      ]
     },
     "metadata": {},
     "output_type": "display_data"
    },
    {
     "data": {
      "application/vnd.jupyter.widget-view+json": {
       "model_id": "",
       "version_major": 2,
       "version_minor": 0
      },
      "text/plain": [
       "Validation: 0it [00:00, ?it/s]"
      ]
     },
     "metadata": {},
     "output_type": "display_data"
    },
    {
     "data": {
      "application/vnd.jupyter.widget-view+json": {
       "model_id": "",
       "version_major": 2,
       "version_minor": 0
      },
      "text/plain": [
       "Validation: 0it [00:00, ?it/s]"
      ]
     },
     "metadata": {},
     "output_type": "display_data"
    },
    {
     "data": {
      "application/vnd.jupyter.widget-view+json": {
       "model_id": "",
       "version_major": 2,
       "version_minor": 0
      },
      "text/plain": [
       "Validation: 0it [00:00, ?it/s]"
      ]
     },
     "metadata": {},
     "output_type": "display_data"
    }
   ],
   "source": [
    "imdb_logger = CSVLogger(\"logs\", name=\"IMDB\")\n",
    "imdb_trainer = Trainer(deterministic=True, max_epochs=30, logger=imdb_logger, callbacks=[ErrorTracker()])\n",
    "imdb_trainer.fit(imdb_module, datamodule=imdb_dm)"
   ]
  },
  {
   "cell_type": "code",
   "execution_count": 45,
   "id": "1018f781",
   "metadata": {},
   "outputs": [
    {
     "data": {
      "application/vnd.jupyter.widget-view+json": {
       "model_id": "f09c4c6c415746fbaf771082db8f57fb",
       "version_major": 2,
       "version_minor": 0
      },
      "text/plain": [
       "Testing: 0it [00:00, ?it/s]"
      ]
     },
     "metadata": {},
     "output_type": "display_data"
    },
    {
     "name": "stdout",
     "output_type": "stream",
     "text": [
      "────────────────────────────────────────────────────────────────────────────────────────────────────────────────────────\n",
      "Runningstage.testing metric      DataLoader 0\n",
      "────────────────────────────────────────────────────────────────────────────────────────────────────────────────────────\n",
      "      test_accuracy         0.8497599959373474\n",
      "        test_loss           1.2460297346115112\n",
      "────────────────────────────────────────────────────────────────────────────────────────────────────────────────────────\n"
     ]
    }
   ],
   "source": [
    "test_results = imdb_trainer.test(imdb_module, imdb_dm)"
   ]
  },
  {
   "cell_type": "code",
   "execution_count": 6,
   "id": "6724fd33",
   "metadata": {},
   "outputs": [],
   "source": [
    "(X_train, y_train), (X_valid, y_valid), (X_test, y_test) = load_sparse(validation=2000, random_state=0, root=\"data/IMDB\")"
   ]
  },
  {
   "cell_type": "code",
   "execution_count": 7,
   "id": "fdacabe0",
   "metadata": {},
   "outputs": [
    {
     "data": {
      "text/plain": [
       "(23000, 10003)"
      ]
     },
     "execution_count": 7,
     "metadata": {},
     "output_type": "execute_result"
    }
   ],
   "source": [
    "X_train.shape\n"
   ]
  },
  {
   "cell_type": "code",
   "execution_count": 27,
   "id": "ff3610b9",
   "metadata": {},
   "outputs": [
    {
     "name": "stdout",
     "output_type": "stream",
     "text": [
      "[1.33524963e+03 1.10644496e+03 9.16847619e+02 7.59739153e+02\n",
      " 6.29552359e+02 5.21674012e+02 4.32281400e+02 3.58206858e+02\n",
      " 2.96825524e+02 2.45962325e+02 2.03814903e+02 1.68889747e+02\n",
      " 1.39949268e+02 1.15967949e+02 9.60960031e+01 7.96292585e+01\n",
      " 6.59842096e+01 5.46773384e+01 4.53079813e+01 3.75441312e+01\n",
      " 3.11106730e+01 2.57796344e+01 2.13621077e+01 1.77015562e+01\n",
      " 1.46682666e+01 1.21547531e+01 1.00719483e+01 8.34604717e+00\n",
      " 6.91589167e+00 5.73080365e+00 4.74878903e+00 3.93504971e+00\n",
      " 3.26075050e+00 2.70199734e+00 2.23899056e+00 1.85532335e+00\n",
      " 1.53740029e+00 1.27395564e+00 1.05565413e+00 8.74760166e-01\n",
      " 7.24863689e-01 6.00653057e-01 4.97726815e-01 4.12437728e-01\n",
      " 3.41763543e-01 2.83199890e-01 2.34671542e-01 1.94458877e-01\n",
      " 1.61136943e-01 1.33524963e-01]\n"
     ]
    }
   ],
   "source": [
    "lambda_max = np.abs(X_train.T * (y_train - y_train.mean())).max()\n",
    "lambda_vals = lambda_max * np.exp(np.linspace(np.log(1), np.log(1e-4), 50))\n",
    "print(lambda_vals)"
   ]
  },
  {
   "cell_type": "code",
   "execution_count": 30,
   "id": "c02837aa",
   "metadata": {},
   "outputs": [],
   "source": [
    "coefs = []\n",
    "intercepts = []\n",
    "\n",
    "for lambda_ in lambda_vals:\n",
    "    logit = LogisticRegression(C=1 / lambda_, penalty=\"l1\", solver=\"liblinear\")\n",
    "    logit.fit(X_train, y_train)\n",
    "    coefs.append(logit.coef_.copy())\n",
    "    intercepts.append(logit.intercept_)"
   ]
  },
  {
   "cell_type": "code",
   "execution_count": 31,
   "id": "9331d176",
   "metadata": {},
   "outputs": [],
   "source": [
    "coefs = np.squeeze(coefs)"
   ]
  },
  {
   "cell_type": "code",
   "execution_count": 32,
   "id": "98b3b20b",
   "metadata": {},
   "outputs": [],
   "source": [
    "intercepts = np.squeeze(intercepts)"
   ]
  },
  {
   "cell_type": "code",
   "execution_count": 51,
   "id": "3d325f5e",
   "metadata": {},
   "outputs": [
    {
     "data": {
      "text/plain": [
       "<matplotlib.lines.Line2D at 0x13203b5d0>"
      ]
     },
     "execution_count": 51,
     "metadata": {},
     "output_type": "execute_result"
    },
    {
     "data": {
      "image/png": "[encoded data removed]",
      "text/plain": [
       "<Figure size 640x480 with 2 Axes>"
      ]
     },
     "metadata": {},
     "output_type": "display_data"
    }
   ],
   "source": [
    "fig, axes = subplots(1, 2, sharey=True)\n",
    "\n",
    "for (X_, y_), data_, color in zip([(X_train, y_train), (X_valid, y_valid), (X_test, y_test)], [\"Training\", \"Validation\", \"Test\"], [\"black\", \"red\", \"blue\"]):\n",
    "    linpred = X_ * coefs.T + intercepts\n",
    "    label_ = np.array(linpred > 0)\n",
    "    accuracy_ = np.array([np.mean(y_ == l) for l in label_.T])\n",
    "    axes[0].plot(-np.log(lambda_vals / X_train.shape[0]), accuracy_, color=color, markersize=13, linewidth=2, label=data_)\n",
    "    axes[0].legend()\n",
    "    axes[0].set_xlabel(r'$-\\log(\\lambda)$', fontsize=20)\n",
    "    axes[0].set_ylabel('Accuracy', fontsize=20)\n",
    "    \n",
    "def summary_plot(results, ax, col=\"loss\", valid_legend=\"Validation\", training_legend=\"Training\", ylabel=\"Loss\", fontsize=20):\n",
    "    for (column, color, label) in zip([f\"train_{col}_epoch\", f\"valid_{col}\"], [\"black\", \"red\"], [training_legend, valid_legend]):\n",
    "        results.plot(x=\"epoch\", y=column, label=label, marker=\"o\", color=color, ax=ax)\n",
    "    ax.set_xlabel(\"Epoch\")\n",
    "    ax.set_ylabel(ylabel)\n",
    "    return ax\n",
    "\n",
    "imdb_results = pd.read_csv(imdb_logger.experiment.metrics_file_path)\n",
    "summary_plot(imdb_results, axes[1], col='accuracy', ylabel='Accuracy')\n",
    "axes[1].set_xticks(np.linspace(0, 30, 7).astype(int))\n",
    "axes[1].set_ylabel('Accuracy', fontsize=20)\n",
    "axes[1].set_xlabel('Epoch', fontsize=20)\n",
    "axes[1].set_ylim([0.5, 1])\n",
    "axes[1].axhline(test_results[0]['test_accuracy'], color='blue', linestyle='--', linewidth=3)"
   ]
  },
  {
   "cell_type": "code",
   "execution_count": 50,
   "id": "ae1190c2",
   "metadata": {},
   "outputs": [
    {
     "data": {
      "text/html": [
       "<div>\n",
       "<style scoped>\n",
       "    .dataframe tbody tr th:only-of-type {\n",
       "        vertical-align: middle;\n",
       "    }\n",
       "\n",
       "    .dataframe tbody tr th {\n",
       "        vertical-align: top;\n",
       "    }\n",
       "\n",
       "    .dataframe thead th {\n",
       "        text-align: right;\n",
       "    }\n",
       "</style>\n",
       "<table border=\"1\" class=\"dataframe\">\n",
       "  <thead>\n",
       "    <tr style=\"text-align: right;\">\n",
       "      <th></th>\n",
       "      <th>valid_loss</th>\n",
       "      <th>valid_accuracy</th>\n",
       "      <th>epoch</th>\n",
       "      <th>step</th>\n",
       "      <th>train_loss</th>\n",
       "      <th>train_accuracy_epoch</th>\n",
       "      <th>train_accuracy_step</th>\n",
       "      <th>test_loss</th>\n",
       "      <th>test_accuracy</th>\n",
       "    </tr>\n",
       "  </thead>\n",
       "  <tbody>\n",
       "    <tr>\n",
       "      <th>0</th>\n",
       "      <td>0.311834</td>\n",
       "      <td>0.8885</td>\n",
       "      <td>0</td>\n",
       "      <td>44</td>\n",
       "      <td>NaN</td>\n",
       "      <td>NaN</td>\n",
       "      <td>NaN</td>\n",
       "      <td>NaN</td>\n",
       "      <td>NaN</td>\n",
       "    </tr>\n",
       "    <tr>\n",
       "      <th>1</th>\n",
       "      <td>NaN</td>\n",
       "      <td>NaN</td>\n",
       "      <td>0</td>\n",
       "      <td>44</td>\n",
       "      <td>0.441457</td>\n",
       "      <td>0.819826</td>\n",
       "      <td>NaN</td>\n",
       "      <td>NaN</td>\n",
       "      <td>NaN</td>\n",
       "    </tr>\n",
       "    <tr>\n",
       "      <th>2</th>\n",
       "      <td>NaN</td>\n",
       "      <td>NaN</td>\n",
       "      <td>1</td>\n",
       "      <td>49</td>\n",
       "      <td>NaN</td>\n",
       "      <td>NaN</td>\n",
       "      <td>0.912109</td>\n",
       "      <td>NaN</td>\n",
       "      <td>NaN</td>\n",
       "    </tr>\n",
       "    <tr>\n",
       "      <th>3</th>\n",
       "      <td>0.275225</td>\n",
       "      <td>0.8965</td>\n",
       "      <td>1</td>\n",
       "      <td>89</td>\n",
       "      <td>NaN</td>\n",
       "      <td>NaN</td>\n",
       "      <td>NaN</td>\n",
       "      <td>NaN</td>\n",
       "      <td>NaN</td>\n",
       "    </tr>\n",
       "    <tr>\n",
       "      <th>4</th>\n",
       "      <td>NaN</td>\n",
       "      <td>NaN</td>\n",
       "      <td>1</td>\n",
       "      <td>89</td>\n",
       "      <td>0.233599</td>\n",
       "      <td>0.918348</td>\n",
       "      <td>NaN</td>\n",
       "      <td>NaN</td>\n",
       "      <td>NaN</td>\n",
       "    </tr>\n",
       "    <tr>\n",
       "      <th>5</th>\n",
       "      <td>NaN</td>\n",
       "      <td>NaN</td>\n",
       "      <td>2</td>\n",
       "      <td>99</td>\n",
       "      <td>NaN</td>\n",
       "      <td>NaN</td>\n",
       "      <td>0.933594</td>\n",
       "      <td>NaN</td>\n",
       "      <td>NaN</td>\n",
       "    </tr>\n",
       "    <tr>\n",
       "      <th>6</th>\n",
       "      <td>0.278891</td>\n",
       "      <td>0.8930</td>\n",
       "      <td>2</td>\n",
       "      <td>134</td>\n",
       "      <td>NaN</td>\n",
       "      <td>NaN</td>\n",
       "      <td>NaN</td>\n",
       "      <td>NaN</td>\n",
       "      <td>NaN</td>\n",
       "    </tr>\n",
       "    <tr>\n",
       "      <th>7</th>\n",
       "      <td>NaN</td>\n",
       "      <td>NaN</td>\n",
       "      <td>2</td>\n",
       "      <td>134</td>\n",
       "      <td>0.178167</td>\n",
       "      <td>0.937000</td>\n",
       "      <td>NaN</td>\n",
       "      <td>NaN</td>\n",
       "      <td>NaN</td>\n",
       "    </tr>\n",
       "    <tr>\n",
       "      <th>8</th>\n",
       "      <td>NaN</td>\n",
       "      <td>NaN</td>\n",
       "      <td>3</td>\n",
       "      <td>149</td>\n",
       "      <td>NaN</td>\n",
       "      <td>NaN</td>\n",
       "      <td>0.947266</td>\n",
       "      <td>NaN</td>\n",
       "      <td>NaN</td>\n",
       "    </tr>\n",
       "    <tr>\n",
       "      <th>9</th>\n",
       "      <td>0.289764</td>\n",
       "      <td>0.8915</td>\n",
       "      <td>3</td>\n",
       "      <td>179</td>\n",
       "      <td>NaN</td>\n",
       "      <td>NaN</td>\n",
       "      <td>NaN</td>\n",
       "      <td>NaN</td>\n",
       "      <td>NaN</td>\n",
       "    </tr>\n",
       "  </tbody>\n",
       "</table>\n",
       "</div>"
      ],
      "text/plain": [
       "   valid_loss  valid_accuracy  epoch  step  train_loss  train_accuracy_epoch   \n",
       "0    0.311834          0.8885      0    44         NaN                   NaN  \\\n",
       "1         NaN             NaN      0    44    0.441457              0.819826   \n",
       "2         NaN             NaN      1    49         NaN                   NaN   \n",
       "3    0.275225          0.8965      1    89         NaN                   NaN   \n",
       "4         NaN             NaN      1    89    0.233599              0.918348   \n",
       "5         NaN             NaN      2    99         NaN                   NaN   \n",
       "6    0.278891          0.8930      2   134         NaN                   NaN   \n",
       "7         NaN             NaN      2   134    0.178167              0.937000   \n",
       "8         NaN             NaN      3   149         NaN                   NaN   \n",
       "9    0.289764          0.8915      3   179         NaN                   NaN   \n",
       "\n",
       "   train_accuracy_step  test_loss  test_accuracy  \n",
       "0                  NaN        NaN            NaN  \n",
       "1                  NaN        NaN            NaN  \n",
       "2             0.912109        NaN            NaN  \n",
       "3                  NaN        NaN            NaN  \n",
       "4                  NaN        NaN            NaN  \n",
       "5             0.933594        NaN            NaN  \n",
       "6                  NaN        NaN            NaN  \n",
       "7                  NaN        NaN            NaN  \n",
       "8             0.947266        NaN            NaN  \n",
       "9                  NaN        NaN            NaN  "
      ]
     },
     "execution_count": 50,
     "metadata": {},
     "output_type": "execute_result"
    }
   ],
   "source": [
    "imdb_results.head(10)"
   ]
  },
  {
   "cell_type": "code",
   "execution_count": 54,
   "id": "993a454e",
   "metadata": {},
   "outputs": [],
   "source": [
    "resize = Resize((232, 232))\n",
    "crop = CenterCrop(224)\n",
    "normalize = Normalize([0.485, 0.456, 0.406], [0.229, 0.224, 0.225])"
   ]
  },
  {
   "cell_type": "code",
   "execution_count": 60,
   "id": "d2942592",
   "metadata": {},
   "outputs": [],
   "source": [
    "imgfiles = sorted([f for f in glob('book_images/*')])"
   ]
  },
  {
   "cell_type": "code",
   "execution_count": 62,
   "id": "0d311220",
   "metadata": {},
   "outputs": [],
   "source": [
    "imgs = torch.stack([torch.div(crop(resize(read_image(f))), 255) for f in imgfiles])"
   ]
  },
  {
   "cell_type": "code",
   "execution_count": 64,
   "id": "44bf6b34",
   "metadata": {},
   "outputs": [
    {
     "data": {
      "text/plain": [
       "tensor([[[[0.4471, 0.4549, 0.4549,  ..., 0.4667, 0.4549, 0.4549],\n",
       "          [0.4392, 0.4431, 0.4471,  ..., 0.4784, 0.4784, 0.4667],\n",
       "          [0.4588, 0.4314, 0.4784,  ..., 0.4588, 0.4588, 0.4667],\n",
       "          ...,\n",
       "          [0.4118, 0.4078, 0.4078,  ..., 0.4588, 0.4706, 0.4431],\n",
       "          [0.3843, 0.3961, 0.3529,  ..., 0.4902, 0.4824, 0.4471],\n",
       "          [0.3804, 0.3843, 0.3725,  ..., 0.4000, 0.4000, 0.3922]],\n",
       "\n",
       "         [[0.5451, 0.5451, 0.5569,  ..., 0.5686, 0.5608, 0.5569],\n",
       "          [0.5412, 0.5412, 0.5490,  ..., 0.5608, 0.5608, 0.5608],\n",
       "          [0.5608, 0.5529, 0.5804,  ..., 0.5765, 0.5608, 0.5529],\n",
       "          ...,\n",
       "          [0.4980, 0.4902, 0.5098,  ..., 0.5608, 0.5765, 0.5490],\n",
       "          [0.4902, 0.4863, 0.4510,  ..., 0.5765, 0.5686, 0.5569],\n",
       "          [0.4941, 0.4784, 0.4627,  ..., 0.4980, 0.4941, 0.4980]],\n",
       "\n",
       "         [[0.6510, 0.6471, 0.6471,  ..., 0.6667, 0.6549, 0.6471],\n",
       "          [0.6392, 0.6392, 0.6431,  ..., 0.6667, 0.6667, 0.6549],\n",
       "          [0.6588, 0.6353, 0.6784,  ..., 0.6706, 0.6588, 0.6471],\n",
       "          ...,\n",
       "          [0.6196, 0.5961, 0.6078,  ..., 0.6706, 0.6902, 0.6549],\n",
       "          [0.6078, 0.6078, 0.5686,  ..., 0.6667, 0.6627, 0.6510],\n",
       "          [0.6275, 0.6118, 0.5922,  ..., 0.6275, 0.6275, 0.6118]]],\n",
       "\n",
       "\n",
       "        [[[0.1922, 0.1882, 0.1922,  ..., 0.1451, 0.1373, 0.1255],\n",
       "          [0.1882, 0.1922, 0.1804,  ..., 0.1490, 0.1451, 0.1412],\n",
       "          [0.1725, 0.1725, 0.1804,  ..., 0.1608, 0.1333, 0.1451],\n",
       "          ...,\n",
       "          [0.2588, 0.2549, 0.2824,  ..., 0.2549, 0.3020, 0.2706],\n",
       "          [0.2784, 0.2510, 0.2863,  ..., 0.2784, 0.2706, 0.2314],\n",
       "          [0.2667, 0.2824, 0.2667,  ..., 0.2588, 0.2510, 0.2314]],\n",
       "\n",
       "         [[0.1373, 0.1255, 0.1255,  ..., 0.2549, 0.2471, 0.2235],\n",
       "          [0.1255, 0.1255, 0.1020,  ..., 0.2627, 0.2549, 0.2392],\n",
       "          [0.1176, 0.1020, 0.1137,  ..., 0.2745, 0.2431, 0.2510],\n",
       "          ...,\n",
       "          [0.3490, 0.3373, 0.3608,  ..., 0.3137, 0.3843, 0.3569],\n",
       "          [0.3608, 0.3216, 0.3490,  ..., 0.3529, 0.3647, 0.3255],\n",
       "          [0.3490, 0.3529, 0.3333,  ..., 0.3490, 0.3569, 0.3255]],\n",
       "\n",
       "         [[0.0235, 0.0235, 0.0157,  ..., 0.2667, 0.2588, 0.2392],\n",
       "          [0.0235, 0.0235, 0.0000,  ..., 0.2784, 0.2667, 0.2549],\n",
       "          [0.0118, 0.0078, 0.0118,  ..., 0.2902, 0.2549, 0.2627],\n",
       "          ...,\n",
       "          [0.1765, 0.1882, 0.2235,  ..., 0.2431, 0.2824, 0.1765],\n",
       "          [0.1922, 0.1725, 0.2039,  ..., 0.2706, 0.2392, 0.1373],\n",
       "          [0.1804, 0.1882, 0.1686,  ..., 0.2392, 0.1882, 0.1373]]],\n",
       "\n",
       "\n",
       "        [[[0.4902, 0.4510, 0.4471,  ..., 0.3098, 0.3176, 0.3098],\n",
       "          [0.4941, 0.4549, 0.4431,  ..., 0.2941, 0.3294, 0.3059],\n",
       "          [0.4941, 0.4588, 0.4824,  ..., 0.3137, 0.3098, 0.3098],\n",
       "          ...,\n",
       "          [0.8196, 0.8039, 0.7922,  ..., 0.3020, 0.2510, 0.1137],\n",
       "          [0.7922, 0.7882, 0.7686,  ..., 0.1647, 0.1686, 0.1176],\n",
       "          [0.7843, 0.7529, 0.7451,  ..., 0.0745, 0.1490, 0.1765]],\n",
       "\n",
       "         [[0.6000, 0.5373, 0.5059,  ..., 0.4980, 0.5020, 0.4941],\n",
       "          [0.6000, 0.5412, 0.4941,  ..., 0.4824, 0.5176, 0.4902],\n",
       "          [0.6000, 0.5490, 0.5373,  ..., 0.5020, 0.5020, 0.4980],\n",
       "          ...,\n",
       "          [0.7294, 0.7294, 0.7333,  ..., 0.2314, 0.2000, 0.0863],\n",
       "          [0.7294, 0.7255, 0.7059,  ..., 0.1373, 0.1216, 0.0824],\n",
       "          [0.7216, 0.7020, 0.7020,  ..., 0.0588, 0.1020, 0.1451]],\n",
       "\n",
       "         [[0.5412, 0.4902, 0.4667,  ..., 0.5529, 0.5647, 0.5569],\n",
       "          [0.5412, 0.4941, 0.4549,  ..., 0.5373, 0.5725, 0.5529],\n",
       "          [0.5333, 0.4863, 0.4902,  ..., 0.5569, 0.5569, 0.5529],\n",
       "          ...,\n",
       "          [0.3608, 0.3608, 0.3608,  ..., 0.1137, 0.0588, 0.0235],\n",
       "          [0.3569, 0.3529, 0.3333,  ..., 0.0510, 0.0549, 0.0431],\n",
       "          [0.3647, 0.3412, 0.3490,  ..., 0.0235, 0.0627, 0.0627]]],\n",
       "\n",
       "\n",
       "        [[[0.9843, 0.9882, 0.9882,  ..., 0.2980, 0.2980, 0.2627],\n",
       "          [0.9882, 0.9882, 0.9882,  ..., 0.2980, 0.2980, 0.2980],\n",
       "          [0.9843, 0.9882, 0.9882,  ..., 0.3098, 0.3255, 0.2745],\n",
       "          ...,\n",
       "          [0.3529, 0.3412, 0.4275,  ..., 0.4784, 0.4510, 0.4588],\n",
       "          [0.3961, 0.4275, 0.4588,  ..., 0.4627, 0.4549, 0.4706],\n",
       "          [0.4667, 0.4941, 0.5255,  ..., 0.4706, 0.4627, 0.4431]],\n",
       "\n",
       "         [[0.9882, 0.9882, 0.9882,  ..., 0.4431, 0.4157, 0.3804],\n",
       "          [0.9922, 0.9882, 0.9882,  ..., 0.4275, 0.4196, 0.4000],\n",
       "          [0.9882, 0.9882, 0.9882,  ..., 0.4353, 0.4431, 0.3882],\n",
       "          ...,\n",
       "          [0.3373, 0.3529, 0.4314,  ..., 0.2784, 0.2667, 0.2863],\n",
       "          [0.4078, 0.4392, 0.4588,  ..., 0.2588, 0.2627, 0.2784],\n",
       "          [0.4510, 0.4784, 0.4667,  ..., 0.2784, 0.2588, 0.2431]],\n",
       "\n",
       "         [[0.9686, 0.9804, 0.9882,  ..., 0.5647, 0.5176, 0.4745],\n",
       "          [0.9725, 0.9804, 0.9882,  ..., 0.5569, 0.5294, 0.4667],\n",
       "          [0.9647, 0.9804, 0.9843,  ..., 0.5490, 0.5765, 0.4863],\n",
       "          ...,\n",
       "          [0.3137, 0.3333, 0.4000,  ..., 0.2980, 0.2941, 0.3020],\n",
       "          [0.3804, 0.4118, 0.4235,  ..., 0.2745, 0.2784, 0.2941],\n",
       "          [0.4157, 0.4235, 0.4000,  ..., 0.2745, 0.2784, 0.2627]]],\n",
       "\n",
       "\n",
       "        [[[0.0078, 0.0078, 0.0078,  ..., 0.0667, 0.0627, 0.0667],\n",
       "          [0.0118, 0.0078, 0.0078,  ..., 0.0627, 0.0706, 0.0706],\n",
       "          [0.0078, 0.0118, 0.0078,  ..., 0.0667, 0.0627, 0.0549],\n",
       "          ...,\n",
       "          [0.3765, 0.5137, 0.2627,  ..., 0.2902, 0.3333, 0.3020],\n",
       "          [0.4824, 0.4784, 0.4902,  ..., 0.3216, 0.3216, 0.2980],\n",
       "          [0.4706, 0.4941, 0.4941,  ..., 0.3294, 0.3020, 0.3176]],\n",
       "\n",
       "         [[0.0078, 0.0078, 0.0157,  ..., 0.0235, 0.0275, 0.0392],\n",
       "          [0.0118, 0.0078, 0.0078,  ..., 0.0353, 0.0431, 0.0431],\n",
       "          [0.0078, 0.0118, 0.0078,  ..., 0.0392, 0.0353, 0.0275],\n",
       "          ...,\n",
       "          [0.3255, 0.4588, 0.0824,  ..., 0.1490, 0.1843, 0.1647],\n",
       "          [0.4314, 0.4235, 0.4431,  ..., 0.1843, 0.1725, 0.1490],\n",
       "          [0.4471, 0.4549, 0.4549,  ..., 0.1725, 0.1529, 0.1529]],\n",
       "\n",
       "         [[0.0000, 0.0000, 0.0039,  ..., 0.0000, 0.0000, 0.0078],\n",
       "          [0.0039, 0.0000, 0.0000,  ..., 0.0039, 0.0118, 0.0039],\n",
       "          [0.0000, 0.0039, 0.0000,  ..., 0.0078, 0.0039, 0.0000],\n",
       "          ...,\n",
       "          [0.2902, 0.4196, 0.1137,  ..., 0.0078, 0.0392, 0.0157],\n",
       "          [0.3961, 0.3765, 0.3961,  ..., 0.0275, 0.0275, 0.0078],\n",
       "          [0.4235, 0.4157, 0.4157,  ..., 0.0353, 0.0118, 0.0039]]],\n",
       "\n",
       "\n",
       "        [[[0.2510, 0.2588, 0.2863,  ..., 0.1804, 0.1882, 0.1843],\n",
       "          [0.2549, 0.2549, 0.2745,  ..., 0.1843, 0.1765, 0.1686],\n",
       "          [0.2431, 0.2471, 0.2667,  ..., 0.1725, 0.1686, 0.1529],\n",
       "          ...,\n",
       "          [0.2627, 0.2471, 0.2549,  ..., 0.5294, 0.5765, 0.6118],\n",
       "          [0.2588, 0.2549, 0.2510,  ..., 0.5490, 0.5843, 0.6235],\n",
       "          [0.2627, 0.2549, 0.2471,  ..., 0.5725, 0.6078, 0.6431]],\n",
       "\n",
       "         [[0.1333, 0.1569, 0.2078,  ..., 0.2157, 0.2157, 0.2078],\n",
       "          [0.1373, 0.1529, 0.1922,  ..., 0.2078, 0.2039, 0.1922],\n",
       "          [0.1333, 0.1412, 0.1765,  ..., 0.1961, 0.2000, 0.1922],\n",
       "          ...,\n",
       "          [0.1373, 0.1333, 0.1412,  ..., 0.5412, 0.5843, 0.6196],\n",
       "          [0.1333, 0.1294, 0.1412,  ..., 0.5647, 0.5961, 0.6353],\n",
       "          [0.1412, 0.1294, 0.1412,  ..., 0.5804, 0.6157, 0.6510]],\n",
       "\n",
       "         [[0.0392, 0.0510, 0.0980,  ..., 0.0706, 0.0824, 0.0667],\n",
       "          [0.0431, 0.0549, 0.0706,  ..., 0.0588, 0.0510, 0.0431],\n",
       "          [0.0392, 0.0431, 0.0627,  ..., 0.0471, 0.0549, 0.0471],\n",
       "          ...,\n",
       "          [0.0392, 0.0392, 0.0392,  ..., 0.6000, 0.6431, 0.6784],\n",
       "          [0.0431, 0.0314, 0.0353,  ..., 0.6118, 0.6549, 0.6941],\n",
       "          [0.0353, 0.0392, 0.0353,  ..., 0.6314, 0.6667, 0.7020]]]])"
      ]
     },
     "execution_count": 64,
     "metadata": {},
     "output_type": "execute_result"
    }
   ],
   "source": [
    "imgs"
   ]
  },
  {
   "cell_type": "code",
   "execution_count": 65,
   "id": "0f3b1990",
   "metadata": {},
   "outputs": [],
   "source": [
    "imgs = normalize(imgs)"
   ]
  },
  {
   "cell_type": "code",
   "execution_count": 66,
   "id": "20b1f3dd",
   "metadata": {},
   "outputs": [
    {
     "data": {
      "text/plain": [
       "torch.Size([6, 3, 224, 224])"
      ]
     },
     "execution_count": 66,
     "metadata": {},
     "output_type": "execute_result"
    }
   ],
   "source": [
    "imgs.size()"
   ]
  },
  {
   "cell_type": "code",
   "execution_count": 67,
   "id": "28370572",
   "metadata": {},
   "outputs": [
    {
     "name": "stderr",
     "output_type": "stream",
     "text": [
      "Downloading: \"https://download.pytorch.org/models/resnet50-11ad3fa6.pth\" to /Users/nils_carlsson/.cache/torch/hub/checkpoints/resnet50-11ad3fa6.pth\n",
      "100%|████████████████████████████████████████████████████████████████████████████████████████████████████████████████████████████████████████████████████████████████| 97.8M/97.8M [00:02<00:00, 47.3MB/s]\n"
     ]
    }
   ],
   "source": [
    "resnet_model = resnet50(weights=ResNet50_Weights.DEFAULT)"
   ]
  },
  {
   "cell_type": "code",
   "execution_count": 68,
   "id": "9465b81c",
   "metadata": {},
   "outputs": [
    {
     "data": {
      "text/plain": [
       "===================================================================================================================\n",
       "Layer (type:depth-idx)                   Input Shape               Output Shape              Param #\n",
       "===================================================================================================================\n",
       "ResNet                                   [6, 3, 224, 224]          [6, 1000]                 --\n",
       "├─Conv2d: 1-1                            [6, 3, 224, 224]          [6, 64, 112, 112]         9,408\n",
       "├─BatchNorm2d: 1-2                       [6, 64, 112, 112]         [6, 64, 112, 112]         128\n",
       "├─ReLU: 1-3                              [6, 64, 112, 112]         [6, 64, 112, 112]         --\n",
       "├─MaxPool2d: 1-4                         [6, 64, 112, 112]         [6, 64, 56, 56]           --\n",
       "├─Sequential: 1-5                        [6, 64, 56, 56]           [6, 256, 56, 56]          --\n",
       "│    └─Bottleneck: 2-1                   [6, 64, 56, 56]           [6, 256, 56, 56]          --\n",
       "│    │    └─Conv2d: 3-1                  [6, 64, 56, 56]           [6, 64, 56, 56]           4,096\n",
       "│    │    └─BatchNorm2d: 3-2             [6, 64, 56, 56]           [6, 64, 56, 56]           128\n",
       "│    │    └─ReLU: 3-3                    [6, 64, 56, 56]           [6, 64, 56, 56]           --\n",
       "│    │    └─Conv2d: 3-4                  [6, 64, 56, 56]           [6, 64, 56, 56]           36,864\n",
       "│    │    └─BatchNorm2d: 3-5             [6, 64, 56, 56]           [6, 64, 56, 56]           128\n",
       "│    │    └─ReLU: 3-6                    [6, 64, 56, 56]           [6, 64, 56, 56]           --\n",
       "│    │    └─Conv2d: 3-7                  [6, 64, 56, 56]           [6, 256, 56, 56]          16,384\n",
       "│    │    └─BatchNorm2d: 3-8             [6, 256, 56, 56]          [6, 256, 56, 56]          512\n",
       "│    │    └─Sequential: 3-9              [6, 64, 56, 56]           [6, 256, 56, 56]          16,896\n",
       "│    │    └─ReLU: 3-10                   [6, 256, 56, 56]          [6, 256, 56, 56]          --\n",
       "│    └─Bottleneck: 2-2                   [6, 256, 56, 56]          [6, 256, 56, 56]          --\n",
       "│    │    └─Conv2d: 3-11                 [6, 256, 56, 56]          [6, 64, 56, 56]           16,384\n",
       "│    │    └─BatchNorm2d: 3-12            [6, 64, 56, 56]           [6, 64, 56, 56]           128\n",
       "│    │    └─ReLU: 3-13                   [6, 64, 56, 56]           [6, 64, 56, 56]           --\n",
       "│    │    └─Conv2d: 3-14                 [6, 64, 56, 56]           [6, 64, 56, 56]           36,864\n",
       "│    │    └─BatchNorm2d: 3-15            [6, 64, 56, 56]           [6, 64, 56, 56]           128\n",
       "│    │    └─ReLU: 3-16                   [6, 64, 56, 56]           [6, 64, 56, 56]           --\n",
       "│    │    └─Conv2d: 3-17                 [6, 64, 56, 56]           [6, 256, 56, 56]          16,384\n",
       "│    │    └─BatchNorm2d: 3-18            [6, 256, 56, 56]          [6, 256, 56, 56]          512\n",
       "│    │    └─ReLU: 3-19                   [6, 256, 56, 56]          [6, 256, 56, 56]          --\n",
       "│    └─Bottleneck: 2-3                   [6, 256, 56, 56]          [6, 256, 56, 56]          --\n",
       "│    │    └─Conv2d: 3-20                 [6, 256, 56, 56]          [6, 64, 56, 56]           16,384\n",
       "│    │    └─BatchNorm2d: 3-21            [6, 64, 56, 56]           [6, 64, 56, 56]           128\n",
       "│    │    └─ReLU: 3-22                   [6, 64, 56, 56]           [6, 64, 56, 56]           --\n",
       "│    │    └─Conv2d: 3-23                 [6, 64, 56, 56]           [6, 64, 56, 56]           36,864\n",
       "│    │    └─BatchNorm2d: 3-24            [6, 64, 56, 56]           [6, 64, 56, 56]           128\n",
       "│    │    └─ReLU: 3-25                   [6, 64, 56, 56]           [6, 64, 56, 56]           --\n",
       "│    │    └─Conv2d: 3-26                 [6, 64, 56, 56]           [6, 256, 56, 56]          16,384\n",
       "│    │    └─BatchNorm2d: 3-27            [6, 256, 56, 56]          [6, 256, 56, 56]          512\n",
       "│    │    └─ReLU: 3-28                   [6, 256, 56, 56]          [6, 256, 56, 56]          --\n",
       "├─Sequential: 1-6                        [6, 256, 56, 56]          [6, 512, 28, 28]          --\n",
       "│    └─Bottleneck: 2-4                   [6, 256, 56, 56]          [6, 512, 28, 28]          --\n",
       "│    │    └─Conv2d: 3-29                 [6, 256, 56, 56]          [6, 128, 56, 56]          32,768\n",
       "│    │    └─BatchNorm2d: 3-30            [6, 128, 56, 56]          [6, 128, 56, 56]          256\n",
       "│    │    └─ReLU: 3-31                   [6, 128, 56, 56]          [6, 128, 56, 56]          --\n",
       "│    │    └─Conv2d: 3-32                 [6, 128, 56, 56]          [6, 128, 28, 28]          147,456\n",
       "│    │    └─BatchNorm2d: 3-33            [6, 128, 28, 28]          [6, 128, 28, 28]          256\n",
       "│    │    └─ReLU: 3-34                   [6, 128, 28, 28]          [6, 128, 28, 28]          --\n",
       "│    │    └─Conv2d: 3-35                 [6, 128, 28, 28]          [6, 512, 28, 28]          65,536\n",
       "│    │    └─BatchNorm2d: 3-36            [6, 512, 28, 28]          [6, 512, 28, 28]          1,024\n",
       "│    │    └─Sequential: 3-37             [6, 256, 56, 56]          [6, 512, 28, 28]          132,096\n",
       "│    │    └─ReLU: 3-38                   [6, 512, 28, 28]          [6, 512, 28, 28]          --\n",
       "│    └─Bottleneck: 2-5                   [6, 512, 28, 28]          [6, 512, 28, 28]          --\n",
       "│    │    └─Conv2d: 3-39                 [6, 512, 28, 28]          [6, 128, 28, 28]          65,536\n",
       "│    │    └─BatchNorm2d: 3-40            [6, 128, 28, 28]          [6, 128, 28, 28]          256\n",
       "│    │    └─ReLU: 3-41                   [6, 128, 28, 28]          [6, 128, 28, 28]          --\n",
       "│    │    └─Conv2d: 3-42                 [6, 128, 28, 28]          [6, 128, 28, 28]          147,456\n",
       "│    │    └─BatchNorm2d: 3-43            [6, 128, 28, 28]          [6, 128, 28, 28]          256\n",
       "│    │    └─ReLU: 3-44                   [6, 128, 28, 28]          [6, 128, 28, 28]          --\n",
       "│    │    └─Conv2d: 3-45                 [6, 128, 28, 28]          [6, 512, 28, 28]          65,536\n",
       "│    │    └─BatchNorm2d: 3-46            [6, 512, 28, 28]          [6, 512, 28, 28]          1,024\n",
       "│    │    └─ReLU: 3-47                   [6, 512, 28, 28]          [6, 512, 28, 28]          --\n",
       "│    └─Bottleneck: 2-6                   [6, 512, 28, 28]          [6, 512, 28, 28]          --\n",
       "│    │    └─Conv2d: 3-48                 [6, 512, 28, 28]          [6, 128, 28, 28]          65,536\n",
       "│    │    └─BatchNorm2d: 3-49            [6, 128, 28, 28]          [6, 128, 28, 28]          256\n",
       "│    │    └─ReLU: 3-50                   [6, 128, 28, 28]          [6, 128, 28, 28]          --\n",
       "│    │    └─Conv2d: 3-51                 [6, 128, 28, 28]          [6, 128, 28, 28]          147,456\n",
       "│    │    └─BatchNorm2d: 3-52            [6, 128, 28, 28]          [6, 128, 28, 28]          256\n",
       "│    │    └─ReLU: 3-53                   [6, 128, 28, 28]          [6, 128, 28, 28]          --\n",
       "│    │    └─Conv2d: 3-54                 [6, 128, 28, 28]          [6, 512, 28, 28]          65,536\n",
       "│    │    └─BatchNorm2d: 3-55            [6, 512, 28, 28]          [6, 512, 28, 28]          1,024\n",
       "│    │    └─ReLU: 3-56                   [6, 512, 28, 28]          [6, 512, 28, 28]          --\n",
       "│    └─Bottleneck: 2-7                   [6, 512, 28, 28]          [6, 512, 28, 28]          --\n",
       "│    │    └─Conv2d: 3-57                 [6, 512, 28, 28]          [6, 128, 28, 28]          65,536\n",
       "│    │    └─BatchNorm2d: 3-58            [6, 128, 28, 28]          [6, 128, 28, 28]          256\n",
       "│    │    └─ReLU: 3-59                   [6, 128, 28, 28]          [6, 128, 28, 28]          --\n",
       "│    │    └─Conv2d: 3-60                 [6, 128, 28, 28]          [6, 128, 28, 28]          147,456\n",
       "│    │    └─BatchNorm2d: 3-61            [6, 128, 28, 28]          [6, 128, 28, 28]          256\n",
       "│    │    └─ReLU: 3-62                   [6, 128, 28, 28]          [6, 128, 28, 28]          --\n",
       "│    │    └─Conv2d: 3-63                 [6, 128, 28, 28]          [6, 512, 28, 28]          65,536\n",
       "│    │    └─BatchNorm2d: 3-64            [6, 512, 28, 28]          [6, 512, 28, 28]          1,024\n",
       "│    │    └─ReLU: 3-65                   [6, 512, 28, 28]          [6, 512, 28, 28]          --\n",
       "├─Sequential: 1-7                        [6, 512, 28, 28]          [6, 1024, 14, 14]         --\n",
       "│    └─Bottleneck: 2-8                   [6, 512, 28, 28]          [6, 1024, 14, 14]         --\n",
       "│    │    └─Conv2d: 3-66                 [6, 512, 28, 28]          [6, 256, 28, 28]          131,072\n",
       "│    │    └─BatchNorm2d: 3-67            [6, 256, 28, 28]          [6, 256, 28, 28]          512\n",
       "│    │    └─ReLU: 3-68                   [6, 256, 28, 28]          [6, 256, 28, 28]          --\n",
       "│    │    └─Conv2d: 3-69                 [6, 256, 28, 28]          [6, 256, 14, 14]          589,824\n",
       "│    │    └─BatchNorm2d: 3-70            [6, 256, 14, 14]          [6, 256, 14, 14]          512\n",
       "│    │    └─ReLU: 3-71                   [6, 256, 14, 14]          [6, 256, 14, 14]          --\n",
       "│    │    └─Conv2d: 3-72                 [6, 256, 14, 14]          [6, 1024, 14, 14]         262,144\n",
       "│    │    └─BatchNorm2d: 3-73            [6, 1024, 14, 14]         [6, 1024, 14, 14]         2,048\n",
       "│    │    └─Sequential: 3-74             [6, 512, 28, 28]          [6, 1024, 14, 14]         526,336\n",
       "│    │    └─ReLU: 3-75                   [6, 1024, 14, 14]         [6, 1024, 14, 14]         --\n",
       "│    └─Bottleneck: 2-9                   [6, 1024, 14, 14]         [6, 1024, 14, 14]         --\n",
       "│    │    └─Conv2d: 3-76                 [6, 1024, 14, 14]         [6, 256, 14, 14]          262,144\n",
       "│    │    └─BatchNorm2d: 3-77            [6, 256, 14, 14]          [6, 256, 14, 14]          512\n",
       "│    │    └─ReLU: 3-78                   [6, 256, 14, 14]          [6, 256, 14, 14]          --\n",
       "│    │    └─Conv2d: 3-79                 [6, 256, 14, 14]          [6, 256, 14, 14]          589,824\n",
       "│    │    └─BatchNorm2d: 3-80            [6, 256, 14, 14]          [6, 256, 14, 14]          512\n",
       "│    │    └─ReLU: 3-81                   [6, 256, 14, 14]          [6, 256, 14, 14]          --\n",
       "│    │    └─Conv2d: 3-82                 [6, 256, 14, 14]          [6, 1024, 14, 14]         262,144\n",
       "│    │    └─BatchNorm2d: 3-83            [6, 1024, 14, 14]         [6, 1024, 14, 14]         2,048\n",
       "│    │    └─ReLU: 3-84                   [6, 1024, 14, 14]         [6, 1024, 14, 14]         --\n",
       "│    └─Bottleneck: 2-10                  [6, 1024, 14, 14]         [6, 1024, 14, 14]         --\n",
       "│    │    └─Conv2d: 3-85                 [6, 1024, 14, 14]         [6, 256, 14, 14]          262,144\n",
       "│    │    └─BatchNorm2d: 3-86            [6, 256, 14, 14]          [6, 256, 14, 14]          512\n",
       "│    │    └─ReLU: 3-87                   [6, 256, 14, 14]          [6, 256, 14, 14]          --\n",
       "│    │    └─Conv2d: 3-88                 [6, 256, 14, 14]          [6, 256, 14, 14]          589,824\n",
       "│    │    └─BatchNorm2d: 3-89            [6, 256, 14, 14]          [6, 256, 14, 14]          512\n",
       "│    │    └─ReLU: 3-90                   [6, 256, 14, 14]          [6, 256, 14, 14]          --\n",
       "│    │    └─Conv2d: 3-91                 [6, 256, 14, 14]          [6, 1024, 14, 14]         262,144\n",
       "│    │    └─BatchNorm2d: 3-92            [6, 1024, 14, 14]         [6, 1024, 14, 14]         2,048\n",
       "│    │    └─ReLU: 3-93                   [6, 1024, 14, 14]         [6, 1024, 14, 14]         --\n",
       "│    └─Bottleneck: 2-11                  [6, 1024, 14, 14]         [6, 1024, 14, 14]         --\n",
       "│    │    └─Conv2d: 3-94                 [6, 1024, 14, 14]         [6, 256, 14, 14]          262,144\n",
       "│    │    └─BatchNorm2d: 3-95            [6, 256, 14, 14]          [6, 256, 14, 14]          512\n",
       "│    │    └─ReLU: 3-96                   [6, 256, 14, 14]          [6, 256, 14, 14]          --\n",
       "│    │    └─Conv2d: 3-97                 [6, 256, 14, 14]          [6, 256, 14, 14]          589,824\n",
       "│    │    └─BatchNorm2d: 3-98            [6, 256, 14, 14]          [6, 256, 14, 14]          512\n",
       "│    │    └─ReLU: 3-99                   [6, 256, 14, 14]          [6, 256, 14, 14]          --\n",
       "│    │    └─Conv2d: 3-100                [6, 256, 14, 14]          [6, 1024, 14, 14]         262,144\n",
       "│    │    └─BatchNorm2d: 3-101           [6, 1024, 14, 14]         [6, 1024, 14, 14]         2,048\n",
       "│    │    └─ReLU: 3-102                  [6, 1024, 14, 14]         [6, 1024, 14, 14]         --\n",
       "│    └─Bottleneck: 2-12                  [6, 1024, 14, 14]         [6, 1024, 14, 14]         --\n",
       "│    │    └─Conv2d: 3-103                [6, 1024, 14, 14]         [6, 256, 14, 14]          262,144\n",
       "│    │    └─BatchNorm2d: 3-104           [6, 256, 14, 14]          [6, 256, 14, 14]          512\n",
       "│    │    └─ReLU: 3-105                  [6, 256, 14, 14]          [6, 256, 14, 14]          --\n",
       "│    │    └─Conv2d: 3-106                [6, 256, 14, 14]          [6, 256, 14, 14]          589,824\n",
       "│    │    └─BatchNorm2d: 3-107           [6, 256, 14, 14]          [6, 256, 14, 14]          512\n",
       "│    │    └─ReLU: 3-108                  [6, 256, 14, 14]          [6, 256, 14, 14]          --\n",
       "│    │    └─Conv2d: 3-109                [6, 256, 14, 14]          [6, 1024, 14, 14]         262,144\n",
       "│    │    └─BatchNorm2d: 3-110           [6, 1024, 14, 14]         [6, 1024, 14, 14]         2,048\n",
       "│    │    └─ReLU: 3-111                  [6, 1024, 14, 14]         [6, 1024, 14, 14]         --\n",
       "│    └─Bottleneck: 2-13                  [6, 1024, 14, 14]         [6, 1024, 14, 14]         --\n",
       "│    │    └─Conv2d: 3-112                [6, 1024, 14, 14]         [6, 256, 14, 14]          262,144\n",
       "│    │    └─BatchNorm2d: 3-113           [6, 256, 14, 14]          [6, 256, 14, 14]          512\n",
       "│    │    └─ReLU: 3-114                  [6, 256, 14, 14]          [6, 256, 14, 14]          --\n",
       "│    │    └─Conv2d: 3-115                [6, 256, 14, 14]          [6, 256, 14, 14]          589,824\n",
       "│    │    └─BatchNorm2d: 3-116           [6, 256, 14, 14]          [6, 256, 14, 14]          512\n",
       "│    │    └─ReLU: 3-117                  [6, 256, 14, 14]          [6, 256, 14, 14]          --\n",
       "│    │    └─Conv2d: 3-118                [6, 256, 14, 14]          [6, 1024, 14, 14]         262,144\n",
       "│    │    └─BatchNorm2d: 3-119           [6, 1024, 14, 14]         [6, 1024, 14, 14]         2,048\n",
       "│    │    └─ReLU: 3-120                  [6, 1024, 14, 14]         [6, 1024, 14, 14]         --\n",
       "├─Sequential: 1-8                        [6, 1024, 14, 14]         [6, 2048, 7, 7]           --\n",
       "│    └─Bottleneck: 2-14                  [6, 1024, 14, 14]         [6, 2048, 7, 7]           --\n",
       "│    │    └─Conv2d: 3-121                [6, 1024, 14, 14]         [6, 512, 14, 14]          524,288\n",
       "│    │    └─BatchNorm2d: 3-122           [6, 512, 14, 14]          [6, 512, 14, 14]          1,024\n",
       "│    │    └─ReLU: 3-123                  [6, 512, 14, 14]          [6, 512, 14, 14]          --\n",
       "│    │    └─Conv2d: 3-124                [6, 512, 14, 14]          [6, 512, 7, 7]            2,359,296\n",
       "│    │    └─BatchNorm2d: 3-125           [6, 512, 7, 7]            [6, 512, 7, 7]            1,024\n",
       "│    │    └─ReLU: 3-126                  [6, 512, 7, 7]            [6, 512, 7, 7]            --\n",
       "│    │    └─Conv2d: 3-127                [6, 512, 7, 7]            [6, 2048, 7, 7]           1,048,576\n",
       "│    │    └─BatchNorm2d: 3-128           [6, 2048, 7, 7]           [6, 2048, 7, 7]           4,096\n",
       "│    │    └─Sequential: 3-129            [6, 1024, 14, 14]         [6, 2048, 7, 7]           2,101,248\n",
       "│    │    └─ReLU: 3-130                  [6, 2048, 7, 7]           [6, 2048, 7, 7]           --\n",
       "│    └─Bottleneck: 2-15                  [6, 2048, 7, 7]           [6, 2048, 7, 7]           --\n",
       "│    │    └─Conv2d: 3-131                [6, 2048, 7, 7]           [6, 512, 7, 7]            1,048,576\n",
       "│    │    └─BatchNorm2d: 3-132           [6, 512, 7, 7]            [6, 512, 7, 7]            1,024\n",
       "│    │    └─ReLU: 3-133                  [6, 512, 7, 7]            [6, 512, 7, 7]            --\n",
       "│    │    └─Conv2d: 3-134                [6, 512, 7, 7]            [6, 512, 7, 7]            2,359,296\n",
       "│    │    └─BatchNorm2d: 3-135           [6, 512, 7, 7]            [6, 512, 7, 7]            1,024\n",
       "│    │    └─ReLU: 3-136                  [6, 512, 7, 7]            [6, 512, 7, 7]            --\n",
       "│    │    └─Conv2d: 3-137                [6, 512, 7, 7]            [6, 2048, 7, 7]           1,048,576\n",
       "│    │    └─BatchNorm2d: 3-138           [6, 2048, 7, 7]           [6, 2048, 7, 7]           4,096\n",
       "│    │    └─ReLU: 3-139                  [6, 2048, 7, 7]           [6, 2048, 7, 7]           --\n",
       "│    └─Bottleneck: 2-16                  [6, 2048, 7, 7]           [6, 2048, 7, 7]           --\n",
       "│    │    └─Conv2d: 3-140                [6, 2048, 7, 7]           [6, 512, 7, 7]            1,048,576\n",
       "│    │    └─BatchNorm2d: 3-141           [6, 512, 7, 7]            [6, 512, 7, 7]            1,024\n",
       "│    │    └─ReLU: 3-142                  [6, 512, 7, 7]            [6, 512, 7, 7]            --\n",
       "│    │    └─Conv2d: 3-143                [6, 512, 7, 7]            [6, 512, 7, 7]            2,359,296\n",
       "│    │    └─BatchNorm2d: 3-144           [6, 512, 7, 7]            [6, 512, 7, 7]            1,024\n",
       "│    │    └─ReLU: 3-145                  [6, 512, 7, 7]            [6, 512, 7, 7]            --\n",
       "│    │    └─Conv2d: 3-146                [6, 512, 7, 7]            [6, 2048, 7, 7]           1,048,576\n",
       "│    │    └─BatchNorm2d: 3-147           [6, 2048, 7, 7]           [6, 2048, 7, 7]           4,096\n",
       "│    │    └─ReLU: 3-148                  [6, 2048, 7, 7]           [6, 2048, 7, 7]           --\n",
       "├─AdaptiveAvgPool2d: 1-9                 [6, 2048, 7, 7]           [6, 2048, 1, 1]           --\n",
       "├─Linear: 1-10                           [6, 2048]                 [6, 1000]                 2,049,000\n",
       "===================================================================================================================\n",
       "Total params: 25,557,032\n",
       "Trainable params: 25,557,032\n",
       "Non-trainable params: 0\n",
       "Total mult-adds (Units.GIGABYTES): 24.54\n",
       "===================================================================================================================\n",
       "Input size (MB): 3.61\n",
       "Forward/backward pass size (MB): 1066.99\n",
       "Params size (MB): 102.23\n",
       "Estimated Total Size (MB): 1172.83\n",
       "==================================================================================================================="
      ]
     },
     "execution_count": 68,
     "metadata": {},
     "output_type": "execute_result"
    }
   ],
   "source": [
    "summary(\n",
    "    resnet_model ,\n",
    "    input_data=imgs, \n",
    "    col_names=['input_size', 'output_size', 'num_params']\n",
    ")"
   ]
  },
  {
   "cell_type": "code",
   "execution_count": 69,
   "id": "16373a3a",
   "metadata": {},
   "outputs": [
    {
     "data": {
      "text/plain": [
       "ResNet(\n",
       "  (conv1): Conv2d(3, 64, kernel_size=(7, 7), stride=(2, 2), padding=(3, 3), bias=False)\n",
       "  (bn1): BatchNorm2d(64, eps=1e-05, momentum=0.1, affine=True, track_running_stats=True)\n",
       "  (relu): ReLU(inplace=True)\n",
       "  (maxpool): MaxPool2d(kernel_size=3, stride=2, padding=1, dilation=1, ceil_mode=False)\n",
       "  (layer1): Sequential(\n",
       "    (0): Bottleneck(\n",
       "      (conv1): Conv2d(64, 64, kernel_size=(1, 1), stride=(1, 1), bias=False)\n",
       "      (bn1): BatchNorm2d(64, eps=1e-05, momentum=0.1, affine=True, track_running_stats=True)\n",
       "      (conv2): Conv2d(64, 64, kernel_size=(3, 3), stride=(1, 1), padding=(1, 1), bias=False)\n",
       "      (bn2): BatchNorm2d(64, eps=1e-05, momentum=0.1, affine=True, track_running_stats=True)\n",
       "      (conv3): Conv2d(64, 256, kernel_size=(1, 1), stride=(1, 1), bias=False)\n",
       "      (bn3): BatchNorm2d(256, eps=1e-05, momentum=0.1, affine=True, track_running_stats=True)\n",
       "      (relu): ReLU(inplace=True)\n",
       "      (downsample): Sequential(\n",
       "        (0): Conv2d(64, 256, kernel_size=(1, 1), stride=(1, 1), bias=False)\n",
       "        (1): BatchNorm2d(256, eps=1e-05, momentum=0.1, affine=True, track_running_stats=True)\n",
       "      )\n",
       "    )\n",
       "    (1): Bottleneck(\n",
       "      (conv1): Conv2d(256, 64, kernel_size=(1, 1), stride=(1, 1), bias=False)\n",
       "      (bn1): BatchNorm2d(64, eps=1e-05, momentum=0.1, affine=True, track_running_stats=True)\n",
       "      (conv2): Conv2d(64, 64, kernel_size=(3, 3), stride=(1, 1), padding=(1, 1), bias=False)\n",
       "      (bn2): BatchNorm2d(64, eps=1e-05, momentum=0.1, affine=True, track_running_stats=True)\n",
       "      (conv3): Conv2d(64, 256, kernel_size=(1, 1), stride=(1, 1), bias=False)\n",
       "      (bn3): BatchNorm2d(256, eps=1e-05, momentum=0.1, affine=True, track_running_stats=True)\n",
       "      (relu): ReLU(inplace=True)\n",
       "    )\n",
       "    (2): Bottleneck(\n",
       "      (conv1): Conv2d(256, 64, kernel_size=(1, 1), stride=(1, 1), bias=False)\n",
       "      (bn1): BatchNorm2d(64, eps=1e-05, momentum=0.1, affine=True, track_running_stats=True)\n",
       "      (conv2): Conv2d(64, 64, kernel_size=(3, 3), stride=(1, 1), padding=(1, 1), bias=False)\n",
       "      (bn2): BatchNorm2d(64, eps=1e-05, momentum=0.1, affine=True, track_running_stats=True)\n",
       "      (conv3): Conv2d(64, 256, kernel_size=(1, 1), stride=(1, 1), bias=False)\n",
       "      (bn3): BatchNorm2d(256, eps=1e-05, momentum=0.1, affine=True, track_running_stats=True)\n",
       "      (relu): ReLU(inplace=True)\n",
       "    )\n",
       "  )\n",
       "  (layer2): Sequential(\n",
       "    (0): Bottleneck(\n",
       "      (conv1): Conv2d(256, 128, kernel_size=(1, 1), stride=(1, 1), bias=False)\n",
       "      (bn1): BatchNorm2d(128, eps=1e-05, momentum=0.1, affine=True, track_running_stats=True)\n",
       "      (conv2): Conv2d(128, 128, kernel_size=(3, 3), stride=(2, 2), padding=(1, 1), bias=False)\n",
       "      (bn2): BatchNorm2d(128, eps=1e-05, momentum=0.1, affine=True, track_running_stats=True)\n",
       "      (conv3): Conv2d(128, 512, kernel_size=(1, 1), stride=(1, 1), bias=False)\n",
       "      (bn3): BatchNorm2d(512, eps=1e-05, momentum=0.1, affine=True, track_running_stats=True)\n",
       "      (relu): ReLU(inplace=True)\n",
       "      (downsample): Sequential(\n",
       "        (0): Conv2d(256, 512, kernel_size=(1, 1), stride=(2, 2), bias=False)\n",
       "        (1): BatchNorm2d(512, eps=1e-05, momentum=0.1, affine=True, track_running_stats=True)\n",
       "      )\n",
       "    )\n",
       "    (1): Bottleneck(\n",
       "      (conv1): Conv2d(512, 128, kernel_size=(1, 1), stride=(1, 1), bias=False)\n",
       "      (bn1): BatchNorm2d(128, eps=1e-05, momentum=0.1, affine=True, track_running_stats=True)\n",
       "      (conv2): Conv2d(128, 128, kernel_size=(3, 3), stride=(1, 1), padding=(1, 1), bias=False)\n",
       "      (bn2): BatchNorm2d(128, eps=1e-05, momentum=0.1, affine=True, track_running_stats=True)\n",
       "      (conv3): Conv2d(128, 512, kernel_size=(1, 1), stride=(1, 1), bias=False)\n",
       "      (bn3): BatchNorm2d(512, eps=1e-05, momentum=0.1, affine=True, track_running_stats=True)\n",
       "      (relu): ReLU(inplace=True)\n",
       "    )\n",
       "    (2): Bottleneck(\n",
       "      (conv1): Conv2d(512, 128, kernel_size=(1, 1), stride=(1, 1), bias=False)\n",
       "      (bn1): BatchNorm2d(128, eps=1e-05, momentum=0.1, affine=True, track_running_stats=True)\n",
       "      (conv2): Conv2d(128, 128, kernel_size=(3, 3), stride=(1, 1), padding=(1, 1), bias=False)\n",
       "      (bn2): BatchNorm2d(128, eps=1e-05, momentum=0.1, affine=True, track_running_stats=True)\n",
       "      (conv3): Conv2d(128, 512, kernel_size=(1, 1), stride=(1, 1), bias=False)\n",
       "      (bn3): BatchNorm2d(512, eps=1e-05, momentum=0.1, affine=True, track_running_stats=True)\n",
       "      (relu): ReLU(inplace=True)\n",
       "    )\n",
       "    (3): Bottleneck(\n",
       "      (conv1): Conv2d(512, 128, kernel_size=(1, 1), stride=(1, 1), bias=False)\n",
       "      (bn1): BatchNorm2d(128, eps=1e-05, momentum=0.1, affine=True, track_running_stats=True)\n",
       "      (conv2): Conv2d(128, 128, kernel_size=(3, 3), stride=(1, 1), padding=(1, 1), bias=False)\n",
       "      (bn2): BatchNorm2d(128, eps=1e-05, momentum=0.1, affine=True, track_running_stats=True)\n",
       "      (conv3): Conv2d(128, 512, kernel_size=(1, 1), stride=(1, 1), bias=False)\n",
       "      (bn3): BatchNorm2d(512, eps=1e-05, momentum=0.1, affine=True, track_running_stats=True)\n",
       "      (relu): ReLU(inplace=True)\n",
       "    )\n",
       "  )\n",
       "  (layer3): Sequential(\n",
       "    (0): Bottleneck(\n",
       "      (conv1): Conv2d(512, 256, kernel_size=(1, 1), stride=(1, 1), bias=False)\n",
       "      (bn1): BatchNorm2d(256, eps=1e-05, momentum=0.1, affine=True, track_running_stats=True)\n",
       "      (conv2): Conv2d(256, 256, kernel_size=(3, 3), stride=(2, 2), padding=(1, 1), bias=False)\n",
       "      (bn2): BatchNorm2d(256, eps=1e-05, momentum=0.1, affine=True, track_running_stats=True)\n",
       "      (conv3): Conv2d(256, 1024, kernel_size=(1, 1), stride=(1, 1), bias=False)\n",
       "      (bn3): BatchNorm2d(1024, eps=1e-05, momentum=0.1, affine=True, track_running_stats=True)\n",
       "      (relu): ReLU(inplace=True)\n",
       "      (downsample): Sequential(\n",
       "        (0): Conv2d(512, 1024, kernel_size=(1, 1), stride=(2, 2), bias=False)\n",
       "        (1): BatchNorm2d(1024, eps=1e-05, momentum=0.1, affine=True, track_running_stats=True)\n",
       "      )\n",
       "    )\n",
       "    (1): Bottleneck(\n",
       "      (conv1): Conv2d(1024, 256, kernel_size=(1, 1), stride=(1, 1), bias=False)\n",
       "      (bn1): BatchNorm2d(256, eps=1e-05, momentum=0.1, affine=True, track_running_stats=True)\n",
       "      (conv2): Conv2d(256, 256, kernel_size=(3, 3), stride=(1, 1), padding=(1, 1), bias=False)\n",
       "      (bn2): BatchNorm2d(256, eps=1e-05, momentum=0.1, affine=True, track_running_stats=True)\n",
       "      (conv3): Conv2d(256, 1024, kernel_size=(1, 1), stride=(1, 1), bias=False)\n",
       "      (bn3): BatchNorm2d(1024, eps=1e-05, momentum=0.1, affine=True, track_running_stats=True)\n",
       "      (relu): ReLU(inplace=True)\n",
       "    )\n",
       "    (2): Bottleneck(\n",
       "      (conv1): Conv2d(1024, 256, kernel_size=(1, 1), stride=(1, 1), bias=False)\n",
       "      (bn1): BatchNorm2d(256, eps=1e-05, momentum=0.1, affine=True, track_running_stats=True)\n",
       "      (conv2): Conv2d(256, 256, kernel_size=(3, 3), stride=(1, 1), padding=(1, 1), bias=False)\n",
       "      (bn2): BatchNorm2d(256, eps=1e-05, momentum=0.1, affine=True, track_running_stats=True)\n",
       "      (conv3): Conv2d(256, 1024, kernel_size=(1, 1), stride=(1, 1), bias=False)\n",
       "      (bn3): BatchNorm2d(1024, eps=1e-05, momentum=0.1, affine=True, track_running_stats=True)\n",
       "      (relu): ReLU(inplace=True)\n",
       "    )\n",
       "    (3): Bottleneck(\n",
       "      (conv1): Conv2d(1024, 256, kernel_size=(1, 1), stride=(1, 1), bias=False)\n",
       "      (bn1): BatchNorm2d(256, eps=1e-05, momentum=0.1, affine=True, track_running_stats=True)\n",
       "      (conv2): Conv2d(256, 256, kernel_size=(3, 3), stride=(1, 1), padding=(1, 1), bias=False)\n",
       "      (bn2): BatchNorm2d(256, eps=1e-05, momentum=0.1, affine=True, track_running_stats=True)\n",
       "      (conv3): Conv2d(256, 1024, kernel_size=(1, 1), stride=(1, 1), bias=False)\n",
       "      (bn3): BatchNorm2d(1024, eps=1e-05, momentum=0.1, affine=True, track_running_stats=True)\n",
       "      (relu): ReLU(inplace=True)\n",
       "    )\n",
       "    (4): Bottleneck(\n",
       "      (conv1): Conv2d(1024, 256, kernel_size=(1, 1), stride=(1, 1), bias=False)\n",
       "      (bn1): BatchNorm2d(256, eps=1e-05, momentum=0.1, affine=True, track_running_stats=True)\n",
       "      (conv2): Conv2d(256, 256, kernel_size=(3, 3), stride=(1, 1), padding=(1, 1), bias=False)\n",
       "      (bn2): BatchNorm2d(256, eps=1e-05, momentum=0.1, affine=True, track_running_stats=True)\n",
       "      (conv3): Conv2d(256, 1024, kernel_size=(1, 1), stride=(1, 1), bias=False)\n",
       "      (bn3): BatchNorm2d(1024, eps=1e-05, momentum=0.1, affine=True, track_running_stats=True)\n",
       "      (relu): ReLU(inplace=True)\n",
       "    )\n",
       "    (5): Bottleneck(\n",
       "      (conv1): Conv2d(1024, 256, kernel_size=(1, 1), stride=(1, 1), bias=False)\n",
       "      (bn1): BatchNorm2d(256, eps=1e-05, momentum=0.1, affine=True, track_running_stats=True)\n",
       "      (conv2): Conv2d(256, 256, kernel_size=(3, 3), stride=(1, 1), padding=(1, 1), bias=False)\n",
       "      (bn2): BatchNorm2d(256, eps=1e-05, momentum=0.1, affine=True, track_running_stats=True)\n",
       "      (conv3): Conv2d(256, 1024, kernel_size=(1, 1), stride=(1, 1), bias=False)\n",
       "      (bn3): BatchNorm2d(1024, eps=1e-05, momentum=0.1, affine=True, track_running_stats=True)\n",
       "      (relu): ReLU(inplace=True)\n",
       "    )\n",
       "  )\n",
       "  (layer4): Sequential(\n",
       "    (0): Bottleneck(\n",
       "      (conv1): Conv2d(1024, 512, kernel_size=(1, 1), stride=(1, 1), bias=False)\n",
       "      (bn1): BatchNorm2d(512, eps=1e-05, momentum=0.1, affine=True, track_running_stats=True)\n",
       "      (conv2): Conv2d(512, 512, kernel_size=(3, 3), stride=(2, 2), padding=(1, 1), bias=False)\n",
       "      (bn2): BatchNorm2d(512, eps=1e-05, momentum=0.1, affine=True, track_running_stats=True)\n",
       "      (conv3): Conv2d(512, 2048, kernel_size=(1, 1), stride=(1, 1), bias=False)\n",
       "      (bn3): BatchNorm2d(2048, eps=1e-05, momentum=0.1, affine=True, track_running_stats=True)\n",
       "      (relu): ReLU(inplace=True)\n",
       "      (downsample): Sequential(\n",
       "        (0): Conv2d(1024, 2048, kernel_size=(1, 1), stride=(2, 2), bias=False)\n",
       "        (1): BatchNorm2d(2048, eps=1e-05, momentum=0.1, affine=True, track_running_stats=True)\n",
       "      )\n",
       "    )\n",
       "    (1): Bottleneck(\n",
       "      (conv1): Conv2d(2048, 512, kernel_size=(1, 1), stride=(1, 1), bias=False)\n",
       "      (bn1): BatchNorm2d(512, eps=1e-05, momentum=0.1, affine=True, track_running_stats=True)\n",
       "      (conv2): Conv2d(512, 512, kernel_size=(3, 3), stride=(1, 1), padding=(1, 1), bias=False)\n",
       "      (bn2): BatchNorm2d(512, eps=1e-05, momentum=0.1, affine=True, track_running_stats=True)\n",
       "      (conv3): Conv2d(512, 2048, kernel_size=(1, 1), stride=(1, 1), bias=False)\n",
       "      (bn3): BatchNorm2d(2048, eps=1e-05, momentum=0.1, affine=True, track_running_stats=True)\n",
       "      (relu): ReLU(inplace=True)\n",
       "    )\n",
       "    (2): Bottleneck(\n",
       "      (conv1): Conv2d(2048, 512, kernel_size=(1, 1), stride=(1, 1), bias=False)\n",
       "      (bn1): BatchNorm2d(512, eps=1e-05, momentum=0.1, affine=True, track_running_stats=True)\n",
       "      (conv2): Conv2d(512, 512, kernel_size=(3, 3), stride=(1, 1), padding=(1, 1), bias=False)\n",
       "      (bn2): BatchNorm2d(512, eps=1e-05, momentum=0.1, affine=True, track_running_stats=True)\n",
       "      (conv3): Conv2d(512, 2048, kernel_size=(1, 1), stride=(1, 1), bias=False)\n",
       "      (bn3): BatchNorm2d(2048, eps=1e-05, momentum=0.1, affine=True, track_running_stats=True)\n",
       "      (relu): ReLU(inplace=True)\n",
       "    )\n",
       "  )\n",
       "  (avgpool): AdaptiveAvgPool2d(output_size=(1, 1))\n",
       "  (fc): Linear(in_features=2048, out_features=1000, bias=True)\n",
       ")"
      ]
     },
     "execution_count": 69,
     "metadata": {},
     "output_type": "execute_result"
    }
   ],
   "source": [
    "resnet_model.eval()"
   ]
  },
  {
   "cell_type": "code",
   "execution_count": 70,
   "id": "281f299f",
   "metadata": {},
   "outputs": [],
   "source": [
    "img_preds = resnet_model(imgs)"
   ]
  },
  {
   "cell_type": "code",
   "execution_count": 71,
   "id": "f0d6ddc6",
   "metadata": {},
   "outputs": [],
   "source": [
    "img_probs = np.exp(np.asarray(img_preds.detach()))"
   ]
  },
  {
   "cell_type": "code",
   "execution_count": 82,
   "id": "dbbf3a5a",
   "metadata": {},
   "outputs": [],
   "source": [
    "img_probs /= img_probs.sum(1)[:,None]"
   ]
  },
  {
   "cell_type": "code",
   "execution_count": 83,
   "id": "c601e987",
   "metadata": {},
   "outputs": [],
   "source": [
    "labs = json.load(open('imagenet_class_index.json'))"
   ]
  },
  {
   "cell_type": "code",
   "execution_count": 84,
   "id": "cee527ed",
   "metadata": {},
   "outputs": [
    {
     "data": {
      "text/plain": [
       "{'0': ['n01440764', 'tench'],\n",
       " '1': ['n01443537', 'goldfish'],\n",
       " '2': ['n01484850', 'great_white_shark'],\n",
       " '3': ['n01491361', 'tiger_shark'],\n",
       " '4': ['n01494475', 'hammerhead'],\n",
       " '5': ['n01496331', 'electric_ray'],\n",
       " '6': ['n01498041', 'stingray'],\n",
       " '7': ['n01514668', 'cock'],\n",
       " '8': ['n01514859', 'hen'],\n",
       " '9': ['n01518878', 'ostrich'],\n",
       " '10': ['n01530575', 'brambling'],\n",
       " '11': ['n01531178', 'goldfinch'],\n",
       " '12': ['n01532829', 'house_finch'],\n",
       " '13': ['n01534433', 'junco'],\n",
       " '14': ['n01537544', 'indigo_bunting'],\n",
       " '15': ['n01558993', 'robin'],\n",
       " '16': ['n01560419', 'bulbul'],\n",
       " '17': ['n01580077', 'jay'],\n",
       " '18': ['n01582220', 'magpie'],\n",
       " '19': ['n01592084', 'chickadee'],\n",
       " '20': ['n01601694', 'water_ouzel'],\n",
       " '21': ['n01608432', 'kite'],\n",
       " '22': ['n01614925', 'bald_eagle'],\n",
       " '23': ['n01616318', 'vulture'],\n",
       " '24': ['n01622779', 'great_grey_owl'],\n",
       " '25': ['n01629819', 'European_fire_salamander'],\n",
       " '26': ['n01630670', 'common_newt'],\n",
       " '27': ['n01631663', 'eft'],\n",
       " '28': ['n01632458', 'spotted_salamander'],\n",
       " '29': ['n01632777', 'axolotl'],\n",
       " '30': ['n01641577', 'bullfrog'],\n",
       " '31': ['n01644373', 'tree_frog'],\n",
       " '32': ['n01644900', 'tailed_frog'],\n",
       " '33': ['n01664065', 'loggerhead'],\n",
       " '34': ['n01665541', 'leatherback_turtle'],\n",
       " '35': ['n01667114', 'mud_turtle'],\n",
       " '36': ['n01667778', 'terrapin'],\n",
       " '37': ['n01669191', 'box_turtle'],\n",
       " '38': ['n01675722', 'banded_gecko'],\n",
       " '39': ['n01677366', 'common_iguana'],\n",
       " '40': ['n01682714', 'American_chameleon'],\n",
       " '41': ['n01685808', 'whiptail'],\n",
       " '42': ['n01687978', 'agama'],\n",
       " '43': ['n01688243', 'frilled_lizard'],\n",
       " '44': ['n01689811', 'alligator_lizard'],\n",
       " '45': ['n01692333', 'Gila_monster'],\n",
       " '46': ['n01693334', 'green_lizard'],\n",
       " '47': ['n01694178', 'African_chameleon'],\n",
       " '48': ['n01695060', 'Komodo_dragon'],\n",
       " '49': ['n01697457', 'African_crocodile'],\n",
       " '50': ['n01698640', 'American_alligator'],\n",
       " '51': ['n01704323', 'triceratops'],\n",
       " '52': ['n01728572', 'thunder_snake'],\n",
       " '53': ['n01728920', 'ringneck_snake'],\n",
       " '54': ['n01729322', 'hognose_snake'],\n",
       " '55': ['n01729977', 'green_snake'],\n",
       " '56': ['n01734418', 'king_snake'],\n",
       " '57': ['n01735189', 'garter_snake'],\n",
       " '58': ['n01737021', 'water_snake'],\n",
       " '59': ['n01739381', 'vine_snake'],\n",
       " '60': ['n01740131', 'night_snake'],\n",
       " '61': ['n01742172', 'boa_constrictor'],\n",
       " '62': ['n01744401', 'rock_python'],\n",
       " '63': ['n01748264', 'Indian_cobra'],\n",
       " '64': ['n01749939', 'green_mamba'],\n",
       " '65': ['n01751748', 'sea_snake'],\n",
       " '66': ['n01753488', 'horned_viper'],\n",
       " '67': ['n01755581', 'diamondback'],\n",
       " '68': ['n01756291', 'sidewinder'],\n",
       " '69': ['n01768244', 'trilobite'],\n",
       " '70': ['n01770081', 'harvestman'],\n",
       " '71': ['n01770393', 'scorpion'],\n",
       " '72': ['n01773157', 'black_and_gold_garden_spider'],\n",
       " '73': ['n01773549', 'barn_spider'],\n",
       " '74': ['n01773797', 'garden_spider'],\n",
       " '75': ['n01774384', 'black_widow'],\n",
       " '76': ['n01774750', 'tarantula'],\n",
       " '77': ['n01775062', 'wolf_spider'],\n",
       " '78': ['n01776313', 'tick'],\n",
       " '79': ['n01784675', 'centipede'],\n",
       " '80': ['n01795545', 'black_grouse'],\n",
       " '81': ['n01796340', 'ptarmigan'],\n",
       " '82': ['n01797886', 'ruffed_grouse'],\n",
       " '83': ['n01798484', 'prairie_chicken'],\n",
       " '84': ['n01806143', 'peacock'],\n",
       " '85': ['n01806567', 'quail'],\n",
       " '86': ['n01807496', 'partridge'],\n",
       " '87': ['n01817953', 'African_grey'],\n",
       " '88': ['n01818515', 'macaw'],\n",
       " '89': ['n01819313', 'sulphur-crested_cockatoo'],\n",
       " '90': ['n01820546', 'lorikeet'],\n",
       " '91': ['n01824575', 'coucal'],\n",
       " '92': ['n01828970', 'bee_eater'],\n",
       " '93': ['n01829413', 'hornbill'],\n",
       " '94': ['n01833805', 'hummingbird'],\n",
       " '95': ['n01843065', 'jacamar'],\n",
       " '96': ['n01843383', 'toucan'],\n",
       " '97': ['n01847000', 'drake'],\n",
       " '98': ['n01855032', 'red-breasted_merganser'],\n",
       " '99': ['n01855672', 'goose'],\n",
       " '100': ['n01860187', 'black_swan'],\n",
       " '101': ['n01871265', 'tusker'],\n",
       " '102': ['n01872401', 'echidna'],\n",
       " '103': ['n01873310', 'platypus'],\n",
       " '104': ['n01877812', 'wallaby'],\n",
       " '105': ['n01882714', 'koala'],\n",
       " '106': ['n01883070', 'wombat'],\n",
       " '107': ['n01910747', 'jellyfish'],\n",
       " '108': ['n01914609', 'sea_anemone'],\n",
       " '109': ['n01917289', 'brain_coral'],\n",
       " '110': ['n01924916', 'flatworm'],\n",
       " '111': ['n01930112', 'nematode'],\n",
       " '112': ['n01943899', 'conch'],\n",
       " '113': ['n01944390', 'snail'],\n",
       " '114': ['n01945685', 'slug'],\n",
       " '115': ['n01950731', 'sea_slug'],\n",
       " '116': ['n01955084', 'chiton'],\n",
       " '117': ['n01968897', 'chambered_nautilus'],\n",
       " '118': ['n01978287', 'Dungeness_crab'],\n",
       " '119': ['n01978455', 'rock_crab'],\n",
       " '120': ['n01980166', 'fiddler_crab'],\n",
       " '121': ['n01981276', 'king_crab'],\n",
       " '122': ['n01983481', 'American_lobster'],\n",
       " '123': ['n01984695', 'spiny_lobster'],\n",
       " '124': ['n01985128', 'crayfish'],\n",
       " '125': ['n01986214', 'hermit_crab'],\n",
       " '126': ['n01990800', 'isopod'],\n",
       " '127': ['n02002556', 'white_stork'],\n",
       " '128': ['n02002724', 'black_stork'],\n",
       " '129': ['n02006656', 'spoonbill'],\n",
       " '130': ['n02007558', 'flamingo'],\n",
       " '131': ['n02009229', 'little_blue_heron'],\n",
       " '132': ['n02009912', 'American_egret'],\n",
       " '133': ['n02011460', 'bittern'],\n",
       " '134': ['n02012849', 'crane'],\n",
       " '135': ['n02013706', 'limpkin'],\n",
       " '136': ['n02017213', 'European_gallinule'],\n",
       " '137': ['n02018207', 'American_coot'],\n",
       " '138': ['n02018795', 'bustard'],\n",
       " '139': ['n02025239', 'ruddy_turnstone'],\n",
       " '140': ['n02027492', 'red-backed_sandpiper'],\n",
       " '141': ['n02028035', 'redshank'],\n",
       " '142': ['n02033041', 'dowitcher'],\n",
       " '143': ['n02037110', 'oystercatcher'],\n",
       " '144': ['n02051845', 'pelican'],\n",
       " '145': ['n02056570', 'king_penguin'],\n",
       " '146': ['n02058221', 'albatross'],\n",
       " '147': ['n02066245', 'grey_whale'],\n",
       " '148': ['n02071294', 'killer_whale'],\n",
       " '149': ['n02074367', 'dugong'],\n",
       " '150': ['n02077923', 'sea_lion'],\n",
       " '151': ['n02085620', 'Chihuahua'],\n",
       " '152': ['n02085782', 'Japanese_spaniel'],\n",
       " '153': ['n02085936', 'Maltese_dog'],\n",
       " '154': ['n02086079', 'Pekinese'],\n",
       " '155': ['n02086240', 'Shih-Tzu'],\n",
       " '156': ['n02086646', 'Blenheim_spaniel'],\n",
       " '157': ['n02086910', 'papillon'],\n",
       " '158': ['n02087046', 'toy_terrier'],\n",
       " '159': ['n02087394', 'Rhodesian_ridgeback'],\n",
       " '160': ['n02088094', 'Afghan_hound'],\n",
       " '161': ['n02088238', 'basset'],\n",
       " '162': ['n02088364', 'beagle'],\n",
       " '163': ['n02088466', 'bloodhound'],\n",
       " '164': ['n02088632', 'bluetick'],\n",
       " '165': ['n02089078', 'black-and-tan_coonhound'],\n",
       " '166': ['n02089867', 'Walker_hound'],\n",
       " '167': ['n02089973', 'English_foxhound'],\n",
       " '168': ['n02090379', 'redbone'],\n",
       " '169': ['n02090622', 'borzoi'],\n",
       " '170': ['n02090721', 'Irish_wolfhound'],\n",
       " '171': ['n02091032', 'Italian_greyhound'],\n",
       " '172': ['n02091134', 'whippet'],\n",
       " '173': ['n02091244', 'Ibizan_hound'],\n",
       " '174': ['n02091467', 'Norwegian_elkhound'],\n",
       " '175': ['n02091635', 'otterhound'],\n",
       " '176': ['n02091831', 'Saluki'],\n",
       " '177': ['n02092002', 'Scottish_deerhound'],\n",
       " '178': ['n02092339', 'Weimaraner'],\n",
       " '179': ['n02093256', 'Staffordshire_bullterrier'],\n",
       " '180': ['n02093428', 'American_Staffordshire_terrier'],\n",
       " '181': ['n02093647', 'Bedlington_terrier'],\n",
       " '182': ['n02093754', 'Border_terrier'],\n",
       " '183': ['n02093859', 'Kerry_blue_terrier'],\n",
       " '184': ['n02093991', 'Irish_terrier'],\n",
       " '185': ['n02094114', 'Norfolk_terrier'],\n",
       " '186': ['n02094258', 'Norwich_terrier'],\n",
       " '187': ['n02094433', 'Yorkshire_terrier'],\n",
       " '188': ['n02095314', 'wire-haired_fox_terrier'],\n",
       " '189': ['n02095570', 'Lakeland_terrier'],\n",
       " '190': ['n02095889', 'Sealyham_terrier'],\n",
       " '191': ['n02096051', 'Airedale'],\n",
       " '192': ['n02096177', 'cairn'],\n",
       " '193': ['n02096294', 'Australian_terrier'],\n",
       " '194': ['n02096437', 'Dandie_Dinmont'],\n",
       " '195': ['n02096585', 'Boston_bull'],\n",
       " '196': ['n02097047', 'miniature_schnauzer'],\n",
       " '197': ['n02097130', 'giant_schnauzer'],\n",
       " '198': ['n02097209', 'standard_schnauzer'],\n",
       " '199': ['n02097298', 'Scotch_terrier'],\n",
       " '200': ['n02097474', 'Tibetan_terrier'],\n",
       " '201': ['n02097658', 'silky_terrier'],\n",
       " '202': ['n02098105', 'soft-coated_wheaten_terrier'],\n",
       " '203': ['n02098286', 'West_Highland_white_terrier'],\n",
       " '204': ['n02098413', 'Lhasa'],\n",
       " '205': ['n02099267', 'flat-coated_retriever'],\n",
       " '206': ['n02099429', 'curly-coated_retriever'],\n",
       " '207': ['n02099601', 'golden_retriever'],\n",
       " '208': ['n02099712', 'Labrador_retriever'],\n",
       " '209': ['n02099849', 'Chesapeake_Bay_retriever'],\n",
       " '210': ['n02100236', 'German_short-haired_pointer'],\n",
       " '211': ['n02100583', 'vizsla'],\n",
       " '212': ['n02100735', 'English_setter'],\n",
       " '213': ['n02100877', 'Irish_setter'],\n",
       " '214': ['n02101006', 'Gordon_setter'],\n",
       " '215': ['n02101388', 'Brittany_spaniel'],\n",
       " '216': ['n02101556', 'clumber'],\n",
       " '217': ['n02102040', 'English_springer'],\n",
       " '218': ['n02102177', 'Welsh_springer_spaniel'],\n",
       " '219': ['n02102318', 'cocker_spaniel'],\n",
       " '220': ['n02102480', 'Sussex_spaniel'],\n",
       " '221': ['n02102973', 'Irish_water_spaniel'],\n",
       " '222': ['n02104029', 'kuvasz'],\n",
       " '223': ['n02104365', 'schipperke'],\n",
       " '224': ['n02105056', 'groenendael'],\n",
       " '225': ['n02105162', 'malinois'],\n",
       " '226': ['n02105251', 'briard'],\n",
       " '227': ['n02105412', 'kelpie'],\n",
       " '228': ['n02105505', 'komondor'],\n",
       " '229': ['n02105641', 'Old_English_sheepdog'],\n",
       " '230': ['n02105855', 'Shetland_sheepdog'],\n",
       " '231': ['n02106030', 'collie'],\n",
       " '232': ['n02106166', 'Border_collie'],\n",
       " '233': ['n02106382', 'Bouvier_des_Flandres'],\n",
       " '234': ['n02106550', 'Rottweiler'],\n",
       " '235': ['n02106662', 'German_shepherd'],\n",
       " '236': ['n02107142', 'Doberman'],\n",
       " '237': ['n02107312', 'miniature_pinscher'],\n",
       " '238': ['n02107574', 'Greater_Swiss_Mountain_dog'],\n",
       " '239': ['n02107683', 'Bernese_mountain_dog'],\n",
       " '240': ['n02107908', 'Appenzeller'],\n",
       " '241': ['n02108000', 'EntleBucher'],\n",
       " '242': ['n02108089', 'boxer'],\n",
       " '243': ['n02108422', 'bull_mastiff'],\n",
       " '244': ['n02108551', 'Tibetan_mastiff'],\n",
       " '245': ['n02108915', 'French_bulldog'],\n",
       " '246': ['n02109047', 'Great_Dane'],\n",
       " '247': ['n02109525', 'Saint_Bernard'],\n",
       " '248': ['n02109961', 'Eskimo_dog'],\n",
       " '249': ['n02110063', 'malamute'],\n",
       " '250': ['n02110185', 'Siberian_husky'],\n",
       " '251': ['n02110341', 'dalmatian'],\n",
       " '252': ['n02110627', 'affenpinscher'],\n",
       " '253': ['n02110806', 'basenji'],\n",
       " '254': ['n02110958', 'pug'],\n",
       " '255': ['n02111129', 'Leonberg'],\n",
       " '256': ['n02111277', 'Newfoundland'],\n",
       " '257': ['n02111500', 'Great_Pyrenees'],\n",
       " '258': ['n02111889', 'Samoyed'],\n",
       " '259': ['n02112018', 'Pomeranian'],\n",
       " '260': ['n02112137', 'chow'],\n",
       " '261': ['n02112350', 'keeshond'],\n",
       " '262': ['n02112706', 'Brabancon_griffon'],\n",
       " '263': ['n02113023', 'Pembroke'],\n",
       " '264': ['n02113186', 'Cardigan'],\n",
       " '265': ['n02113624', 'toy_poodle'],\n",
       " '266': ['n02113712', 'miniature_poodle'],\n",
       " '267': ['n02113799', 'standard_poodle'],\n",
       " '268': ['n02113978', 'Mexican_hairless'],\n",
       " '269': ['n02114367', 'timber_wolf'],\n",
       " '270': ['n02114548', 'white_wolf'],\n",
       " '271': ['n02114712', 'red_wolf'],\n",
       " '272': ['n02114855', 'coyote'],\n",
       " '273': ['n02115641', 'dingo'],\n",
       " '274': ['n02115913', 'dhole'],\n",
       " '275': ['n02116738', 'African_hunting_dog'],\n",
       " '276': ['n02117135', 'hyena'],\n",
       " '277': ['n02119022', 'red_fox'],\n",
       " '278': ['n02119789', 'kit_fox'],\n",
       " '279': ['n02120079', 'Arctic_fox'],\n",
       " '280': ['n02120505', 'grey_fox'],\n",
       " '281': ['n02123045', 'tabby'],\n",
       " '282': ['n02123159', 'tiger_cat'],\n",
       " '283': ['n02123394', 'Persian_cat'],\n",
       " '284': ['n02123597', 'Siamese_cat'],\n",
       " '285': ['n02124075', 'Egyptian_cat'],\n",
       " '286': ['n02125311', 'cougar'],\n",
       " '287': ['n02127052', 'lynx'],\n",
       " '288': ['n02128385', 'leopard'],\n",
       " '289': ['n02128757', 'snow_leopard'],\n",
       " '290': ['n02128925', 'jaguar'],\n",
       " '291': ['n02129165', 'lion'],\n",
       " '292': ['n02129604', 'tiger'],\n",
       " '293': ['n02130308', 'cheetah'],\n",
       " '294': ['n02132136', 'brown_bear'],\n",
       " '295': ['n02133161', 'American_black_bear'],\n",
       " '296': ['n02134084', 'ice_bear'],\n",
       " '297': ['n02134418', 'sloth_bear'],\n",
       " '298': ['n02137549', 'mongoose'],\n",
       " '299': ['n02138441', 'meerkat'],\n",
       " '300': ['n02165105', 'tiger_beetle'],\n",
       " '301': ['n02165456', 'ladybug'],\n",
       " '302': ['n02167151', 'ground_beetle'],\n",
       " '303': ['n02168699', 'long-horned_beetle'],\n",
       " '304': ['n02169497', 'leaf_beetle'],\n",
       " '305': ['n02172182', 'dung_beetle'],\n",
       " '306': ['n02174001', 'rhinoceros_beetle'],\n",
       " '307': ['n02177972', 'weevil'],\n",
       " '308': ['n02190166', 'fly'],\n",
       " '309': ['n02206856', 'bee'],\n",
       " '310': ['n02219486', 'ant'],\n",
       " '311': ['n02226429', 'grasshopper'],\n",
       " '312': ['n02229544', 'cricket'],\n",
       " '313': ['n02231487', 'walking_stick'],\n",
       " '314': ['n02233338', 'cockroach'],\n",
       " '315': ['n02236044', 'mantis'],\n",
       " '316': ['n02256656', 'cicada'],\n",
       " '317': ['n02259212', 'leafhopper'],\n",
       " '318': ['n02264363', 'lacewing'],\n",
       " '319': ['n02268443', 'dragonfly'],\n",
       " '320': ['n02268853', 'damselfly'],\n",
       " '321': ['n02276258', 'admiral'],\n",
       " '322': ['n02277742', 'ringlet'],\n",
       " '323': ['n02279972', 'monarch'],\n",
       " '324': ['n02280649', 'cabbage_butterfly'],\n",
       " '325': ['n02281406', 'sulphur_butterfly'],\n",
       " '326': ['n02281787', 'lycaenid'],\n",
       " '327': ['n02317335', 'starfish'],\n",
       " '328': ['n02319095', 'sea_urchin'],\n",
       " '329': ['n02321529', 'sea_cucumber'],\n",
       " '330': ['n02325366', 'wood_rabbit'],\n",
       " '331': ['n02326432', 'hare'],\n",
       " '332': ['n02328150', 'Angora'],\n",
       " '333': ['n02342885', 'hamster'],\n",
       " '334': ['n02346627', 'porcupine'],\n",
       " '335': ['n02356798', 'fox_squirrel'],\n",
       " '336': ['n02361337', 'marmot'],\n",
       " '337': ['n02363005', 'beaver'],\n",
       " '338': ['n02364673', 'guinea_pig'],\n",
       " '339': ['n02389026', 'sorrel'],\n",
       " '340': ['n02391049', 'zebra'],\n",
       " '341': ['n02395406', 'hog'],\n",
       " '342': ['n02396427', 'wild_boar'],\n",
       " '343': ['n02397096', 'warthog'],\n",
       " '344': ['n02398521', 'hippopotamus'],\n",
       " '345': ['n02403003', 'ox'],\n",
       " '346': ['n02408429', 'water_buffalo'],\n",
       " '347': ['n02410509', 'bison'],\n",
       " '348': ['n02412080', 'ram'],\n",
       " '349': ['n02415577', 'bighorn'],\n",
       " '350': ['n02417914', 'ibex'],\n",
       " '351': ['n02422106', 'hartebeest'],\n",
       " '352': ['n02422699', 'impala'],\n",
       " '353': ['n02423022', 'gazelle'],\n",
       " '354': ['n02437312', 'Arabian_camel'],\n",
       " '355': ['n02437616', 'llama'],\n",
       " '356': ['n02441942', 'weasel'],\n",
       " '357': ['n02442845', 'mink'],\n",
       " '358': ['n02443114', 'polecat'],\n",
       " '359': ['n02443484', 'black-footed_ferret'],\n",
       " '360': ['n02444819', 'otter'],\n",
       " '361': ['n02445715', 'skunk'],\n",
       " '362': ['n02447366', 'badger'],\n",
       " '363': ['n02454379', 'armadillo'],\n",
       " '364': ['n02457408', 'three-toed_sloth'],\n",
       " '365': ['n02480495', 'orangutan'],\n",
       " '366': ['n02480855', 'gorilla'],\n",
       " '367': ['n02481823', 'chimpanzee'],\n",
       " '368': ['n02483362', 'gibbon'],\n",
       " '369': ['n02483708', 'siamang'],\n",
       " '370': ['n02484975', 'guenon'],\n",
       " '371': ['n02486261', 'patas'],\n",
       " '372': ['n02486410', 'baboon'],\n",
       " '373': ['n02487347', 'macaque'],\n",
       " '374': ['n02488291', 'langur'],\n",
       " '375': ['n02488702', 'colobus'],\n",
       " '376': ['n02489166', 'proboscis_monkey'],\n",
       " '377': ['n02490219', 'marmoset'],\n",
       " '378': ['n02492035', 'capuchin'],\n",
       " '379': ['n02492660', 'howler_monkey'],\n",
       " '380': ['n02493509', 'titi'],\n",
       " '381': ['n02493793', 'spider_monkey'],\n",
       " '382': ['n02494079', 'squirrel_monkey'],\n",
       " '383': ['n02497673', 'Madagascar_cat'],\n",
       " '384': ['n02500267', 'indri'],\n",
       " '385': ['n02504013', 'Indian_elephant'],\n",
       " '386': ['n02504458', 'African_elephant'],\n",
       " '387': ['n02509815', 'lesser_panda'],\n",
       " '388': ['n02510455', 'giant_panda'],\n",
       " '389': ['n02514041', 'barracouta'],\n",
       " '390': ['n02526121', 'eel'],\n",
       " '391': ['n02536864', 'coho'],\n",
       " '392': ['n02606052', 'rock_beauty'],\n",
       " '393': ['n02607072', 'anemone_fish'],\n",
       " '394': ['n02640242', 'sturgeon'],\n",
       " '395': ['n02641379', 'gar'],\n",
       " '396': ['n02643566', 'lionfish'],\n",
       " '397': ['n02655020', 'puffer'],\n",
       " '398': ['n02666196', 'abacus'],\n",
       " '399': ['n02667093', 'abaya'],\n",
       " '400': ['n02669723', 'academic_gown'],\n",
       " '401': ['n02672831', 'accordion'],\n",
       " '402': ['n02676566', 'acoustic_guitar'],\n",
       " '403': ['n02687172', 'aircraft_carrier'],\n",
       " '404': ['n02690373', 'airliner'],\n",
       " '405': ['n02692877', 'airship'],\n",
       " '406': ['n02699494', 'altar'],\n",
       " '407': ['n02701002', 'ambulance'],\n",
       " '408': ['n02704792', 'amphibian'],\n",
       " '409': ['n02708093', 'analog_clock'],\n",
       " '410': ['n02727426', 'apiary'],\n",
       " '411': ['n02730930', 'apron'],\n",
       " '412': ['n02747177', 'ashcan'],\n",
       " '413': ['n02749479', 'assault_rifle'],\n",
       " '414': ['n02769748', 'backpack'],\n",
       " '415': ['n02776631', 'bakery'],\n",
       " '416': ['n02777292', 'balance_beam'],\n",
       " '417': ['n02782093', 'balloon'],\n",
       " '418': ['n02783161', 'ballpoint'],\n",
       " '419': ['n02786058', 'Band_Aid'],\n",
       " '420': ['n02787622', 'banjo'],\n",
       " '421': ['n02788148', 'bannister'],\n",
       " '422': ['n02790996', 'barbell'],\n",
       " '423': ['n02791124', 'barber_chair'],\n",
       " '424': ['n02791270', 'barbershop'],\n",
       " '425': ['n02793495', 'barn'],\n",
       " '426': ['n02794156', 'barometer'],\n",
       " '427': ['n02795169', 'barrel'],\n",
       " '428': ['n02797295', 'barrow'],\n",
       " '429': ['n02799071', 'baseball'],\n",
       " '430': ['n02802426', 'basketball'],\n",
       " '431': ['n02804414', 'bassinet'],\n",
       " '432': ['n02804610', 'bassoon'],\n",
       " '433': ['n02807133', 'bathing_cap'],\n",
       " '434': ['n02808304', 'bath_towel'],\n",
       " '435': ['n02808440', 'bathtub'],\n",
       " '436': ['n02814533', 'beach_wagon'],\n",
       " '437': ['n02814860', 'beacon'],\n",
       " '438': ['n02815834', 'beaker'],\n",
       " '439': ['n02817516', 'bearskin'],\n",
       " '440': ['n02823428', 'beer_bottle'],\n",
       " '441': ['n02823750', 'beer_glass'],\n",
       " '442': ['n02825657', 'bell_cote'],\n",
       " '443': ['n02834397', 'bib'],\n",
       " '444': ['n02835271', 'bicycle-built-for-two'],\n",
       " '445': ['n02837789', 'bikini'],\n",
       " '446': ['n02840245', 'binder'],\n",
       " '447': ['n02841315', 'binoculars'],\n",
       " '448': ['n02843684', 'birdhouse'],\n",
       " '449': ['n02859443', 'boathouse'],\n",
       " '450': ['n02860847', 'bobsled'],\n",
       " '451': ['n02865351', 'bolo_tie'],\n",
       " '452': ['n02869837', 'bonnet'],\n",
       " '453': ['n02870880', 'bookcase'],\n",
       " '454': ['n02871525', 'bookshop'],\n",
       " '455': ['n02877765', 'bottlecap'],\n",
       " '456': ['n02879718', 'bow'],\n",
       " '457': ['n02883205', 'bow_tie'],\n",
       " '458': ['n02892201', 'brass'],\n",
       " '459': ['n02892767', 'brassiere'],\n",
       " '460': ['n02894605', 'breakwater'],\n",
       " '461': ['n02895154', 'breastplate'],\n",
       " '462': ['n02906734', 'broom'],\n",
       " '463': ['n02909870', 'bucket'],\n",
       " '464': ['n02910353', 'buckle'],\n",
       " '465': ['n02916936', 'bulletproof_vest'],\n",
       " '466': ['n02917067', 'bullet_train'],\n",
       " '467': ['n02927161', 'butcher_shop'],\n",
       " '468': ['n02930766', 'cab'],\n",
       " '469': ['n02939185', 'caldron'],\n",
       " '470': ['n02948072', 'candle'],\n",
       " '471': ['n02950826', 'cannon'],\n",
       " '472': ['n02951358', 'canoe'],\n",
       " '473': ['n02951585', 'can_opener'],\n",
       " '474': ['n02963159', 'cardigan'],\n",
       " '475': ['n02965783', 'car_mirror'],\n",
       " '476': ['n02966193', 'carousel'],\n",
       " '477': ['n02966687', \"carpenter's_kit\"],\n",
       " '478': ['n02971356', 'carton'],\n",
       " '479': ['n02974003', 'car_wheel'],\n",
       " '480': ['n02977058', 'cash_machine'],\n",
       " '481': ['n02978881', 'cassette'],\n",
       " '482': ['n02979186', 'cassette_player'],\n",
       " '483': ['n02980441', 'castle'],\n",
       " '484': ['n02981792', 'catamaran'],\n",
       " '485': ['n02988304', 'CD_player'],\n",
       " '486': ['n02992211', 'cello'],\n",
       " '487': ['n02992529', 'cellular_telephone'],\n",
       " '488': ['n02999410', 'chain'],\n",
       " '489': ['n03000134', 'chainlink_fence'],\n",
       " '490': ['n03000247', 'chain_mail'],\n",
       " '491': ['n03000684', 'chain_saw'],\n",
       " '492': ['n03014705', 'chest'],\n",
       " '493': ['n03016953', 'chiffonier'],\n",
       " '494': ['n03017168', 'chime'],\n",
       " '495': ['n03018349', 'china_cabinet'],\n",
       " '496': ['n03026506', 'Christmas_stocking'],\n",
       " '497': ['n03028079', 'church'],\n",
       " '498': ['n03032252', 'cinema'],\n",
       " '499': ['n03041632', 'cleaver'],\n",
       " '500': ['n03042490', 'cliff_dwelling'],\n",
       " '501': ['n03045698', 'cloak'],\n",
       " '502': ['n03047690', 'clog'],\n",
       " '503': ['n03062245', 'cocktail_shaker'],\n",
       " '504': ['n03063599', 'coffee_mug'],\n",
       " '505': ['n03063689', 'coffeepot'],\n",
       " '506': ['n03065424', 'coil'],\n",
       " '507': ['n03075370', 'combination_lock'],\n",
       " '508': ['n03085013', 'computer_keyboard'],\n",
       " '509': ['n03089624', 'confectionery'],\n",
       " '510': ['n03095699', 'container_ship'],\n",
       " '511': ['n03100240', 'convertible'],\n",
       " '512': ['n03109150', 'corkscrew'],\n",
       " '513': ['n03110669', 'cornet'],\n",
       " '514': ['n03124043', 'cowboy_boot'],\n",
       " '515': ['n03124170', 'cowboy_hat'],\n",
       " '516': ['n03125729', 'cradle'],\n",
       " '517': ['n03126707', 'crane'],\n",
       " '518': ['n03127747', 'crash_helmet'],\n",
       " '519': ['n03127925', 'crate'],\n",
       " '520': ['n03131574', 'crib'],\n",
       " '521': ['n03133878', 'Crock_Pot'],\n",
       " '522': ['n03134739', 'croquet_ball'],\n",
       " '523': ['n03141823', 'crutch'],\n",
       " '524': ['n03146219', 'cuirass'],\n",
       " '525': ['n03160309', 'dam'],\n",
       " '526': ['n03179701', 'desk'],\n",
       " '527': ['n03180011', 'desktop_computer'],\n",
       " '528': ['n03187595', 'dial_telephone'],\n",
       " '529': ['n03188531', 'diaper'],\n",
       " '530': ['n03196217', 'digital_clock'],\n",
       " '531': ['n03197337', 'digital_watch'],\n",
       " '532': ['n03201208', 'dining_table'],\n",
       " '533': ['n03207743', 'dishrag'],\n",
       " '534': ['n03207941', 'dishwasher'],\n",
       " '535': ['n03208938', 'disk_brake'],\n",
       " '536': ['n03216828', 'dock'],\n",
       " '537': ['n03218198', 'dogsled'],\n",
       " '538': ['n03220513', 'dome'],\n",
       " '539': ['n03223299', 'doormat'],\n",
       " '540': ['n03240683', 'drilling_platform'],\n",
       " '541': ['n03249569', 'drum'],\n",
       " '542': ['n03250847', 'drumstick'],\n",
       " '543': ['n03255030', 'dumbbell'],\n",
       " '544': ['n03259280', 'Dutch_oven'],\n",
       " '545': ['n03271574', 'electric_fan'],\n",
       " '546': ['n03272010', 'electric_guitar'],\n",
       " '547': ['n03272562', 'electric_locomotive'],\n",
       " '548': ['n03290653', 'entertainment_center'],\n",
       " '549': ['n03291819', 'envelope'],\n",
       " '550': ['n03297495', 'espresso_maker'],\n",
       " '551': ['n03314780', 'face_powder'],\n",
       " '552': ['n03325584', 'feather_boa'],\n",
       " '553': ['n03337140', 'file'],\n",
       " '554': ['n03344393', 'fireboat'],\n",
       " '555': ['n03345487', 'fire_engine'],\n",
       " '556': ['n03347037', 'fire_screen'],\n",
       " '557': ['n03355925', 'flagpole'],\n",
       " '558': ['n03372029', 'flute'],\n",
       " '559': ['n03376595', 'folding_chair'],\n",
       " '560': ['n03379051', 'football_helmet'],\n",
       " '561': ['n03384352', 'forklift'],\n",
       " '562': ['n03388043', 'fountain'],\n",
       " '563': ['n03388183', 'fountain_pen'],\n",
       " '564': ['n03388549', 'four-poster'],\n",
       " '565': ['n03393912', 'freight_car'],\n",
       " '566': ['n03394916', 'French_horn'],\n",
       " '567': ['n03400231', 'frying_pan'],\n",
       " '568': ['n03404251', 'fur_coat'],\n",
       " '569': ['n03417042', 'garbage_truck'],\n",
       " '570': ['n03424325', 'gasmask'],\n",
       " '571': ['n03425413', 'gas_pump'],\n",
       " '572': ['n03443371', 'goblet'],\n",
       " '573': ['n03444034', 'go-kart'],\n",
       " '574': ['n03445777', 'golf_ball'],\n",
       " '575': ['n03445924', 'golfcart'],\n",
       " '576': ['n03447447', 'gondola'],\n",
       " '577': ['n03447721', 'gong'],\n",
       " '578': ['n03450230', 'gown'],\n",
       " '579': ['n03452741', 'grand_piano'],\n",
       " '580': ['n03457902', 'greenhouse'],\n",
       " '581': ['n03459775', 'grille'],\n",
       " '582': ['n03461385', 'grocery_store'],\n",
       " '583': ['n03467068', 'guillotine'],\n",
       " '584': ['n03476684', 'hair_slide'],\n",
       " '585': ['n03476991', 'hair_spray'],\n",
       " '586': ['n03478589', 'half_track'],\n",
       " '587': ['n03481172', 'hammer'],\n",
       " '588': ['n03482405', 'hamper'],\n",
       " '589': ['n03483316', 'hand_blower'],\n",
       " '590': ['n03485407', 'hand-held_computer'],\n",
       " '591': ['n03485794', 'handkerchief'],\n",
       " '592': ['n03492542', 'hard_disc'],\n",
       " '593': ['n03494278', 'harmonica'],\n",
       " '594': ['n03495258', 'harp'],\n",
       " '595': ['n03496892', 'harvester'],\n",
       " '596': ['n03498962', 'hatchet'],\n",
       " '597': ['n03527444', 'holster'],\n",
       " '598': ['n03529860', 'home_theater'],\n",
       " '599': ['n03530642', 'honeycomb'],\n",
       " '600': ['n03532672', 'hook'],\n",
       " '601': ['n03534580', 'hoopskirt'],\n",
       " '602': ['n03535780', 'horizontal_bar'],\n",
       " '603': ['n03538406', 'horse_cart'],\n",
       " '604': ['n03544143', 'hourglass'],\n",
       " '605': ['n03584254', 'iPod'],\n",
       " '606': ['n03584829', 'iron'],\n",
       " '607': ['n03590841', \"jack-o'-lantern\"],\n",
       " '608': ['n03594734', 'jean'],\n",
       " '609': ['n03594945', 'jeep'],\n",
       " '610': ['n03595614', 'jersey'],\n",
       " '611': ['n03598930', 'jigsaw_puzzle'],\n",
       " '612': ['n03599486', 'jinrikisha'],\n",
       " '613': ['n03602883', 'joystick'],\n",
       " '614': ['n03617480', 'kimono'],\n",
       " '615': ['n03623198', 'knee_pad'],\n",
       " '616': ['n03627232', 'knot'],\n",
       " '617': ['n03630383', 'lab_coat'],\n",
       " '618': ['n03633091', 'ladle'],\n",
       " '619': ['n03637318', 'lampshade'],\n",
       " '620': ['n03642806', 'laptop'],\n",
       " '621': ['n03649909', 'lawn_mower'],\n",
       " '622': ['n03657121', 'lens_cap'],\n",
       " '623': ['n03658185', 'letter_opener'],\n",
       " '624': ['n03661043', 'library'],\n",
       " '625': ['n03662601', 'lifeboat'],\n",
       " '626': ['n03666591', 'lighter'],\n",
       " '627': ['n03670208', 'limousine'],\n",
       " '628': ['n03673027', 'liner'],\n",
       " '629': ['n03676483', 'lipstick'],\n",
       " '630': ['n03680355', 'Loafer'],\n",
       " '631': ['n03690938', 'lotion'],\n",
       " '632': ['n03691459', 'loudspeaker'],\n",
       " '633': ['n03692522', 'loupe'],\n",
       " '634': ['n03697007', 'lumbermill'],\n",
       " '635': ['n03706229', 'magnetic_compass'],\n",
       " '636': ['n03709823', 'mailbag'],\n",
       " '637': ['n03710193', 'mailbox'],\n",
       " '638': ['n03710637', 'maillot'],\n",
       " '639': ['n03710721', 'maillot'],\n",
       " '640': ['n03717622', 'manhole_cover'],\n",
       " '641': ['n03720891', 'maraca'],\n",
       " '642': ['n03721384', 'marimba'],\n",
       " '643': ['n03724870', 'mask'],\n",
       " '644': ['n03729826', 'matchstick'],\n",
       " '645': ['n03733131', 'maypole'],\n",
       " '646': ['n03733281', 'maze'],\n",
       " '647': ['n03733805', 'measuring_cup'],\n",
       " '648': ['n03742115', 'medicine_chest'],\n",
       " '649': ['n03743016', 'megalith'],\n",
       " '650': ['n03759954', 'microphone'],\n",
       " '651': ['n03761084', 'microwave'],\n",
       " '652': ['n03763968', 'military_uniform'],\n",
       " '653': ['n03764736', 'milk_can'],\n",
       " '654': ['n03769881', 'minibus'],\n",
       " '655': ['n03770439', 'miniskirt'],\n",
       " '656': ['n03770679', 'minivan'],\n",
       " '657': ['n03773504', 'missile'],\n",
       " '658': ['n03775071', 'mitten'],\n",
       " '659': ['n03775546', 'mixing_bowl'],\n",
       " '660': ['n03776460', 'mobile_home'],\n",
       " '661': ['n03777568', 'Model_T'],\n",
       " '662': ['n03777754', 'modem'],\n",
       " '663': ['n03781244', 'monastery'],\n",
       " '664': ['n03782006', 'monitor'],\n",
       " '665': ['n03785016', 'moped'],\n",
       " '666': ['n03786901', 'mortar'],\n",
       " '667': ['n03787032', 'mortarboard'],\n",
       " '668': ['n03788195', 'mosque'],\n",
       " '669': ['n03788365', 'mosquito_net'],\n",
       " '670': ['n03791053', 'motor_scooter'],\n",
       " '671': ['n03792782', 'mountain_bike'],\n",
       " '672': ['n03792972', 'mountain_tent'],\n",
       " '673': ['n03793489', 'mouse'],\n",
       " '674': ['n03794056', 'mousetrap'],\n",
       " '675': ['n03796401', 'moving_van'],\n",
       " '676': ['n03803284', 'muzzle'],\n",
       " '677': ['n03804744', 'nail'],\n",
       " '678': ['n03814639', 'neck_brace'],\n",
       " '679': ['n03814906', 'necklace'],\n",
       " '680': ['n03825788', 'nipple'],\n",
       " '681': ['n03832673', 'notebook'],\n",
       " '682': ['n03837869', 'obelisk'],\n",
       " '683': ['n03838899', 'oboe'],\n",
       " '684': ['n03840681', 'ocarina'],\n",
       " '685': ['n03841143', 'odometer'],\n",
       " '686': ['n03843555', 'oil_filter'],\n",
       " '687': ['n03854065', 'organ'],\n",
       " '688': ['n03857828', 'oscilloscope'],\n",
       " '689': ['n03866082', 'overskirt'],\n",
       " '690': ['n03868242', 'oxcart'],\n",
       " '691': ['n03868863', 'oxygen_mask'],\n",
       " '692': ['n03871628', 'packet'],\n",
       " '693': ['n03873416', 'paddle'],\n",
       " '694': ['n03874293', 'paddlewheel'],\n",
       " '695': ['n03874599', 'padlock'],\n",
       " '696': ['n03876231', 'paintbrush'],\n",
       " '697': ['n03877472', 'pajama'],\n",
       " '698': ['n03877845', 'palace'],\n",
       " '699': ['n03884397', 'panpipe'],\n",
       " '700': ['n03887697', 'paper_towel'],\n",
       " '701': ['n03888257', 'parachute'],\n",
       " '702': ['n03888605', 'parallel_bars'],\n",
       " '703': ['n03891251', 'park_bench'],\n",
       " '704': ['n03891332', 'parking_meter'],\n",
       " '705': ['n03895866', 'passenger_car'],\n",
       " '706': ['n03899768', 'patio'],\n",
       " '707': ['n03902125', 'pay-phone'],\n",
       " '708': ['n03903868', 'pedestal'],\n",
       " '709': ['n03908618', 'pencil_box'],\n",
       " '710': ['n03908714', 'pencil_sharpener'],\n",
       " '711': ['n03916031', 'perfume'],\n",
       " '712': ['n03920288', 'Petri_dish'],\n",
       " '713': ['n03924679', 'photocopier'],\n",
       " '714': ['n03929660', 'pick'],\n",
       " '715': ['n03929855', 'pickelhaube'],\n",
       " '716': ['n03930313', 'picket_fence'],\n",
       " '717': ['n03930630', 'pickup'],\n",
       " '718': ['n03933933', 'pier'],\n",
       " '719': ['n03935335', 'piggy_bank'],\n",
       " '720': ['n03937543', 'pill_bottle'],\n",
       " '721': ['n03938244', 'pillow'],\n",
       " '722': ['n03942813', 'ping-pong_ball'],\n",
       " '723': ['n03944341', 'pinwheel'],\n",
       " '724': ['n03947888', 'pirate'],\n",
       " '725': ['n03950228', 'pitcher'],\n",
       " '726': ['n03954731', 'plane'],\n",
       " '727': ['n03956157', 'planetarium'],\n",
       " '728': ['n03958227', 'plastic_bag'],\n",
       " '729': ['n03961711', 'plate_rack'],\n",
       " '730': ['n03967562', 'plow'],\n",
       " '731': ['n03970156', 'plunger'],\n",
       " '732': ['n03976467', 'Polaroid_camera'],\n",
       " '733': ['n03976657', 'pole'],\n",
       " '734': ['n03977966', 'police_van'],\n",
       " '735': ['n03980874', 'poncho'],\n",
       " '736': ['n03982430', 'pool_table'],\n",
       " '737': ['n03983396', 'pop_bottle'],\n",
       " '738': ['n03991062', 'pot'],\n",
       " '739': ['n03992509', \"potter's_wheel\"],\n",
       " '740': ['n03995372', 'power_drill'],\n",
       " '741': ['n03998194', 'prayer_rug'],\n",
       " '742': ['n04004767', 'printer'],\n",
       " '743': ['n04005630', 'prison'],\n",
       " '744': ['n04008634', 'projectile'],\n",
       " '745': ['n04009552', 'projector'],\n",
       " '746': ['n04019541', 'puck'],\n",
       " '747': ['n04023962', 'punching_bag'],\n",
       " '748': ['n04026417', 'purse'],\n",
       " '749': ['n04033901', 'quill'],\n",
       " '750': ['n04033995', 'quilt'],\n",
       " '751': ['n04037443', 'racer'],\n",
       " '752': ['n04039381', 'racket'],\n",
       " '753': ['n04040759', 'radiator'],\n",
       " '754': ['n04041544', 'radio'],\n",
       " '755': ['n04044716', 'radio_telescope'],\n",
       " '756': ['n04049303', 'rain_barrel'],\n",
       " '757': ['n04065272', 'recreational_vehicle'],\n",
       " '758': ['n04067472', 'reel'],\n",
       " '759': ['n04069434', 'reflex_camera'],\n",
       " '760': ['n04070727', 'refrigerator'],\n",
       " '761': ['n04074963', 'remote_control'],\n",
       " '762': ['n04081281', 'restaurant'],\n",
       " '763': ['n04086273', 'revolver'],\n",
       " '764': ['n04090263', 'rifle'],\n",
       " '765': ['n04099969', 'rocking_chair'],\n",
       " '766': ['n04111531', 'rotisserie'],\n",
       " '767': ['n04116512', 'rubber_eraser'],\n",
       " '768': ['n04118538', 'rugby_ball'],\n",
       " '769': ['n04118776', 'rule'],\n",
       " '770': ['n04120489', 'running_shoe'],\n",
       " '771': ['n04125021', 'safe'],\n",
       " '772': ['n04127249', 'safety_pin'],\n",
       " '773': ['n04131690', 'saltshaker'],\n",
       " '774': ['n04133789', 'sandal'],\n",
       " '775': ['n04136333', 'sarong'],\n",
       " '776': ['n04141076', 'sax'],\n",
       " '777': ['n04141327', 'scabbard'],\n",
       " '778': ['n04141975', 'scale'],\n",
       " '779': ['n04146614', 'school_bus'],\n",
       " '780': ['n04147183', 'schooner'],\n",
       " '781': ['n04149813', 'scoreboard'],\n",
       " '782': ['n04152593', 'screen'],\n",
       " '783': ['n04153751', 'screw'],\n",
       " '784': ['n04154565', 'screwdriver'],\n",
       " '785': ['n04162706', 'seat_belt'],\n",
       " '786': ['n04179913', 'sewing_machine'],\n",
       " '787': ['n04192698', 'shield'],\n",
       " '788': ['n04200800', 'shoe_shop'],\n",
       " '789': ['n04201297', 'shoji'],\n",
       " '790': ['n04204238', 'shopping_basket'],\n",
       " '791': ['n04204347', 'shopping_cart'],\n",
       " '792': ['n04208210', 'shovel'],\n",
       " '793': ['n04209133', 'shower_cap'],\n",
       " '794': ['n04209239', 'shower_curtain'],\n",
       " '795': ['n04228054', 'ski'],\n",
       " '796': ['n04229816', 'ski_mask'],\n",
       " '797': ['n04235860', 'sleeping_bag'],\n",
       " '798': ['n04238763', 'slide_rule'],\n",
       " '799': ['n04239074', 'sliding_door'],\n",
       " '800': ['n04243546', 'slot'],\n",
       " '801': ['n04251144', 'snorkel'],\n",
       " '802': ['n04252077', 'snowmobile'],\n",
       " '803': ['n04252225', 'snowplow'],\n",
       " '804': ['n04254120', 'soap_dispenser'],\n",
       " '805': ['n04254680', 'soccer_ball'],\n",
       " '806': ['n04254777', 'sock'],\n",
       " '807': ['n04258138', 'solar_dish'],\n",
       " '808': ['n04259630', 'sombrero'],\n",
       " '809': ['n04263257', 'soup_bowl'],\n",
       " '810': ['n04264628', 'space_bar'],\n",
       " '811': ['n04265275', 'space_heater'],\n",
       " '812': ['n04266014', 'space_shuttle'],\n",
       " '813': ['n04270147', 'spatula'],\n",
       " '814': ['n04273569', 'speedboat'],\n",
       " '815': ['n04275548', 'spider_web'],\n",
       " '816': ['n04277352', 'spindle'],\n",
       " '817': ['n04285008', 'sports_car'],\n",
       " '818': ['n04286575', 'spotlight'],\n",
       " '819': ['n04296562', 'stage'],\n",
       " '820': ['n04310018', 'steam_locomotive'],\n",
       " '821': ['n04311004', 'steel_arch_bridge'],\n",
       " '822': ['n04311174', 'steel_drum'],\n",
       " '823': ['n04317175', 'stethoscope'],\n",
       " '824': ['n04325704', 'stole'],\n",
       " '825': ['n04326547', 'stone_wall'],\n",
       " '826': ['n04328186', 'stopwatch'],\n",
       " '827': ['n04330267', 'stove'],\n",
       " '828': ['n04332243', 'strainer'],\n",
       " '829': ['n04335435', 'streetcar'],\n",
       " '830': ['n04336792', 'stretcher'],\n",
       " '831': ['n04344873', 'studio_couch'],\n",
       " '832': ['n04346328', 'stupa'],\n",
       " '833': ['n04347754', 'submarine'],\n",
       " '834': ['n04350905', 'suit'],\n",
       " '835': ['n04355338', 'sundial'],\n",
       " '836': ['n04355933', 'sunglass'],\n",
       " '837': ['n04356056', 'sunglasses'],\n",
       " '838': ['n04357314', 'sunscreen'],\n",
       " '839': ['n04366367', 'suspension_bridge'],\n",
       " '840': ['n04367480', 'swab'],\n",
       " '841': ['n04370456', 'sweatshirt'],\n",
       " '842': ['n04371430', 'swimming_trunks'],\n",
       " '843': ['n04371774', 'swing'],\n",
       " '844': ['n04372370', 'switch'],\n",
       " '845': ['n04376876', 'syringe'],\n",
       " '846': ['n04380533', 'table_lamp'],\n",
       " '847': ['n04389033', 'tank'],\n",
       " '848': ['n04392985', 'tape_player'],\n",
       " '849': ['n04398044', 'teapot'],\n",
       " '850': ['n04399382', 'teddy'],\n",
       " '851': ['n04404412', 'television'],\n",
       " '852': ['n04409515', 'tennis_ball'],\n",
       " '853': ['n04417672', 'thatch'],\n",
       " '854': ['n04418357', 'theater_curtain'],\n",
       " '855': ['n04423845', 'thimble'],\n",
       " '856': ['n04428191', 'thresher'],\n",
       " '857': ['n04429376', 'throne'],\n",
       " '858': ['n04435653', 'tile_roof'],\n",
       " '859': ['n04442312', 'toaster'],\n",
       " '860': ['n04443257', 'tobacco_shop'],\n",
       " '861': ['n04447861', 'toilet_seat'],\n",
       " '862': ['n04456115', 'torch'],\n",
       " '863': ['n04458633', 'totem_pole'],\n",
       " '864': ['n04461696', 'tow_truck'],\n",
       " '865': ['n04462240', 'toyshop'],\n",
       " '866': ['n04465501', 'tractor'],\n",
       " '867': ['n04467665', 'trailer_truck'],\n",
       " '868': ['n04476259', 'tray'],\n",
       " '869': ['n04479046', 'trench_coat'],\n",
       " '870': ['n04482393', 'tricycle'],\n",
       " '871': ['n04483307', 'trimaran'],\n",
       " '872': ['n04485082', 'tripod'],\n",
       " '873': ['n04486054', 'triumphal_arch'],\n",
       " '874': ['n04487081', 'trolleybus'],\n",
       " '875': ['n04487394', 'trombone'],\n",
       " '876': ['n04493381', 'tub'],\n",
       " '877': ['n04501370', 'turnstile'],\n",
       " '878': ['n04505470', 'typewriter_keyboard'],\n",
       " '879': ['n04507155', 'umbrella'],\n",
       " '880': ['n04509417', 'unicycle'],\n",
       " '881': ['n04515003', 'upright'],\n",
       " '882': ['n04517823', 'vacuum'],\n",
       " '883': ['n04522168', 'vase'],\n",
       " '884': ['n04523525', 'vault'],\n",
       " '885': ['n04525038', 'velvet'],\n",
       " '886': ['n04525305', 'vending_machine'],\n",
       " '887': ['n04532106', 'vestment'],\n",
       " '888': ['n04532670', 'viaduct'],\n",
       " '889': ['n04536866', 'violin'],\n",
       " '890': ['n04540053', 'volleyball'],\n",
       " '891': ['n04542943', 'waffle_iron'],\n",
       " '892': ['n04548280', 'wall_clock'],\n",
       " '893': ['n04548362', 'wallet'],\n",
       " '894': ['n04550184', 'wardrobe'],\n",
       " '895': ['n04552348', 'warplane'],\n",
       " '896': ['n04553703', 'washbasin'],\n",
       " '897': ['n04554684', 'washer'],\n",
       " '898': ['n04557648', 'water_bottle'],\n",
       " '899': ['n04560804', 'water_jug'],\n",
       " '900': ['n04562935', 'water_tower'],\n",
       " '901': ['n04579145', 'whiskey_jug'],\n",
       " '902': ['n04579432', 'whistle'],\n",
       " '903': ['n04584207', 'wig'],\n",
       " '904': ['n04589890', 'window_screen'],\n",
       " '905': ['n04590129', 'window_shade'],\n",
       " '906': ['n04591157', 'Windsor_tie'],\n",
       " '907': ['n04591713', 'wine_bottle'],\n",
       " '908': ['n04592741', 'wing'],\n",
       " '909': ['n04596742', 'wok'],\n",
       " '910': ['n04597913', 'wooden_spoon'],\n",
       " '911': ['n04599235', 'wool'],\n",
       " '912': ['n04604644', 'worm_fence'],\n",
       " '913': ['n04606251', 'wreck'],\n",
       " '914': ['n04612504', 'yawl'],\n",
       " '915': ['n04613696', 'yurt'],\n",
       " '916': ['n06359193', 'web_site'],\n",
       " '917': ['n06596364', 'comic_book'],\n",
       " '918': ['n06785654', 'crossword_puzzle'],\n",
       " '919': ['n06794110', 'street_sign'],\n",
       " '920': ['n06874185', 'traffic_light'],\n",
       " '921': ['n07248320', 'book_jacket'],\n",
       " '922': ['n07565083', 'menu'],\n",
       " '923': ['n07579787', 'plate'],\n",
       " '924': ['n07583066', 'guacamole'],\n",
       " '925': ['n07584110', 'consomme'],\n",
       " '926': ['n07590611', 'hot_pot'],\n",
       " '927': ['n07613480', 'trifle'],\n",
       " '928': ['n07614500', 'ice_cream'],\n",
       " '929': ['n07615774', 'ice_lolly'],\n",
       " '930': ['n07684084', 'French_loaf'],\n",
       " '931': ['n07693725', 'bagel'],\n",
       " '932': ['n07695742', 'pretzel'],\n",
       " '933': ['n07697313', 'cheeseburger'],\n",
       " '934': ['n07697537', 'hotdog'],\n",
       " '935': ['n07711569', 'mashed_potato'],\n",
       " '936': ['n07714571', 'head_cabbage'],\n",
       " '937': ['n07714990', 'broccoli'],\n",
       " '938': ['n07715103', 'cauliflower'],\n",
       " '939': ['n07716358', 'zucchini'],\n",
       " '940': ['n07716906', 'spaghetti_squash'],\n",
       " '941': ['n07717410', 'acorn_squash'],\n",
       " '942': ['n07717556', 'butternut_squash'],\n",
       " '943': ['n07718472', 'cucumber'],\n",
       " '944': ['n07718747', 'artichoke'],\n",
       " '945': ['n07720875', 'bell_pepper'],\n",
       " '946': ['n07730033', 'cardoon'],\n",
       " '947': ['n07734744', 'mushroom'],\n",
       " '948': ['n07742313', 'Granny_Smith'],\n",
       " '949': ['n07745940', 'strawberry'],\n",
       " '950': ['n07747607', 'orange'],\n",
       " '951': ['n07749582', 'lemon'],\n",
       " '952': ['n07753113', 'fig'],\n",
       " '953': ['n07753275', 'pineapple'],\n",
       " '954': ['n07753592', 'banana'],\n",
       " '955': ['n07754684', 'jackfruit'],\n",
       " '956': ['n07760859', 'custard_apple'],\n",
       " '957': ['n07768694', 'pomegranate'],\n",
       " '958': ['n07802026', 'hay'],\n",
       " '959': ['n07831146', 'carbonara'],\n",
       " '960': ['n07836838', 'chocolate_sauce'],\n",
       " '961': ['n07860988', 'dough'],\n",
       " '962': ['n07871810', 'meat_loaf'],\n",
       " '963': ['n07873807', 'pizza'],\n",
       " '964': ['n07875152', 'potpie'],\n",
       " '965': ['n07880968', 'burrito'],\n",
       " '966': ['n07892512', 'red_wine'],\n",
       " '967': ['n07920052', 'espresso'],\n",
       " '968': ['n07930864', 'cup'],\n",
       " '969': ['n07932039', 'eggnog'],\n",
       " '970': ['n09193705', 'alp'],\n",
       " '971': ['n09229709', 'bubble'],\n",
       " '972': ['n09246464', 'cliff'],\n",
       " '973': ['n09256479', 'coral_reef'],\n",
       " '974': ['n09288635', 'geyser'],\n",
       " '975': ['n09332890', 'lakeside'],\n",
       " '976': ['n09399592', 'promontory'],\n",
       " '977': ['n09421951', 'sandbar'],\n",
       " '978': ['n09428293', 'seashore'],\n",
       " '979': ['n09468604', 'valley'],\n",
       " '980': ['n09472597', 'volcano'],\n",
       " '981': ['n09835506', 'ballplayer'],\n",
       " '982': ['n10148035', 'groom'],\n",
       " '983': ['n10565667', 'scuba_diver'],\n",
       " '984': ['n11879895', 'rapeseed'],\n",
       " '985': ['n11939491', 'daisy'],\n",
       " '986': ['n12057211', \"yellow_lady's_slipper\"],\n",
       " '987': ['n12144580', 'corn'],\n",
       " '988': ['n12267677', 'acorn'],\n",
       " '989': ['n12620546', 'hip'],\n",
       " '990': ['n12768682', 'buckeye'],\n",
       " '991': ['n12985857', 'coral_fungus'],\n",
       " '992': ['n12998815', 'agaric'],\n",
       " '993': ['n13037406', 'gyromitra'],\n",
       " '994': ['n13040303', 'stinkhorn'],\n",
       " '995': ['n13044778', 'earthstar'],\n",
       " '996': ['n13052670', 'hen-of-the-woods'],\n",
       " '997': ['n13054560', 'bolete'],\n",
       " '998': ['n13133613', 'ear'],\n",
       " '999': ['n15075141', 'toilet_tissue']}"
      ]
     },
     "execution_count": 84,
     "metadata": {},
     "output_type": "execute_result"
    }
   ],
   "source": [
    "labs"
   ]
  },
  {
   "cell_type": "code",
   "execution_count": 86,
   "id": "eb15a520",
   "metadata": {},
   "outputs": [
    {
     "data": {
      "text/html": [
       "<div>\n",
       "<style scoped>\n",
       "    .dataframe tbody tr th:only-of-type {\n",
       "        vertical-align: middle;\n",
       "    }\n",
       "\n",
       "    .dataframe tbody tr th {\n",
       "        vertical-align: top;\n",
       "    }\n",
       "\n",
       "    .dataframe thead th {\n",
       "        text-align: right;\n",
       "    }\n",
       "</style>\n",
       "<table border=\"1\" class=\"dataframe\">\n",
       "  <thead>\n",
       "    <tr style=\"text-align: right;\">\n",
       "      <th></th>\n",
       "      <th>label</th>\n",
       "    </tr>\n",
       "    <tr>\n",
       "      <th>idx</th>\n",
       "      <th></th>\n",
       "    </tr>\n",
       "  </thead>\n",
       "  <tbody>\n",
       "    <tr>\n",
       "      <th>0</th>\n",
       "      <td>tench</td>\n",
       "    </tr>\n",
       "    <tr>\n",
       "      <th>1</th>\n",
       "      <td>goldfish</td>\n",
       "    </tr>\n",
       "    <tr>\n",
       "      <th>2</th>\n",
       "      <td>great_white_shark</td>\n",
       "    </tr>\n",
       "    <tr>\n",
       "      <th>3</th>\n",
       "      <td>tiger_shark</td>\n",
       "    </tr>\n",
       "    <tr>\n",
       "      <th>4</th>\n",
       "      <td>hammerhead</td>\n",
       "    </tr>\n",
       "    <tr>\n",
       "      <th>...</th>\n",
       "      <td>...</td>\n",
       "    </tr>\n",
       "    <tr>\n",
       "      <th>995</th>\n",
       "      <td>earthstar</td>\n",
       "    </tr>\n",
       "    <tr>\n",
       "      <th>996</th>\n",
       "      <td>hen-of-the-woods</td>\n",
       "    </tr>\n",
       "    <tr>\n",
       "      <th>997</th>\n",
       "      <td>bolete</td>\n",
       "    </tr>\n",
       "    <tr>\n",
       "      <th>998</th>\n",
       "      <td>ear</td>\n",
       "    </tr>\n",
       "    <tr>\n",
       "      <th>999</th>\n",
       "      <td>toilet_tissue</td>\n",
       "    </tr>\n",
       "  </tbody>\n",
       "</table>\n",
       "<p>1000 rows × 1 columns</p>\n",
       "</div>"
      ],
      "text/plain": [
       "                 label\n",
       "idx                   \n",
       "0                tench\n",
       "1             goldfish\n",
       "2    great_white_shark\n",
       "3          tiger_shark\n",
       "4           hammerhead\n",
       "..                 ...\n",
       "995          earthstar\n",
       "996   hen-of-the-woods\n",
       "997             bolete\n",
       "998                ear\n",
       "999      toilet_tissue\n",
       "\n",
       "[1000 rows x 1 columns]"
      ]
     },
     "execution_count": 86,
     "metadata": {},
     "output_type": "execute_result"
    }
   ],
   "source": [
    "class_labels = pd.DataFrame([(int(k), v[1]) for k, v in\n",
    "labs.items()],\n",
    "columns=['idx', 'label']) \n",
    "class_labels = class_labels.set_index('idx')\n",
    "class_labels = class_labels.sort_index()\n",
    "class_labels"
   ]
  },
  {
   "cell_type": "code",
   "execution_count": 88,
   "id": "243164fc",
   "metadata": {},
   "outputs": [
    {
     "name": "stdout",
     "output_type": "stream",
     "text": [
      "Image: book_images/flamingo.jpg\n",
      "            label      prob\n",
      "0        flamingo  0.591761\n",
      "1       spoonbill  0.012386\n",
      "2  American_egret  0.002105\n",
      "Image: book_images/hawk.jpg\n",
      "            label      prob\n",
      "0  great_grey_owl  0.287959\n",
      "1            kite  0.039478\n",
      "2        fountain  0.029384\n",
      "Image: book_images/hawk_cropped.jpeg\n",
      "    label      prob\n",
      "0    kite  0.301841\n",
      "1     jay  0.121658\n",
      "2  magpie  0.015511\n",
      "Image: book_images/huey.jpg\n",
      "             label      prob\n",
      "0            Lhasa  0.151153\n",
      "1         Shih-Tzu  0.129804\n",
      "2  Tibetan_terrier  0.102400\n",
      "Image: book_images/kitty.jpg\n",
      "       label      prob\n",
      "0      tabby  0.173627\n",
      "1  tiger_cat  0.110414\n",
      "2    doormat  0.093447\n",
      "Image: book_images/weaver.jpg\n",
      "       label      prob\n",
      "0    jacamar  0.287283\n",
      "1  bee_eater  0.046768\n",
      "2     bulbul  0.037507\n"
     ]
    }
   ],
   "source": [
    "for i, imgfile in enumerate(imgfiles):\n",
    "    img_df = class_labels.copy()\n",
    "    img_df['prob'] = img_probs[i]\n",
    "    img_df = img_df.sort_values(by='prob', ascending=False)[:3] \n",
    "    print(f'Image: {imgfile}') \n",
    "    print(img_df.reset_index().drop(columns=['idx']))"
   ]
  },
  {
   "cell_type": "code",
   "execution_count": 89,
   "id": "ae29063c",
   "metadata": {},
   "outputs": [],
   "source": [
    "class LSTMModel(nn.Module):\n",
    "    def __init__(self, input_size):\n",
    "        super(LSTMModel, self).__init__()\n",
    "        self.embedding = nn.Embedding(input_size, 32)\n",
    "        self.lstm = nn.LSTM(input_size=32, hidden_size=32, batch_first=True)\n",
    "        self.dense = nn.Linear(32, 1)\n",
    "        \n",
    "    def forward(self, x):\n",
    "        val, (h_n, c_n) = self.lstm(self.embedding(x))\n",
    "        \n",
    "        return torch.flatten(self.dense(val[:, -1]))"
   ]
  },
  {
   "cell_type": "code",
   "execution_count": 90,
   "id": "f0990f97",
   "metadata": {},
   "outputs": [],
   "source": [
    "lstm_model = LSTMModel(X_test.shape[-1])"
   ]
  },
  {
   "cell_type": "code",
   "execution_count": 93,
   "id": "b9cdf057",
   "metadata": {},
   "outputs": [
    {
     "data": {
      "text/plain": [
       "===================================================================================================================\n",
       "Layer (type:depth-idx)                   Input Shape               Output Shape              Param #\n",
       "===================================================================================================================\n",
       "LSTMModel                                [10, 500]                 [10]                      --\n",
       "├─Embedding: 1-1                         [10, 500]                 [10, 500, 32]             320,096\n",
       "├─LSTM: 1-2                              [10, 500, 32]             [10, 500, 32]             8,448\n",
       "├─Linear: 1-3                            [10, 32]                  [10, 1]                   33\n",
       "===================================================================================================================\n",
       "Total params: 328,577\n",
       "Trainable params: 328,577\n",
       "Non-trainable params: 0\n",
       "Total mult-adds (Units.MEGABYTES): 45.44\n",
       "===================================================================================================================\n",
       "Input size (MB): 50.00\n",
       "Forward/backward pass size (MB): 2.56\n",
       "Params size (MB): 1.31\n",
       "Estimated Total Size (MB): 53.87\n",
       "==================================================================================================================="
      ]
     },
     "execution_count": 93,
     "metadata": {},
     "output_type": "execute_result"
    }
   ],
   "source": [
    "summary(lstm_model, input_data=imdb_seq_train.tensors[0][:10], col_names=['input_size','output_size', 'num_params'])"
   ]
  },
  {
   "cell_type": "code",
   "execution_count": 95,
   "id": "ed594f46",
   "metadata": {},
   "outputs": [],
   "source": [
    "lstm_module = SimpleModule.binary_classification(lstm_model) \n",
    "lstm_logger = CSVLogger('logs', name='IMDB_LSTM')"
   ]
  },
  {
   "cell_type": "code",
   "execution_count": 96,
   "id": "f711e116",
   "metadata": {},
   "outputs": [
    {
     "name": "stderr",
     "output_type": "stream",
     "text": [
      "GPU available: False, used: False\n",
      "TPU available: False, using: 0 TPU cores\n",
      "IPU available: False, using: 0 IPUs\n",
      "HPU available: False, using: 0 HPUs\n"
     ]
    }
   ],
   "source": [
    "lstm_trainer = Trainer(\n",
    "    deterministic=True, max_epochs=20,\n",
    "    logger=lstm_logger ,\n",
    "    callbacks=[ErrorTracker()]\n",
    ")"
   ]
  },
  {
   "cell_type": "code",
   "execution_count": 100,
   "id": "fd986c28",
   "metadata": {},
   "outputs": [
    {
     "name": "stderr",
     "output_type": "stream",
     "text": [
      "Missing logger folder: logs/IMDB_LSTM\n",
      "\n",
      "  | Name  | Type              | Params\n",
      "--------------------------------------------\n",
      "0 | model | LSTMModel         | 328 K \n",
      "1 | loss  | BCEWithLogitsLoss | 0     \n",
      "--------------------------------------------\n",
      "328 K     Trainable params\n",
      "0         Non-trainable params\n",
      "328 K     Total params\n",
      "1.314     Total estimated model params size (MB)\n"
     ]
    },
    {
     "data": {
      "application/vnd.jupyter.widget-view+json": {
       "model_id": "",
       "version_major": 2,
       "version_minor": 0
      },
      "text/plain": [
       "Sanity Checking: 0it [00:00, ?it/s]"
      ]
     },
     "metadata": {},
     "output_type": "display_data"
    },
    {
     "data": {
      "application/vnd.jupyter.widget-view+json": {
       "model_id": "dabb100ec21e405dbe3161b7af8c96ec",
       "version_major": 2,
       "version_minor": 0
      },
      "text/plain": [
       "Training: 0it [00:00, ?it/s]"
      ]
     },
     "metadata": {},
     "output_type": "display_data"
    },
    {
     "data": {
      "application/vnd.jupyter.widget-view+json": {
       "model_id": "",
       "version_major": 2,
       "version_minor": 0
      },
      "text/plain": [
       "Validation: 0it [00:00, ?it/s]"
      ]
     },
     "metadata": {},
     "output_type": "display_data"
    },
    {
     "data": {
      "application/vnd.jupyter.widget-view+json": {
       "model_id": "",
       "version_major": 2,
       "version_minor": 0
      },
      "text/plain": [
       "Validation: 0it [00:00, ?it/s]"
      ]
     },
     "metadata": {},
     "output_type": "display_data"
    },
    {
     "data": {
      "application/vnd.jupyter.widget-view+json": {
       "model_id": "",
       "version_major": 2,
       "version_minor": 0
      },
      "text/plain": [
       "Validation: 0it [00:00, ?it/s]"
      ]
     },
     "metadata": {},
     "output_type": "display_data"
    },
    {
     "data": {
      "application/vnd.jupyter.widget-view+json": {
       "model_id": "",
       "version_major": 2,
       "version_minor": 0
      },
      "text/plain": [
       "Validation: 0it [00:00, ?it/s]"
      ]
     },
     "metadata": {},
     "output_type": "display_data"
    },
    {
     "data": {
      "application/vnd.jupyter.widget-view+json": {
       "model_id": "",
       "version_major": 2,
       "version_minor": 0
      },
      "text/plain": [
       "Validation: 0it [00:00, ?it/s]"
      ]
     },
     "metadata": {},
     "output_type": "display_data"
    },
    {
     "data": {
      "application/vnd.jupyter.widget-view+json": {
       "model_id": "",
       "version_major": 2,
       "version_minor": 0
      },
      "text/plain": [
       "Validation: 0it [00:00, ?it/s]"
      ]
     },
     "metadata": {},
     "output_type": "display_data"
    },
    {
     "data": {
      "application/vnd.jupyter.widget-view+json": {
       "model_id": "",
       "version_major": 2,
       "version_minor": 0
      },
      "text/plain": [
       "Validation: 0it [00:00, ?it/s]"
      ]
     },
     "metadata": {},
     "output_type": "display_data"
    },
    {
     "data": {
      "application/vnd.jupyter.widget-view+json": {
       "model_id": "",
       "version_major": 2,
       "version_minor": 0
      },
      "text/plain": [
       "Validation: 0it [00:00, ?it/s]"
      ]
     },
     "metadata": {},
     "output_type": "display_data"
    },
    {
     "data": {
      "application/vnd.jupyter.widget-view+json": {
       "model_id": "",
       "version_major": 2,
       "version_minor": 0
      },
      "text/plain": [
       "Validation: 0it [00:00, ?it/s]"
      ]
     },
     "metadata": {},
     "output_type": "display_data"
    },
    {
     "data": {
      "application/vnd.jupyter.widget-view+json": {
       "model_id": "",
       "version_major": 2,
       "version_minor": 0
      },
      "text/plain": [
       "Validation: 0it [00:00, ?it/s]"
      ]
     },
     "metadata": {},
     "output_type": "display_data"
    },
    {
     "data": {
      "application/vnd.jupyter.widget-view+json": {
       "model_id": "",
       "version_major": 2,
       "version_minor": 0
      },
      "text/plain": [
       "Validation: 0it [00:00, ?it/s]"
      ]
     },
     "metadata": {},
     "output_type": "display_data"
    },
    {
     "data": {
      "application/vnd.jupyter.widget-view+json": {
       "model_id": "",
       "version_major": 2,
       "version_minor": 0
      },
      "text/plain": [
       "Validation: 0it [00:00, ?it/s]"
      ]
     },
     "metadata": {},
     "output_type": "display_data"
    },
    {
     "data": {
      "application/vnd.jupyter.widget-view+json": {
       "model_id": "",
       "version_major": 2,
       "version_minor": 0
      },
      "text/plain": [
       "Validation: 0it [00:00, ?it/s]"
      ]
     },
     "metadata": {},
     "output_type": "display_data"
    },
    {
     "data": {
      "application/vnd.jupyter.widget-view+json": {
       "model_id": "",
       "version_major": 2,
       "version_minor": 0
      },
      "text/plain": [
       "Validation: 0it [00:00, ?it/s]"
      ]
     },
     "metadata": {},
     "output_type": "display_data"
    },
    {
     "data": {
      "application/vnd.jupyter.widget-view+json": {
       "model_id": "",
       "version_major": 2,
       "version_minor": 0
      },
      "text/plain": [
       "Validation: 0it [00:00, ?it/s]"
      ]
     },
     "metadata": {},
     "output_type": "display_data"
    },
    {
     "data": {
      "application/vnd.jupyter.widget-view+json": {
       "model_id": "",
       "version_major": 2,
       "version_minor": 0
      },
      "text/plain": [
       "Validation: 0it [00:00, ?it/s]"
      ]
     },
     "metadata": {},
     "output_type": "display_data"
    },
    {
     "data": {
      "application/vnd.jupyter.widget-view+json": {
       "model_id": "",
       "version_major": 2,
       "version_minor": 0
      },
      "text/plain": [
       "Validation: 0it [00:00, ?it/s]"
      ]
     },
     "metadata": {},
     "output_type": "display_data"
    },
    {
     "data": {
      "application/vnd.jupyter.widget-view+json": {
       "model_id": "",
       "version_major": 2,
       "version_minor": 0
      },
      "text/plain": [
       "Validation: 0it [00:00, ?it/s]"
      ]
     },
     "metadata": {},
     "output_type": "display_data"
    },
    {
     "data": {
      "application/vnd.jupyter.widget-view+json": {
       "model_id": "",
       "version_major": 2,
       "version_minor": 0
      },
      "text/plain": [
       "Validation: 0it [00:00, ?it/s]"
      ]
     },
     "metadata": {},
     "output_type": "display_data"
    },
    {
     "data": {
      "application/vnd.jupyter.widget-view+json": {
       "model_id": "",
       "version_major": 2,
       "version_minor": 0
      },
      "text/plain": [
       "Validation: 0it [00:00, ?it/s]"
      ]
     },
     "metadata": {},
     "output_type": "display_data"
    }
   ],
   "source": [
    "imdb_seq_dm = SimpleDataModule(imdb_seq_train, imdb_seq_test ,\n",
    "validation=2000,\n",
    "batch_size=300,\n",
    "num_workers=4)\n",
    "lstm_trainer.fit(\n",
    "    lstm_module,\n",
    "    datamodule=imdb_seq_dm\n",
    ")"
   ]
  },
  {
   "cell_type": "code",
   "execution_count": 101,
   "id": "1c621171",
   "metadata": {},
   "outputs": [
    {
     "data": {
      "application/vnd.jupyter.widget-view+json": {
       "model_id": "0c7a0285cffc48f8bd47c402eea9f008",
       "version_major": 2,
       "version_minor": 0
      },
      "text/plain": [
       "Testing: 0it [00:00, ?it/s]"
      ]
     },
     "metadata": {},
     "output_type": "display_data"
    },
    {
     "name": "stdout",
     "output_type": "stream",
     "text": [
      "────────────────────────────────────────────────────────────────────────────────────────────────────────────────────────\n",
      "Runningstage.testing metric      DataLoader 0\n",
      "────────────────────────────────────────────────────────────────────────────────────────────────────────────────────────\n",
      "      test_accuracy          0.837119996547699\n",
      "        test_loss           0.8441449999809265\n",
      "────────────────────────────────────────────────────────────────────────────────────────────────────────────────────────\n"
     ]
    },
    {
     "data": {
      "text/plain": [
       "[{'test_loss': 0.8441449999809265, 'test_accuracy': 0.837119996547699}]"
      ]
     },
     "execution_count": 101,
     "metadata": {},
     "output_type": "execute_result"
    }
   ],
   "source": [
    "lstm_trainer.test(lstm_module, datamodule=imdb_seq_dm)"
   ]
  },
  {
   "cell_type": "code",
   "execution_count": 4,
   "id": "0d49a320",
   "metadata": {},
   "outputs": [],
   "source": [
    "NYSE = load_data('NYSE')"
   ]
  },
  {
   "cell_type": "code",
   "execution_count": 5,
   "id": "6fb41204",
   "metadata": {},
   "outputs": [
    {
     "data": {
      "text/html": [
       "<div>\n",
       "<style scoped>\n",
       "    .dataframe tbody tr th:only-of-type {\n",
       "        vertical-align: middle;\n",
       "    }\n",
       "\n",
       "    .dataframe tbody tr th {\n",
       "        vertical-align: top;\n",
       "    }\n",
       "\n",
       "    .dataframe thead th {\n",
       "        text-align: right;\n",
       "    }\n",
       "</style>\n",
       "<table border=\"1\" class=\"dataframe\">\n",
       "  <thead>\n",
       "    <tr style=\"text-align: right;\">\n",
       "      <th></th>\n",
       "      <th>day_of_week</th>\n",
       "      <th>DJ_return</th>\n",
       "      <th>log_volume</th>\n",
       "      <th>log_volatility</th>\n",
       "      <th>train</th>\n",
       "    </tr>\n",
       "    <tr>\n",
       "      <th>date</th>\n",
       "      <th></th>\n",
       "      <th></th>\n",
       "      <th></th>\n",
       "      <th></th>\n",
       "      <th></th>\n",
       "    </tr>\n",
       "  </thead>\n",
       "  <tbody>\n",
       "    <tr>\n",
       "      <th>1962-12-03</th>\n",
       "      <td>mon</td>\n",
       "      <td>-0.004461</td>\n",
       "      <td>0.032573</td>\n",
       "      <td>-13.127403</td>\n",
       "      <td>True</td>\n",
       "    </tr>\n",
       "    <tr>\n",
       "      <th>1962-12-04</th>\n",
       "      <td>tues</td>\n",
       "      <td>0.007813</td>\n",
       "      <td>0.346202</td>\n",
       "      <td>-11.749305</td>\n",
       "      <td>True</td>\n",
       "    </tr>\n",
       "    <tr>\n",
       "      <th>1962-12-05</th>\n",
       "      <td>wed</td>\n",
       "      <td>0.003845</td>\n",
       "      <td>0.525306</td>\n",
       "      <td>-11.665609</td>\n",
       "      <td>True</td>\n",
       "    </tr>\n",
       "    <tr>\n",
       "      <th>1962-12-06</th>\n",
       "      <td>thur</td>\n",
       "      <td>-0.003462</td>\n",
       "      <td>0.210182</td>\n",
       "      <td>-11.626772</td>\n",
       "      <td>True</td>\n",
       "    </tr>\n",
       "    <tr>\n",
       "      <th>1962-12-07</th>\n",
       "      <td>fri</td>\n",
       "      <td>0.000568</td>\n",
       "      <td>0.044187</td>\n",
       "      <td>-11.728130</td>\n",
       "      <td>True</td>\n",
       "    </tr>\n",
       "    <tr>\n",
       "      <th>...</th>\n",
       "      <td>...</td>\n",
       "      <td>...</td>\n",
       "      <td>...</td>\n",
       "      <td>...</td>\n",
       "      <td>...</td>\n",
       "    </tr>\n",
       "    <tr>\n",
       "      <th>1986-12-24</th>\n",
       "      <td>wed</td>\n",
       "      <td>0.006514</td>\n",
       "      <td>-0.236104</td>\n",
       "      <td>-9.807366</td>\n",
       "      <td>False</td>\n",
       "    </tr>\n",
       "    <tr>\n",
       "      <th>1986-12-26</th>\n",
       "      <td>fri</td>\n",
       "      <td>0.001825</td>\n",
       "      <td>-1.322425</td>\n",
       "      <td>-9.906025</td>\n",
       "      <td>False</td>\n",
       "    </tr>\n",
       "    <tr>\n",
       "      <th>1986-12-29</th>\n",
       "      <td>mon</td>\n",
       "      <td>-0.009515</td>\n",
       "      <td>-0.371237</td>\n",
       "      <td>-9.827660</td>\n",
       "      <td>False</td>\n",
       "    </tr>\n",
       "    <tr>\n",
       "      <th>1986-12-30</th>\n",
       "      <td>tues</td>\n",
       "      <td>-0.001837</td>\n",
       "      <td>-0.385638</td>\n",
       "      <td>-9.926091</td>\n",
       "      <td>False</td>\n",
       "    </tr>\n",
       "    <tr>\n",
       "      <th>1986-12-31</th>\n",
       "      <td>wed</td>\n",
       "      <td>-0.006655</td>\n",
       "      <td>-0.264986</td>\n",
       "      <td>-9.935527</td>\n",
       "      <td>False</td>\n",
       "    </tr>\n",
       "  </tbody>\n",
       "</table>\n",
       "<p>6051 rows × 5 columns</p>\n",
       "</div>"
      ],
      "text/plain": [
       "           day_of_week  DJ_return  log_volume  log_volatility  train\n",
       "date                                                                \n",
       "1962-12-03         mon  -0.004461    0.032573      -13.127403   True\n",
       "1962-12-04        tues   0.007813    0.346202      -11.749305   True\n",
       "1962-12-05         wed   0.003845    0.525306      -11.665609   True\n",
       "1962-12-06        thur  -0.003462    0.210182      -11.626772   True\n",
       "1962-12-07         fri   0.000568    0.044187      -11.728130   True\n",
       "...                ...        ...         ...             ...    ...\n",
       "1986-12-24         wed   0.006514   -0.236104       -9.807366  False\n",
       "1986-12-26         fri   0.001825   -1.322425       -9.906025  False\n",
       "1986-12-29         mon  -0.009515   -0.371237       -9.827660  False\n",
       "1986-12-30        tues  -0.001837   -0.385638       -9.926091  False\n",
       "1986-12-31         wed  -0.006655   -0.264986       -9.935527  False\n",
       "\n",
       "[6051 rows x 5 columns]"
      ]
     },
     "execution_count": 5,
     "metadata": {},
     "output_type": "execute_result"
    }
   ],
   "source": [
    "NYSE"
   ]
  },
  {
   "cell_type": "code",
   "execution_count": 6,
   "id": "0ebb84d2",
   "metadata": {},
   "outputs": [],
   "source": [
    "cols = ['DJ_return', 'log_volume', 'log_volatility']\n",
    "X = pd.DataFrame(\n",
    "    StandardScaler(\n",
    "        with_mean=True,\n",
    "        with_std=True\n",
    "    ).fit_transform(NYSE[cols]), \n",
    "    columns=NYSE[cols].columns,\n",
    "    index=NYSE.index\n",
    ")"
   ]
  },
  {
   "cell_type": "code",
   "execution_count": 7,
   "id": "f4019d14",
   "metadata": {},
   "outputs": [
    {
     "data": {
      "text/html": [
       "<div>\n",
       "<style scoped>\n",
       "    .dataframe tbody tr th:only-of-type {\n",
       "        vertical-align: middle;\n",
       "    }\n",
       "\n",
       "    .dataframe tbody tr th {\n",
       "        vertical-align: top;\n",
       "    }\n",
       "\n",
       "    .dataframe thead th {\n",
       "        text-align: right;\n",
       "    }\n",
       "</style>\n",
       "<table border=\"1\" class=\"dataframe\">\n",
       "  <thead>\n",
       "    <tr style=\"text-align: right;\">\n",
       "      <th></th>\n",
       "      <th>DJ_return</th>\n",
       "      <th>log_volume</th>\n",
       "      <th>log_volatility</th>\n",
       "    </tr>\n",
       "    <tr>\n",
       "      <th>date</th>\n",
       "      <th></th>\n",
       "      <th></th>\n",
       "      <th></th>\n",
       "    </tr>\n",
       "  </thead>\n",
       "  <tbody>\n",
       "    <tr>\n",
       "      <th>1962-12-03</th>\n",
       "      <td>-0.549823</td>\n",
       "      <td>0.175075</td>\n",
       "      <td>-4.357078</td>\n",
       "    </tr>\n",
       "    <tr>\n",
       "      <th>1962-12-04</th>\n",
       "      <td>0.905200</td>\n",
       "      <td>1.517291</td>\n",
       "      <td>-2.529058</td>\n",
       "    </tr>\n",
       "    <tr>\n",
       "      <th>1962-12-05</th>\n",
       "      <td>0.434813</td>\n",
       "      <td>2.283789</td>\n",
       "      <td>-2.418037</td>\n",
       "    </tr>\n",
       "    <tr>\n",
       "      <th>1962-12-06</th>\n",
       "      <td>-0.431397</td>\n",
       "      <td>0.935176</td>\n",
       "      <td>-2.366521</td>\n",
       "    </tr>\n",
       "    <tr>\n",
       "      <th>1962-12-07</th>\n",
       "      <td>0.046340</td>\n",
       "      <td>0.224779</td>\n",
       "      <td>-2.500970</td>\n",
       "    </tr>\n",
       "  </tbody>\n",
       "</table>\n",
       "</div>"
      ],
      "text/plain": [
       "            DJ_return  log_volume  log_volatility\n",
       "date                                             \n",
       "1962-12-03  -0.549823    0.175075       -4.357078\n",
       "1962-12-04   0.905200    1.517291       -2.529058\n",
       "1962-12-05   0.434813    2.283789       -2.418037\n",
       "1962-12-06  -0.431397    0.935176       -2.366521\n",
       "1962-12-07   0.046340    0.224779       -2.500970"
      ]
     },
     "execution_count": 7,
     "metadata": {},
     "output_type": "execute_result"
    }
   ],
   "source": [
    "X.head()"
   ]
  },
  {
   "cell_type": "code",
   "execution_count": 8,
   "id": "d728f7d9",
   "metadata": {},
   "outputs": [],
   "source": [
    "for lag in range(1, 6):\n",
    "    for col in cols: \n",
    "        newcol = np.zeros(X.shape[0]) * np.nan\n",
    "        newcol[lag:] = X[col].values[:-lag]\n",
    "        X.insert(len(X.columns), \"{field}_{lag}\".format(field=col, lag=lag),newcol)\n",
    "X[\"train\"] = NYSE['train']\n",
    "X = X.dropna()"
   ]
  },
  {
   "cell_type": "code",
   "execution_count": 9,
   "id": "d4f12378",
   "metadata": {},
   "outputs": [],
   "source": [
    "y, train_idx = X.log_volume, X.train\n",
    "X = X.drop(columns=[\"train\"] + cols)"
   ]
  },
  {
   "cell_type": "code",
   "execution_count": 10,
   "id": "37b6ce36",
   "metadata": {},
   "outputs": [
    {
     "data": {
      "text/plain": [
       "0.4128912938562521"
      ]
     },
     "execution_count": 10,
     "metadata": {},
     "output_type": "execute_result"
    }
   ],
   "source": [
    "linear_model = LinearRegression()\n",
    "linear_model.fit(X[train_idx], y[train_idx])\n",
    "linear_model.score(X[~train_idx], y[~train_idx])"
   ]
  },
  {
   "cell_type": "code",
   "execution_count": 11,
   "id": "3315a74b",
   "metadata": {},
   "outputs": [
    {
     "data": {
      "text/plain": [
       "array(['DJ_return_1', 'log_volume_1', 'log_volatility_1', 'DJ_return_2',\n",
       "       'log_volume_2', 'log_volatility_2', 'DJ_return_3', 'log_volume_3',\n",
       "       'log_volatility_3', 'DJ_return_4', 'log_volume_4',\n",
       "       'log_volatility_4', 'DJ_return_5', 'log_volume_5',\n",
       "       'log_volatility_5'], dtype=object)"
      ]
     },
     "execution_count": 11,
     "metadata": {},
     "output_type": "execute_result"
    }
   ],
   "source": [
    "linear_model.feature_names_in_"
   ]
  },
  {
   "cell_type": "code",
   "execution_count": 12,
   "id": "ecf2a4c4",
   "metadata": {},
   "outputs": [],
   "source": [
    "X_day = X.copy()"
   ]
  },
  {
   "cell_type": "code",
   "execution_count": 13,
   "id": "edb4a1ea",
   "metadata": {},
   "outputs": [],
   "source": [
    "transformer = OneHotEncoder(sparse_output=False, drop=\"first\")\n",
    "dummy_vars = transformer.fit_transform(NYSE[[\"day_of_week\"]])"
   ]
  },
  {
   "cell_type": "code",
   "execution_count": 14,
   "id": "0f1a113b",
   "metadata": {},
   "outputs": [
    {
     "data": {
      "text/plain": [
       "array([[1., 0., 0., 0.],\n",
       "       [0., 0., 1., 0.],\n",
       "       [0., 0., 0., 1.],\n",
       "       ...,\n",
       "       [1., 0., 0., 0.],\n",
       "       [0., 0., 1., 0.],\n",
       "       [0., 0., 0., 1.]])"
      ]
     },
     "execution_count": 14,
     "metadata": {},
     "output_type": "execute_result"
    }
   ],
   "source": [
    "dummy_vars"
   ]
  },
  {
   "cell_type": "code",
   "execution_count": 15,
   "id": "a1daaa85",
   "metadata": {},
   "outputs": [],
   "source": [
    "categorical_names = transformer.categories_[0][1:]\n",
    "cat_df = pd.DataFrame(dummy_vars, columns=categorical_names)\n",
    "cat_df.index = NYSE.index\n"
   ]
  },
  {
   "cell_type": "code",
   "execution_count": 17,
   "id": "2dab0594",
   "metadata": {},
   "outputs": [],
   "source": [
    "full_df = pd.merge(X, cat_df, left_index=True, right_index=True)"
   ]
  },
  {
   "cell_type": "code",
   "execution_count": 18,
   "id": "254e7ade",
   "metadata": {},
   "outputs": [
    {
     "data": {
      "text/plain": [
       "(6046, 19)"
      ]
     },
     "execution_count": 18,
     "metadata": {},
     "output_type": "execute_result"
    }
   ],
   "source": [
    "full_df.shape"
   ]
  },
  {
   "cell_type": "code",
   "execution_count": 19,
   "id": "e0fac6be",
   "metadata": {},
   "outputs": [
    {
     "data": {
      "text/html": [
       "<style>#sk-container-id-1 {color: black;background-color: white;}#sk-container-id-1 pre{padding: 0;}#sk-container-id-1 div.sk-toggleable {background-color: white;}#sk-container-id-1 label.sk-toggleable__label {cursor: pointer;display: block;width: 100%;margin-bottom: 0;padding: 0.3em;box-sizing: border-box;text-align: center;}#sk-container-id-1 label.sk-toggleable__label-arrow:before {content: \"▸\";float: left;margin-right: 0.25em;color: #696969;}#sk-container-id-1 label.sk-toggleable__label-arrow:hover:before {color: black;}#sk-container-id-1 div.sk-estimator:hover label.sk-toggleable__label-arrow:before {color: black;}#sk-container-id-1 div.sk-toggleable__content {max-height: 0;max-width: 0;overflow: hidden;text-align: left;background-color: #f0f8ff;}#sk-container-id-1 div.sk-toggleable__content pre {margin: 0.2em;color: black;border-radius: 0.25em;background-color: #f0f8ff;}#sk-container-id-1 input.sk-toggleable__control:checked~div.sk-toggleable__content {max-height: 200px;max-width: 100%;overflow: auto;}#sk-container-id-1 input.sk-toggleable__control:checked~label.sk-toggleable__label-arrow:before {content: \"▾\";}#sk-container-id-1 div.sk-estimator input.sk-toggleable__control:checked~label.sk-toggleable__label {background-color: #d4ebff;}#sk-container-id-1 div.sk-label input.sk-toggleable__control:checked~label.sk-toggleable__label {background-color: #d4ebff;}#sk-container-id-1 input.sk-hidden--visually {border: 0;clip: rect(1px 1px 1px 1px);clip: rect(1px, 1px, 1px, 1px);height: 1px;margin: -1px;overflow: hidden;padding: 0;position: absolute;width: 1px;}#sk-container-id-1 div.sk-estimator {font-family: monospace;background-color: #f0f8ff;border: 1px dotted black;border-radius: 0.25em;box-sizing: border-box;margin-bottom: 0.5em;}#sk-container-id-1 div.sk-estimator:hover {background-color: #d4ebff;}#sk-container-id-1 div.sk-parallel-item::after {content: \"\";width: 100%;border-bottom: 1px solid gray;flex-grow: 1;}#sk-container-id-1 div.sk-label:hover label.sk-toggleable__label {background-color: #d4ebff;}#sk-container-id-1 div.sk-serial::before {content: \"\";position: absolute;border-left: 1px solid gray;box-sizing: border-box;top: 0;bottom: 0;left: 50%;z-index: 0;}#sk-container-id-1 div.sk-serial {display: flex;flex-direction: column;align-items: center;background-color: white;padding-right: 0.2em;padding-left: 0.2em;position: relative;}#sk-container-id-1 div.sk-item {position: relative;z-index: 1;}#sk-container-id-1 div.sk-parallel {display: flex;align-items: stretch;justify-content: center;background-color: white;position: relative;}#sk-container-id-1 div.sk-item::before, #sk-container-id-1 div.sk-parallel-item::before {content: \"\";position: absolute;border-left: 1px solid gray;box-sizing: border-box;top: 0;bottom: 0;left: 50%;z-index: -1;}#sk-container-id-1 div.sk-parallel-item {display: flex;flex-direction: column;z-index: 1;position: relative;background-color: white;}#sk-container-id-1 div.sk-parallel-item:first-child::after {align-self: flex-end;width: 50%;}#sk-container-id-1 div.sk-parallel-item:last-child::after {align-self: flex-start;width: 50%;}#sk-container-id-1 div.sk-parallel-item:only-child::after {width: 0;}#sk-container-id-1 div.sk-dashed-wrapped {border: 1px dashed gray;margin: 0 0.4em 0.5em 0.4em;box-sizing: border-box;padding-bottom: 0.4em;background-color: white;}#sk-container-id-1 div.sk-label label {font-family: monospace;font-weight: bold;display: inline-block;line-height: 1.2em;}#sk-container-id-1 div.sk-label-container {text-align: center;}#sk-container-id-1 div.sk-container {/* jupyter's `normalize.less` sets `[hidden] { display: none; }` but bootstrap.min.css set `[hidden] { display: none !important; }` so we also need the `!important` here to be able to override the default hidden behavior on the sphinx rendered scikit-learn.org. See: https://github.com/scikit-learn/scikit-learn/issues/21755 */display: inline-block !important;position: relative;}#sk-container-id-1 div.sk-text-repr-fallback {display: none;}</style><div id=\"sk-container-id-1\" class=\"sk-top-container\"><div class=\"sk-text-repr-fallback\"><pre>LinearRegression()</pre><b>In a Jupyter environment, please rerun this cell to show the HTML representation or trust the notebook. <br />On GitHub, the HTML representation is unable to render, please try loading this page with nbviewer.org.</b></div><div class=\"sk-container\" hidden><div class=\"sk-item\"><div class=\"sk-estimator sk-toggleable\"><input class=\"sk-toggleable__control sk-hidden--visually\" id=\"sk-estimator-id-1\" type=\"checkbox\" checked><label for=\"sk-estimator-id-1\" class=\"sk-toggleable__label sk-toggleable__label-arrow\">LinearRegression</label><div class=\"sk-toggleable__content\"><pre>LinearRegression()</pre></div></div></div></div></div>"
      ],
      "text/plain": [
       "LinearRegression()"
      ]
     },
     "execution_count": 19,
     "metadata": {},
     "output_type": "execute_result"
    }
   ],
   "source": [
    "day_model = LinearRegression()\n",
    "day_model.fit(full_df[train_idx], y[train_idx])"
   ]
  },
  {
   "cell_type": "code",
   "execution_count": 20,
   "id": "5f17c6d8",
   "metadata": {},
   "outputs": [
    {
     "data": {
      "text/plain": [
       "0.4595563133053274"
      ]
     },
     "execution_count": 20,
     "metadata": {},
     "output_type": "execute_result"
    }
   ],
   "source": [
    "day_model.score(full_df[~train_idx], y[~train_idx])"
   ]
  },
  {
   "cell_type": "code",
   "execution_count": 176,
   "id": "ed6ec44b",
   "metadata": {},
   "outputs": [
    {
     "data": {
      "text/html": [
       "<div>\n",
       "<style scoped>\n",
       "    .dataframe tbody tr th:only-of-type {\n",
       "        vertical-align: middle;\n",
       "    }\n",
       "\n",
       "    .dataframe tbody tr th {\n",
       "        vertical-align: top;\n",
       "    }\n",
       "\n",
       "    .dataframe thead th {\n",
       "        text-align: right;\n",
       "    }\n",
       "</style>\n",
       "<table border=\"1\" class=\"dataframe\">\n",
       "  <thead>\n",
       "    <tr style=\"text-align: right;\">\n",
       "      <th></th>\n",
       "      <th>DJ_return_5</th>\n",
       "      <th>log_volume_5</th>\n",
       "      <th>log_volatility_5</th>\n",
       "      <th>DJ_return_4</th>\n",
       "      <th>log_volume_4</th>\n",
       "      <th>log_volatility_4</th>\n",
       "      <th>DJ_return_3</th>\n",
       "      <th>log_volume_3</th>\n",
       "      <th>log_volatility_3</th>\n",
       "      <th>DJ_return_2</th>\n",
       "      <th>log_volume_2</th>\n",
       "      <th>log_volatility_2</th>\n",
       "      <th>DJ_return_1</th>\n",
       "      <th>log_volume_1</th>\n",
       "      <th>log_volatility_1</th>\n",
       "    </tr>\n",
       "    <tr>\n",
       "      <th>date</th>\n",
       "      <th></th>\n",
       "      <th></th>\n",
       "      <th></th>\n",
       "      <th></th>\n",
       "      <th></th>\n",
       "      <th></th>\n",
       "      <th></th>\n",
       "      <th></th>\n",
       "      <th></th>\n",
       "      <th></th>\n",
       "      <th></th>\n",
       "      <th></th>\n",
       "      <th></th>\n",
       "      <th></th>\n",
       "      <th></th>\n",
       "    </tr>\n",
       "  </thead>\n",
       "  <tbody>\n",
       "    <tr>\n",
       "      <th>1962-12-10</th>\n",
       "      <td>-0.549823</td>\n",
       "      <td>0.175075</td>\n",
       "      <td>-4.357078</td>\n",
       "      <td>0.905200</td>\n",
       "      <td>1.517291</td>\n",
       "      <td>-2.529058</td>\n",
       "      <td>0.434813</td>\n",
       "      <td>2.283789</td>\n",
       "      <td>-2.418037</td>\n",
       "      <td>-0.431397</td>\n",
       "      <td>0.935176</td>\n",
       "      <td>-2.366521</td>\n",
       "      <td>0.046340</td>\n",
       "      <td>0.224779</td>\n",
       "      <td>-2.500970</td>\n",
       "    </tr>\n",
       "    <tr>\n",
       "      <th>1962-12-11</th>\n",
       "      <td>0.905200</td>\n",
       "      <td>1.517291</td>\n",
       "      <td>-2.529058</td>\n",
       "      <td>0.434813</td>\n",
       "      <td>2.283789</td>\n",
       "      <td>-2.418037</td>\n",
       "      <td>-0.431397</td>\n",
       "      <td>0.935176</td>\n",
       "      <td>-2.366521</td>\n",
       "      <td>0.046340</td>\n",
       "      <td>0.224779</td>\n",
       "      <td>-2.500970</td>\n",
       "      <td>-1.304126</td>\n",
       "      <td>0.605918</td>\n",
       "      <td>-1.366028</td>\n",
       "    </tr>\n",
       "    <tr>\n",
       "      <th>1962-12-12</th>\n",
       "      <td>0.434813</td>\n",
       "      <td>2.283789</td>\n",
       "      <td>-2.418037</td>\n",
       "      <td>-0.431397</td>\n",
       "      <td>0.935176</td>\n",
       "      <td>-2.366521</td>\n",
       "      <td>0.046340</td>\n",
       "      <td>0.224779</td>\n",
       "      <td>-2.500970</td>\n",
       "      <td>-1.304126</td>\n",
       "      <td>0.605918</td>\n",
       "      <td>-1.366028</td>\n",
       "      <td>-0.006294</td>\n",
       "      <td>-0.013661</td>\n",
       "      <td>-1.505667</td>\n",
       "    </tr>\n",
       "    <tr>\n",
       "      <th>1962-12-13</th>\n",
       "      <td>-0.431397</td>\n",
       "      <td>0.935176</td>\n",
       "      <td>-2.366521</td>\n",
       "      <td>0.046340</td>\n",
       "      <td>0.224779</td>\n",
       "      <td>-2.500970</td>\n",
       "      <td>-1.304126</td>\n",
       "      <td>0.605918</td>\n",
       "      <td>-1.366028</td>\n",
       "      <td>-0.006294</td>\n",
       "      <td>-0.013661</td>\n",
       "      <td>-1.505667</td>\n",
       "      <td>0.377081</td>\n",
       "      <td>0.042552</td>\n",
       "      <td>-1.551515</td>\n",
       "    </tr>\n",
       "    <tr>\n",
       "      <th>1962-12-14</th>\n",
       "      <td>0.046340</td>\n",
       "      <td>0.224779</td>\n",
       "      <td>-2.500970</td>\n",
       "      <td>-1.304126</td>\n",
       "      <td>0.605918</td>\n",
       "      <td>-1.366028</td>\n",
       "      <td>-0.006294</td>\n",
       "      <td>-0.013661</td>\n",
       "      <td>-1.505667</td>\n",
       "      <td>0.377081</td>\n",
       "      <td>0.042552</td>\n",
       "      <td>-1.551515</td>\n",
       "      <td>-0.411718</td>\n",
       "      <td>-0.419836</td>\n",
       "      <td>-1.597607</td>\n",
       "    </tr>\n",
       "    <tr>\n",
       "      <th>...</th>\n",
       "      <td>...</td>\n",
       "      <td>...</td>\n",
       "      <td>...</td>\n",
       "      <td>...</td>\n",
       "      <td>...</td>\n",
       "      <td>...</td>\n",
       "      <td>...</td>\n",
       "      <td>...</td>\n",
       "      <td>...</td>\n",
       "      <td>...</td>\n",
       "      <td>...</td>\n",
       "      <td>...</td>\n",
       "      <td>...</td>\n",
       "      <td>...</td>\n",
       "      <td>...</td>\n",
       "    </tr>\n",
       "    <tr>\n",
       "      <th>1986-12-24</th>\n",
       "      <td>-1.118959</td>\n",
       "      <td>-0.149916</td>\n",
       "      <td>0.375045</td>\n",
       "      <td>-0.360744</td>\n",
       "      <td>0.143003</td>\n",
       "      <td>0.252350</td>\n",
       "      <td>0.968266</td>\n",
       "      <td>4.258402</td>\n",
       "      <td>0.263406</td>\n",
       "      <td>-0.185178</td>\n",
       "      <td>1.602669</td>\n",
       "      <td>0.128004</td>\n",
       "      <td>-0.750046</td>\n",
       "      <td>1.964846</td>\n",
       "      <td>0.080250</td>\n",
       "    </tr>\n",
       "    <tr>\n",
       "      <th>1986-12-26</th>\n",
       "      <td>-0.360744</td>\n",
       "      <td>0.143003</td>\n",
       "      <td>0.252350</td>\n",
       "      <td>0.968266</td>\n",
       "      <td>4.258402</td>\n",
       "      <td>0.263406</td>\n",
       "      <td>-0.185178</td>\n",
       "      <td>1.602669</td>\n",
       "      <td>0.128004</td>\n",
       "      <td>-0.750046</td>\n",
       "      <td>1.964846</td>\n",
       "      <td>0.080250</td>\n",
       "      <td>0.751210</td>\n",
       "      <td>-0.974763</td>\n",
       "      <td>0.046886</td>\n",
       "    </tr>\n",
       "    <tr>\n",
       "      <th>1986-12-29</th>\n",
       "      <td>0.968266</td>\n",
       "      <td>4.258402</td>\n",
       "      <td>0.263406</td>\n",
       "      <td>-0.185178</td>\n",
       "      <td>1.602669</td>\n",
       "      <td>0.128004</td>\n",
       "      <td>-0.750046</td>\n",
       "      <td>1.964846</td>\n",
       "      <td>0.080250</td>\n",
       "      <td>0.751210</td>\n",
       "      <td>-0.974763</td>\n",
       "      <td>0.046886</td>\n",
       "      <td>0.195352</td>\n",
       "      <td>-5.623814</td>\n",
       "      <td>-0.083983</td>\n",
       "    </tr>\n",
       "    <tr>\n",
       "      <th>1986-12-30</th>\n",
       "      <td>-0.185178</td>\n",
       "      <td>1.602669</td>\n",
       "      <td>0.128004</td>\n",
       "      <td>-0.750046</td>\n",
       "      <td>1.964846</td>\n",
       "      <td>0.080250</td>\n",
       "      <td>0.751210</td>\n",
       "      <td>-0.974763</td>\n",
       "      <td>0.046886</td>\n",
       "      <td>0.195352</td>\n",
       "      <td>-5.623814</td>\n",
       "      <td>-0.083983</td>\n",
       "      <td>-1.148951</td>\n",
       "      <td>-1.553082</td>\n",
       "      <td>0.019967</td>\n",
       "    </tr>\n",
       "    <tr>\n",
       "      <th>1986-12-31</th>\n",
       "      <td>-0.750046</td>\n",
       "      <td>1.964846</td>\n",
       "      <td>0.080250</td>\n",
       "      <td>0.751210</td>\n",
       "      <td>-0.974763</td>\n",
       "      <td>0.046886</td>\n",
       "      <td>0.195352</td>\n",
       "      <td>-5.623814</td>\n",
       "      <td>-0.083983</td>\n",
       "      <td>-1.148951</td>\n",
       "      <td>-1.553082</td>\n",
       "      <td>0.019967</td>\n",
       "      <td>-0.238761</td>\n",
       "      <td>-1.614713</td>\n",
       "      <td>-0.110599</td>\n",
       "    </tr>\n",
       "  </tbody>\n",
       "</table>\n",
       "<p>6046 rows × 15 columns</p>\n",
       "</div>"
      ],
      "text/plain": [
       "            DJ_return_5  log_volume_5  log_volatility_5  DJ_return_4   \n",
       "date                                                                   \n",
       "1962-12-10    -0.549823      0.175075         -4.357078     0.905200  \\\n",
       "1962-12-11     0.905200      1.517291         -2.529058     0.434813   \n",
       "1962-12-12     0.434813      2.283789         -2.418037    -0.431397   \n",
       "1962-12-13    -0.431397      0.935176         -2.366521     0.046340   \n",
       "1962-12-14     0.046340      0.224779         -2.500970    -1.304126   \n",
       "...                 ...           ...               ...          ...   \n",
       "1986-12-24    -1.118959     -0.149916          0.375045    -0.360744   \n",
       "1986-12-26    -0.360744      0.143003          0.252350     0.968266   \n",
       "1986-12-29     0.968266      4.258402          0.263406    -0.185178   \n",
       "1986-12-30    -0.185178      1.602669          0.128004    -0.750046   \n",
       "1986-12-31    -0.750046      1.964846          0.080250     0.751210   \n",
       "\n",
       "            log_volume_4  log_volatility_4  DJ_return_3  log_volume_3   \n",
       "date                                                                    \n",
       "1962-12-10      1.517291         -2.529058     0.434813      2.283789  \\\n",
       "1962-12-11      2.283789         -2.418037    -0.431397      0.935176   \n",
       "1962-12-12      0.935176         -2.366521     0.046340      0.224779   \n",
       "1962-12-13      0.224779         -2.500970    -1.304126      0.605918   \n",
       "1962-12-14      0.605918         -1.366028    -0.006294     -0.013661   \n",
       "...                  ...               ...          ...           ...   \n",
       "1986-12-24      0.143003          0.252350     0.968266      4.258402   \n",
       "1986-12-26      4.258402          0.263406    -0.185178      1.602669   \n",
       "1986-12-29      1.602669          0.128004    -0.750046      1.964846   \n",
       "1986-12-30      1.964846          0.080250     0.751210     -0.974763   \n",
       "1986-12-31     -0.974763          0.046886     0.195352     -5.623814   \n",
       "\n",
       "            log_volatility_3  DJ_return_2  log_volume_2  log_volatility_2   \n",
       "date                                                                        \n",
       "1962-12-10         -2.418037    -0.431397      0.935176         -2.366521  \\\n",
       "1962-12-11         -2.366521     0.046340      0.224779         -2.500970   \n",
       "1962-12-12         -2.500970    -1.304126      0.605918         -1.366028   \n",
       "1962-12-13         -1.366028    -0.006294     -0.013661         -1.505667   \n",
       "1962-12-14         -1.505667     0.377081      0.042552         -1.551515   \n",
       "...                      ...          ...           ...               ...   \n",
       "1986-12-24          0.263406    -0.185178      1.602669          0.128004   \n",
       "1986-12-26          0.128004    -0.750046      1.964846          0.080250   \n",
       "1986-12-29          0.080250     0.751210     -0.974763          0.046886   \n",
       "1986-12-30          0.046886     0.195352     -5.623814         -0.083983   \n",
       "1986-12-31         -0.083983    -1.148951     -1.553082          0.019967   \n",
       "\n",
       "            DJ_return_1  log_volume_1  log_volatility_1  \n",
       "date                                                     \n",
       "1962-12-10     0.046340      0.224779         -2.500970  \n",
       "1962-12-11    -1.304126      0.605918         -1.366028  \n",
       "1962-12-12    -0.006294     -0.013661         -1.505667  \n",
       "1962-12-13     0.377081      0.042552         -1.551515  \n",
       "1962-12-14    -0.411718     -0.419836         -1.597607  \n",
       "...                 ...           ...               ...  \n",
       "1986-12-24    -0.750046      1.964846          0.080250  \n",
       "1986-12-26     0.751210     -0.974763          0.046886  \n",
       "1986-12-29     0.195352     -5.623814         -0.083983  \n",
       "1986-12-30    -1.148951     -1.553082          0.019967  \n",
       "1986-12-31    -0.238761     -1.614713         -0.110599  \n",
       "\n",
       "[6046 rows x 15 columns]"
      ]
     },
     "execution_count": 176,
     "metadata": {},
     "output_type": "execute_result"
    }
   ],
   "source": [
    "ordered_cols = []\n",
    "for lag in range(5, 0, -1):\n",
    "    for col in cols: \n",
    "        ordered_cols.append(\"{field}_{lag}\".format(field=col, lag=lag))\n",
    "X.reindex(columns=ordered_cols)"
   ]
  },
  {
   "cell_type": "code",
   "execution_count": 21,
   "id": "05557064",
   "metadata": {},
   "outputs": [],
   "source": [
    "X_rnn = X.to_numpy().reshape((-1, 5, 3))"
   ]
  },
  {
   "cell_type": "code",
   "execution_count": 22,
   "id": "3db10a61",
   "metadata": {},
   "outputs": [
    {
     "data": {
      "text/plain": [
       "(6046, 5, 3)"
      ]
     },
     "execution_count": 22,
     "metadata": {},
     "output_type": "execute_result"
    }
   ],
   "source": [
    "X_rnn.shape"
   ]
  },
  {
   "cell_type": "code",
   "execution_count": 23,
   "id": "5776d87e",
   "metadata": {},
   "outputs": [],
   "source": [
    "class NYSEModel(nn.Module):\n",
    "    def __init__(self):\n",
    "        super(NYSEModel, self).__init__()\n",
    "        self.rnn = nn.RNN(3, 12, batch_first=True)\n",
    "        self.dense = nn.Linear(12, 1)\n",
    "        self.dropout = nn.Dropout(0.1)\n",
    "    def forward(self, x):\n",
    "        val, h_n = self.rnn(x)\n",
    "        val = self.dense(self.dropout(val[:, -1]))\n",
    "        return torch.flatten(val)\n",
    "nyse_model = NYSEModel()"
   ]
  },
  {
   "cell_type": "code",
   "execution_count": 24,
   "id": "bec32561",
   "metadata": {},
   "outputs": [],
   "source": [
    "datasets = []\n",
    "for mask in [train_idx, ~train_idx]:\n",
    "    X_rnn_t = torch.tensor(X_rnn[mask].astype(np.float32))\n",
    "    y_t = torch.tensor(y[mask].astype(np.float32))\n",
    "    datasets.append(TensorDataset(X_rnn_t, y_t))\n",
    "nyse_train, nyse_test = datasets"
   ]
  },
  {
   "cell_type": "code",
   "execution_count": 25,
   "id": "135669cd",
   "metadata": {},
   "outputs": [
    {
     "data": {
      "text/plain": [
       "===================================================================================================================\n",
       "Layer (type:depth-idx)                   Input Shape               Output Shape              Param #\n",
       "===================================================================================================================\n",
       "NYSEModel                                [1770, 5, 3]              [1770]                    --\n",
       "├─RNN: 1-1                               [1770, 5, 3]              [1770, 5, 12]             204\n",
       "├─Dropout: 1-2                           [1770, 12]                [1770, 12]                --\n",
       "├─Linear: 1-3                            [1770, 12]                [1770, 1]                 13\n",
       "===================================================================================================================\n",
       "Total params: 217\n",
       "Trainable params: 217\n",
       "Non-trainable params: 0\n",
       "Total mult-adds (Units.MEGABYTES): 1.83\n",
       "===================================================================================================================\n",
       "Input size (MB): 0.11\n",
       "Forward/backward pass size (MB): 0.86\n",
       "Params size (MB): 0.00\n",
       "Estimated Total Size (MB): 0.97\n",
       "==================================================================================================================="
      ]
     },
     "execution_count": 25,
     "metadata": {},
     "output_type": "execute_result"
    }
   ],
   "source": [
    "summary(\n",
    "    nyse_model, input_data=X_rnn_t,\n",
    "    col_names=['input_size', 'output_size', 'num_params']\n",
    ")"
   ]
  },
  {
   "cell_type": "code",
   "execution_count": 26,
   "id": "aaaf7057",
   "metadata": {},
   "outputs": [],
   "source": [
    "nyse_dm = SimpleDataModule(nyse_train, nyse_test, num_workers=4, validation=nyse_test, batch_size=64)"
   ]
  },
  {
   "cell_type": "code",
   "execution_count": 27,
   "id": "96a1317f",
   "metadata": {},
   "outputs": [],
   "source": [
    "nyse_optimizer = RMSprop(nyse_model.parameters(), lr=0.001)\n",
    "nyse_module = SimpleModule.regression(nyse_model, optimizer=nyse_optimizer ,\n",
    "metrics={'r2':R2Score()})"
   ]
  },
  {
   "cell_type": "code",
   "execution_count": 28,
   "id": "f1edda04",
   "metadata": {},
   "outputs": [
    {
     "name": "stderr",
     "output_type": "stream",
     "text": [
      "GPU available: False, used: False\n",
      "TPU available: False, using: 0 TPU cores\n",
      "IPU available: False, using: 0 IPUs\n",
      "HPU available: False, using: 0 HPUs\n"
     ]
    }
   ],
   "source": [
    "nyse_trainer = Trainer(deterministic=True, max_epochs=15,\n",
    "callbacks=[ErrorTracker()])"
   ]
  },
  {
   "cell_type": "code",
   "execution_count": 29,
   "id": "d2397af0",
   "metadata": {},
   "outputs": [
    {
     "name": "stderr",
     "output_type": "stream",
     "text": [
      "\n",
      "  | Name  | Type      | Params\n",
      "------------------------------------\n",
      "0 | model | NYSEModel | 217   \n",
      "1 | loss  | MSELoss   | 0     \n",
      "------------------------------------\n",
      "217       Trainable params\n",
      "0         Non-trainable params\n",
      "217       Total params\n",
      "0.001     Total estimated model params size (MB)\n"
     ]
    },
    {
     "data": {
      "application/vnd.jupyter.widget-view+json": {
       "model_id": "",
       "version_major": 2,
       "version_minor": 0
      },
      "text/plain": [
       "Sanity Checking: 0it [00:00, ?it/s]"
      ]
     },
     "metadata": {},
     "output_type": "display_data"
    },
    {
     "data": {
      "application/vnd.jupyter.widget-view+json": {
       "model_id": "44f82352e13b47b892bcd2c1e16c5ae4",
       "version_major": 2,
       "version_minor": 0
      },
      "text/plain": [
       "Training: 0it [00:00, ?it/s]"
      ]
     },
     "metadata": {},
     "output_type": "display_data"
    },
    {
     "data": {
      "application/vnd.jupyter.widget-view+json": {
       "model_id": "",
       "version_major": 2,
       "version_minor": 0
      },
      "text/plain": [
       "Validation: 0it [00:00, ?it/s]"
      ]
     },
     "metadata": {},
     "output_type": "display_data"
    },
    {
     "data": {
      "application/vnd.jupyter.widget-view+json": {
       "model_id": "",
       "version_major": 2,
       "version_minor": 0
      },
      "text/plain": [
       "Validation: 0it [00:00, ?it/s]"
      ]
     },
     "metadata": {},
     "output_type": "display_data"
    },
    {
     "data": {
      "application/vnd.jupyter.widget-view+json": {
       "model_id": "",
       "version_major": 2,
       "version_minor": 0
      },
      "text/plain": [
       "Validation: 0it [00:00, ?it/s]"
      ]
     },
     "metadata": {},
     "output_type": "display_data"
    },
    {
     "data": {
      "application/vnd.jupyter.widget-view+json": {
       "model_id": "",
       "version_major": 2,
       "version_minor": 0
      },
      "text/plain": [
       "Validation: 0it [00:00, ?it/s]"
      ]
     },
     "metadata": {},
     "output_type": "display_data"
    },
    {
     "data": {
      "application/vnd.jupyter.widget-view+json": {
       "model_id": "",
       "version_major": 2,
       "version_minor": 0
      },
      "text/plain": [
       "Validation: 0it [00:00, ?it/s]"
      ]
     },
     "metadata": {},
     "output_type": "display_data"
    },
    {
     "data": {
      "application/vnd.jupyter.widget-view+json": {
       "model_id": "",
       "version_major": 2,
       "version_minor": 0
      },
      "text/plain": [
       "Validation: 0it [00:00, ?it/s]"
      ]
     },
     "metadata": {},
     "output_type": "display_data"
    },
    {
     "data": {
      "application/vnd.jupyter.widget-view+json": {
       "model_id": "",
       "version_major": 2,
       "version_minor": 0
      },
      "text/plain": [
       "Validation: 0it [00:00, ?it/s]"
      ]
     },
     "metadata": {},
     "output_type": "display_data"
    },
    {
     "data": {
      "application/vnd.jupyter.widget-view+json": {
       "model_id": "",
       "version_major": 2,
       "version_minor": 0
      },
      "text/plain": [
       "Validation: 0it [00:00, ?it/s]"
      ]
     },
     "metadata": {},
     "output_type": "display_data"
    },
    {
     "data": {
      "application/vnd.jupyter.widget-view+json": {
       "model_id": "",
       "version_major": 2,
       "version_minor": 0
      },
      "text/plain": [
       "Validation: 0it [00:00, ?it/s]"
      ]
     },
     "metadata": {},
     "output_type": "display_data"
    },
    {
     "data": {
      "application/vnd.jupyter.widget-view+json": {
       "model_id": "",
       "version_major": 2,
       "version_minor": 0
      },
      "text/plain": [
       "Validation: 0it [00:00, ?it/s]"
      ]
     },
     "metadata": {},
     "output_type": "display_data"
    },
    {
     "data": {
      "application/vnd.jupyter.widget-view+json": {
       "model_id": "",
       "version_major": 2,
       "version_minor": 0
      },
      "text/plain": [
       "Validation: 0it [00:00, ?it/s]"
      ]
     },
     "metadata": {},
     "output_type": "display_data"
    },
    {
     "data": {
      "application/vnd.jupyter.widget-view+json": {
       "model_id": "",
       "version_major": 2,
       "version_minor": 0
      },
      "text/plain": [
       "Validation: 0it [00:00, ?it/s]"
      ]
     },
     "metadata": {},
     "output_type": "display_data"
    },
    {
     "data": {
      "application/vnd.jupyter.widget-view+json": {
       "model_id": "",
       "version_major": 2,
       "version_minor": 0
      },
      "text/plain": [
       "Validation: 0it [00:00, ?it/s]"
      ]
     },
     "metadata": {},
     "output_type": "display_data"
    },
    {
     "data": {
      "application/vnd.jupyter.widget-view+json": {
       "model_id": "",
       "version_major": 2,
       "version_minor": 0
      },
      "text/plain": [
       "Validation: 0it [00:00, ?it/s]"
      ]
     },
     "metadata": {},
     "output_type": "display_data"
    },
    {
     "data": {
      "application/vnd.jupyter.widget-view+json": {
       "model_id": "",
       "version_major": 2,
       "version_minor": 0
      },
      "text/plain": [
       "Validation: 0it [00:00, ?it/s]"
      ]
     },
     "metadata": {},
     "output_type": "display_data"
    }
   ],
   "source": [
    "nyse_trainer.fit(nyse_module,\n",
    "datamodule=nyse_dm)"
   ]
  },
  {
   "cell_type": "code",
   "execution_count": 1,
   "id": "fe35bf66",
   "metadata": {},
   "outputs": [
    {
     "name": "stdout",
     "output_type": "stream",
     "text": [
      "1\n"
     ]
    }
   ],
   "source": [
    "print(1)"
   ]
  },
  {
   "cell_type": "code",
   "execution_count": 30,
   "id": "19350645",
   "metadata": {},
   "outputs": [
    {
     "data": {
      "application/vnd.jupyter.widget-view+json": {
       "model_id": "877199048b0e4e4589eda91983799dd1",
       "version_major": 2,
       "version_minor": 0
      },
      "text/plain": [
       "Testing: 0it [00:00, ?it/s]"
      ]
     },
     "metadata": {},
     "output_type": "display_data"
    },
    {
     "name": "stdout",
     "output_type": "stream",
     "text": [
      "────────────────────────────────────────────────────────────────────────────────────────────────────────────────────────\n",
      "Runningstage.testing metric      DataLoader 0\n",
      "────────────────────────────────────────────────────────────────────────────────────────────────────────────────────────\n",
      "        test_loss            0.656101644039154\n",
      "         test_r2            0.37732750177383423\n",
      "────────────────────────────────────────────────────────────────────────────────────────────────────────────────────────\n"
     ]
    },
    {
     "data": {
      "text/plain": [
       "[{'test_loss': 0.656101644039154, 'test_r2': 0.37732750177383423}]"
      ]
     },
     "execution_count": 30,
     "metadata": {},
     "output_type": "execute_result"
    }
   ],
   "source": [
    "nyse_trainer.test(nyse_module,\n",
    "datamodule=nyse_dm)\n",
    "\n"
   ]
  },
  {
   "cell_type": "code",
   "execution_count": 33,
   "id": "c1e07339",
   "metadata": {},
   "outputs": [],
   "source": [
    "datasets = []\n",
    "for mask in [train_idx, ~train_idx]:\n",
    "    X_day_t = torch.tensor(np.asarray(full_df[mask]).astype(np.float32))\n",
    "    y_t = torch.tensor(np.asarray(y[mask]).astype(np.float32))\n",
    "    datasets.append(TensorDataset(X_day_t, y_t))\n",
    "day_train, day_test = datasets"
   ]
  },
  {
   "cell_type": "code",
   "execution_count": 35,
   "id": "ef34fda5",
   "metadata": {},
   "outputs": [],
   "source": [
    "day_dm = SimpleDataModule(day_train, day_test, num_workers=4, validation=day_test, batch_size=64)"
   ]
  },
  {
   "cell_type": "code",
   "execution_count": 41,
   "id": "3f3223f2",
   "metadata": {},
   "outputs": [],
   "source": [
    "class NonLinearARModel(nn.Module):\n",
    "    def __init__(self):\n",
    "        super(NonLinearARModel, self).__init__()\n",
    "        self._forward = nn.Sequential(nn.Flatten(), nn.Linear(19, 32), nn.ReLU(), nn.Dropout(0.5), nn.Linear(32, 1))\n",
    "        \n",
    "    def forward(self, x):\n",
    "        return torch.flatten(self._forward(x))"
   ]
  },
  {
   "cell_type": "code",
   "execution_count": 43,
   "id": "ac4bf748",
   "metadata": {},
   "outputs": [],
   "source": [
    "nl_model = NonLinearARModel()\n",
    "nl_optimizer = RMSprop(nl_model.parameters(),\n",
    "lr=0.001)\n",
    "nl_module = SimpleModule.regression(nl_model,\n",
    "optimizer=nl_optimizer , metrics={'r2':R2Score()})"
   ]
  },
  {
   "cell_type": "code",
   "execution_count": 44,
   "id": "94041aae",
   "metadata": {},
   "outputs": [
    {
     "name": "stderr",
     "output_type": "stream",
     "text": [
      "GPU available: False, used: False\n",
      "TPU available: False, using: 0 TPU cores\n",
      "IPU available: False, using: 0 IPUs\n",
      "HPU available: False, using: 0 HPUs\n"
     ]
    }
   ],
   "source": [
    "nl_trainer = Trainer(deterministic=True, max_epochs=20,\n",
    "callbacks=[ErrorTracker()])"
   ]
  },
  {
   "cell_type": "code",
   "execution_count": 45,
   "id": "6273f1e9",
   "metadata": {},
   "outputs": [
    {
     "name": "stderr",
     "output_type": "stream",
     "text": [
      "\n",
      "  | Name  | Type             | Params\n",
      "-------------------------------------------\n",
      "0 | model | NonLinearARModel | 673   \n",
      "1 | loss  | MSELoss          | 0     \n",
      "-------------------------------------------\n",
      "673       Trainable params\n",
      "0         Non-trainable params\n",
      "673       Total params\n",
      "0.003     Total estimated model params size (MB)\n"
     ]
    },
    {
     "data": {
      "application/vnd.jupyter.widget-view+json": {
       "model_id": "",
       "version_major": 2,
       "version_minor": 0
      },
      "text/plain": [
       "Sanity Checking: 0it [00:00, ?it/s]"
      ]
     },
     "metadata": {},
     "output_type": "display_data"
    },
    {
     "data": {
      "application/vnd.jupyter.widget-view+json": {
       "model_id": "f9f5c814284640919a324cbc741b8e08",
       "version_major": 2,
       "version_minor": 0
      },
      "text/plain": [
       "Training: 0it [00:00, ?it/s]"
      ]
     },
     "metadata": {},
     "output_type": "display_data"
    },
    {
     "data": {
      "application/vnd.jupyter.widget-view+json": {
       "model_id": "",
       "version_major": 2,
       "version_minor": 0
      },
      "text/plain": [
       "Validation: 0it [00:00, ?it/s]"
      ]
     },
     "metadata": {},
     "output_type": "display_data"
    },
    {
     "data": {
      "application/vnd.jupyter.widget-view+json": {
       "model_id": "",
       "version_major": 2,
       "version_minor": 0
      },
      "text/plain": [
       "Validation: 0it [00:00, ?it/s]"
      ]
     },
     "metadata": {},
     "output_type": "display_data"
    },
    {
     "data": {
      "application/vnd.jupyter.widget-view+json": {
       "model_id": "",
       "version_major": 2,
       "version_minor": 0
      },
      "text/plain": [
       "Validation: 0it [00:00, ?it/s]"
      ]
     },
     "metadata": {},
     "output_type": "display_data"
    },
    {
     "data": {
      "application/vnd.jupyter.widget-view+json": {
       "model_id": "",
       "version_major": 2,
       "version_minor": 0
      },
      "text/plain": [
       "Validation: 0it [00:00, ?it/s]"
      ]
     },
     "metadata": {},
     "output_type": "display_data"
    },
    {
     "data": {
      "application/vnd.jupyter.widget-view+json": {
       "model_id": "",
       "version_major": 2,
       "version_minor": 0
      },
      "text/plain": [
       "Validation: 0it [00:00, ?it/s]"
      ]
     },
     "metadata": {},
     "output_type": "display_data"
    },
    {
     "data": {
      "application/vnd.jupyter.widget-view+json": {
       "model_id": "",
       "version_major": 2,
       "version_minor": 0
      },
      "text/plain": [
       "Validation: 0it [00:00, ?it/s]"
      ]
     },
     "metadata": {},
     "output_type": "display_data"
    },
    {
     "data": {
      "application/vnd.jupyter.widget-view+json": {
       "model_id": "",
       "version_major": 2,
       "version_minor": 0
      },
      "text/plain": [
       "Validation: 0it [00:00, ?it/s]"
      ]
     },
     "metadata": {},
     "output_type": "display_data"
    },
    {
     "data": {
      "application/vnd.jupyter.widget-view+json": {
       "model_id": "",
       "version_major": 2,
       "version_minor": 0
      },
      "text/plain": [
       "Validation: 0it [00:00, ?it/s]"
      ]
     },
     "metadata": {},
     "output_type": "display_data"
    },
    {
     "data": {
      "application/vnd.jupyter.widget-view+json": {
       "model_id": "",
       "version_major": 2,
       "version_minor": 0
      },
      "text/plain": [
       "Validation: 0it [00:00, ?it/s]"
      ]
     },
     "metadata": {},
     "output_type": "display_data"
    },
    {
     "data": {
      "application/vnd.jupyter.widget-view+json": {
       "model_id": "",
       "version_major": 2,
       "version_minor": 0
      },
      "text/plain": [
       "Validation: 0it [00:00, ?it/s]"
      ]
     },
     "metadata": {},
     "output_type": "display_data"
    },
    {
     "data": {
      "application/vnd.jupyter.widget-view+json": {
       "model_id": "",
       "version_major": 2,
       "version_minor": 0
      },
      "text/plain": [
       "Validation: 0it [00:00, ?it/s]"
      ]
     },
     "metadata": {},
     "output_type": "display_data"
    },
    {
     "data": {
      "application/vnd.jupyter.widget-view+json": {
       "model_id": "",
       "version_major": 2,
       "version_minor": 0
      },
      "text/plain": [
       "Validation: 0it [00:00, ?it/s]"
      ]
     },
     "metadata": {},
     "output_type": "display_data"
    },
    {
     "data": {
      "application/vnd.jupyter.widget-view+json": {
       "model_id": "",
       "version_major": 2,
       "version_minor": 0
      },
      "text/plain": [
       "Validation: 0it [00:00, ?it/s]"
      ]
     },
     "metadata": {},
     "output_type": "display_data"
    },
    {
     "data": {
      "application/vnd.jupyter.widget-view+json": {
       "model_id": "",
       "version_major": 2,
       "version_minor": 0
      },
      "text/plain": [
       "Validation: 0it [00:00, ?it/s]"
      ]
     },
     "metadata": {},
     "output_type": "display_data"
    },
    {
     "data": {
      "application/vnd.jupyter.widget-view+json": {
       "model_id": "",
       "version_major": 2,
       "version_minor": 0
      },
      "text/plain": [
       "Validation: 0it [00:00, ?it/s]"
      ]
     },
     "metadata": {},
     "output_type": "display_data"
    },
    {
     "data": {
      "application/vnd.jupyter.widget-view+json": {
       "model_id": "",
       "version_major": 2,
       "version_minor": 0
      },
      "text/plain": [
       "Validation: 0it [00:00, ?it/s]"
      ]
     },
     "metadata": {},
     "output_type": "display_data"
    },
    {
     "data": {
      "application/vnd.jupyter.widget-view+json": {
       "model_id": "",
       "version_major": 2,
       "version_minor": 0
      },
      "text/plain": [
       "Validation: 0it [00:00, ?it/s]"
      ]
     },
     "metadata": {},
     "output_type": "display_data"
    },
    {
     "data": {
      "application/vnd.jupyter.widget-view+json": {
       "model_id": "",
       "version_major": 2,
       "version_minor": 0
      },
      "text/plain": [
       "Validation: 0it [00:00, ?it/s]"
      ]
     },
     "metadata": {},
     "output_type": "display_data"
    },
    {
     "data": {
      "application/vnd.jupyter.widget-view+json": {
       "model_id": "",
       "version_major": 2,
       "version_minor": 0
      },
      "text/plain": [
       "Validation: 0it [00:00, ?it/s]"
      ]
     },
     "metadata": {},
     "output_type": "display_data"
    },
    {
     "data": {
      "application/vnd.jupyter.widget-view+json": {
       "model_id": "",
       "version_major": 2,
       "version_minor": 0
      },
      "text/plain": [
       "Validation: 0it [00:00, ?it/s]"
      ]
     },
     "metadata": {},
     "output_type": "display_data"
    }
   ],
   "source": [
    "nl_trainer.fit(nl_module, datamodule=day_dm)\n"
   ]
  },
  {
   "cell_type": "code",
   "execution_count": 46,
   "id": "63fe40d6",
   "metadata": {},
   "outputs": [
    {
     "data": {
      "application/vnd.jupyter.widget-view+json": {
       "model_id": "c60290c7d21d4cdc898c312261f19903",
       "version_major": 2,
       "version_minor": 0
      },
      "text/plain": [
       "Testing: 0it [00:00, ?it/s]"
      ]
     },
     "metadata": {},
     "output_type": "display_data"
    },
    {
     "name": "stdout",
     "output_type": "stream",
     "text": [
      "────────────────────────────────────────────────────────────────────────────────────────────────────────────────────────\n",
      "Runningstage.testing metric      DataLoader 0\n",
      "────────────────────────────────────────────────────────────────────────────────────────────────────────────────────────\n",
      "        test_loss           0.5669869184494019\n",
      "         test_r2            0.4619017243385315\n",
      "────────────────────────────────────────────────────────────────────────────────────────────────────────────────────────\n"
     ]
    },
    {
     "data": {
      "text/plain": [
       "[{'test_loss': 0.5669869184494019, 'test_r2': 0.4619017243385315}]"
      ]
     },
     "execution_count": 46,
     "metadata": {},
     "output_type": "execute_result"
    }
   ],
   "source": [
    "nl_trainer.test(nl_module, datamodule=day_dm)"
   ]
  },
  {
   "cell_type": "code",
   "execution_count": null,
   "id": "64f83945",
   "metadata": {},
   "outputs": [],
   "source": []
  }
 ],
 "metadata": {
  "kernelspec": {
   "display_name": "Python 3 (ipykernel)",
   "language": "python",
   "name": "python3"
  },
  "language_info": {
   "codemirror_mode": {
    "name": "ipython",
    "version": 3
   },
   "file_extension": ".py",
   "mimetype": "text/x-python",
   "name": "python",
   "nbconvert_exporter": "python",
   "pygments_lexer": "ipython3",
   "version": "3.11.3"
  }
 },
 "nbformat": 4,
 "nbformat_minor": 5
}
